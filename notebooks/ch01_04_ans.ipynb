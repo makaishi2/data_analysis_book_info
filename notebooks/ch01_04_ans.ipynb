{
  "cells": [
    {
      "cell_type": "markdown",
      "metadata": {
        "id": "Os7nTmf9CJHF"
      },
      "source": [
        "## 1.4 データ型と算術演算"
      ]
    },
    {
      "cell_type": "markdown",
      "metadata": {
        "id": "_sADjAnOCYpX"
      },
      "source": [
        "### 問題\n",
        "　変数a, b, cにそれぞれ値1000, 2000, 3000を代入します。  \n",
        "　次に、3つの変数それぞれを整数の範囲で7で割ったあまりを計算し、3つのあまりをすべて足した結果をdに代入して下さい。  \n",
        "　dの計算方法はいろいろありますが、1-4-3項で説明した累算代入演算子をうまく使って計算して下さい。\n"
      ]
    },
    {
      "cell_type": "code",
      "execution_count": null,
      "metadata": {
        "colab": {
          "base_uri": "https://localhost:8080/"
        },
        "id": "Vs2Rt17PaZN5",
        "outputId": "9db9527e-f1c3-4bc3-d7b2-8264d481def4"
      },
      "outputs": [
        {
          "name": "stdout",
          "output_type": "stream",
          "text": [
            "15\n"
          ]
        }
      ],
      "source": [
        "# 変数a, b, cの値をそれぞれ設定します\n",
        "a = 1000\n",
        "b = 2000\n",
        "c = 3000\n",
        "\n",
        "# aを7で割った余りを変数dに代入」します\n",
        "# 1.4.2項　コード1-4-11参照\n",
        "d = a % 7\n",
        "\n",
        "# 上の結果に、累算代入演算子を利用してbを7で割ったあまりを加えて下さい\n",
        "# 1.4.3項　コード1-4-13参照\n",
        "d += b % 7\n",
        "\n",
        "# 更にその結果に、ｃを7で割った余りを加えます\n",
        "d += c % 7\n",
        "\n",
        "# print関数で結果を表示します。\n",
        "print(d)\n"
      ]
    }
  ],
  "metadata": {
    "colab": {
      "collapsed_sections": [],
      "name": "ch01_04_ans.ipynb",
      "provenance": [],
      "toc_visible": true
    },
    "kernelspec": {
      "display_name": "Python 3",
      "name": "python3"
    },
    "language_info": {
      "name": "python"
    }
  },
  "nbformat": 4,
  "nbformat_minor": 0
}
