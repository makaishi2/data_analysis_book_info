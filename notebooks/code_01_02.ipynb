{
  "nbformat": 4,
  "nbformat_minor": 0,
  "metadata": {
    "colab": {
      "name": " code-01-02-01.ipynb",
      "provenance": [],
      "collapsed_sections": [],
      "toc_visible": true
    },
    "kernelspec": {
      "name": "python3",
      "display_name": "Python 3"
    },
    "language_info": {
      "name": "python"
    }
  },
  "cells": [
    {
      "cell_type": "markdown",
      "source": [
        " # 1.2 階乗の計算プログラム"
      ],
      "metadata": {
        "id": "H-mS2VvfJcpB"
      }
    },
    {
      "cell_type": "code",
      "execution_count": null,
      "metadata": {
        "id": "JQhTJQ3oJbRw"
      },
      "outputs": [],
      "source": [
        "# 階乗計算のプログラム\n",
        "\n",
        "# ループカウントNの定義\n",
        "N = 10\n",
        "\n",
        "# 階乗結果の保存先\n",
        "fact = 1\n",
        "\n",
        "# ループ処理\n",
        "for i in range(1, N+1):\n",
        "    # 階乗計算\n",
        "    fact *= i\n",
        "\n",
        "    # 結果表示用文字列の生成\n",
        "    output = f'{i}の階乗は{fact}'\n",
        "\n",
        "    # 結果表示\n",
        "    print(output)"
      ]
    },
    {
      "cell_type": "code",
      "source": [
        ""
      ],
      "metadata": {
        "id": "mN66D_2SionL"
      },
      "execution_count": null,
      "outputs": []
    }
  ]
}