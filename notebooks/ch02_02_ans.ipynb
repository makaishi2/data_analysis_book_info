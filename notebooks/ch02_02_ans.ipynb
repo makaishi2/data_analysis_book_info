{
  "nbformat": 4,
  "nbformat_minor": 0,
  "metadata": {
    "colab": {
      "name": "ch02_02_ans.ipynb",
      "provenance": [],
      "collapsed_sections": []
    },
    "kernelspec": {
      "name": "python3",
      "display_name": "Python 3"
    },
    "language_info": {
      "name": "python"
    }
  },
  "cells": [
    {
      "cell_type": "markdown",
      "source": [
        "## 2.2節 NumPy入門\n"
      ],
      "metadata": {
        "id": "dvDkUgyQ_w9E"
      }
    },
    {
      "cell_type": "code",
      "source": [
        "# NumPyのインポート\n",
        "import numpy as np\n",
        "\n",
        "# NumPy表示形式の設定\n",
        "np.set_printoptions(\n",
        "    suppress=True, precision=4, floatmode='fixed'\n",
        ")"
      ],
      "metadata": {
        "id": "r1NK-NLn__OX"
      },
      "execution_count": 1,
      "outputs": []
    },
    {
      "cell_type": "markdown",
      "source": [
        "### 演習問題\n",
        "行列 n2の最初の列の値が3で割り切れない行を残し、割り切れた行を消す処理をします。  \n",
        "その処理の結果、残された行をまとめて新しい行列を作ってください。"
      ],
      "metadata": {
        "id": "yfIvqUqa_6W4"
      }
    },
    {
      "cell_type": "code",
      "source": [
        "# array関数による表形式の変数の定義\n",
        "n2 = np.array([\n",
        "    [1, 2, 3, 4],\n",
        "    [5, 6, 7, 8],\n",
        "    [9, 10, 11, 12]\n",
        "])\n",
        "\n",
        "# n2の最初の列を抽出し、ベクトル変数a1とします。\n",
        "# 2.2.4項　コード2-2-12\n",
        "a1 = n2[:, 0]\n",
        "print(a1)\n",
        "\n",
        "# ブロードキャスト機能を用いて、a1の各要素が\n",
        "# 3で割った余りを示す配列a2を計算します\n",
        "# 2.2.5項　コード2-2-18\n",
        "# 割った余りの演算については1.4.2項　コード1-4-11\n",
        "a2 = a1 % 3\n",
        "print(a2)\n",
        "\n",
        "# 再度ブロードキャスト機能を用いて、a1の各要素が\n",
        "# 3で割り切れるかどうかを示す配列a3を作ります\n",
        "# 2.2.5項　コード2-2-18\n",
        "# 比較演算については1.5.1項\n",
        "a3 = a2 != 0\n",
        "print(a3)\n",
        "\n",
        "# 変数a3を用いて、　n2から必要な行だけを残す計算をし\n",
        "# 結果をa4に代入します。\n",
        "# 2.2.4項　コード 2-2-14\n",
        "a4 = n2[a3]\n",
        "print(a4)"
      ],
      "metadata": {
        "colab": {
          "base_uri": "https://localhost:8080/"
        },
        "id": "FoeAgiYrASNu",
        "outputId": "8a3d286c-00fe-4f79-a61f-097df33a6532"
      },
      "execution_count": 2,
      "outputs": [
        {
          "output_type": "stream",
          "name": "stdout",
          "text": [
            "[1 5 9]\n",
            "[1 2 0]\n",
            "[ True  True False]\n",
            "[[1 2 3 4]\n",
            " [5 6 7 8]]\n"
          ]
        }
      ]
    },
    {
      "cell_type": "code",
      "source": [
        "# 以上の処理は慣れてくると1行にまとめることも可能です\n",
        "a5 = n2[n2[:, 0] % 3 != 0]\n",
        "print(a5)"
      ],
      "metadata": {
        "colab": {
          "base_uri": "https://localhost:8080/"
        },
        "id": "3OebtJXeAisM",
        "outputId": "ac5bb487-ced3-4185-e50a-a75bd55faa18"
      },
      "execution_count": 3,
      "outputs": [
        {
          "output_type": "stream",
          "name": "stdout",
          "text": [
            "[[1 2 3 4]\n",
            " [5 6 7 8]]\n"
          ]
        }
      ]
    },
    {
      "cell_type": "code",
      "source": [
        ""
      ],
      "metadata": {
        "id": "ay9VWhraBC-2"
      },
      "execution_count": 3,
      "outputs": []
    }
  ]
}