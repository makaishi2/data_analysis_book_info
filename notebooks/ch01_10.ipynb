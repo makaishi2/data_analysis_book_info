{
  "cells": [
    {
      "cell_type": "markdown",
      "metadata": {
        "id": "2-fEZI6tWfZP"
      },
      "source": [
        "## 1.10 やや高度なループ処理"
      ]
    },
    {
      "cell_type": "markdown",
      "metadata": {
        "id": "FPRLd9WnWsk-"
      },
      "source": [
        "### 1.10.1 enumerate関数の利用"
      ]
    },
    {
      "cell_type": "code",
      "execution_count": null,
      "metadata": {
        "id": "OPN40k25clYX"
      },
      "outputs": [],
      "source": [
        "# enumerate関数の挙動の確認\n",
        "s1 = 'サンプル文字列'\n",
        "\n",
        "list(enumerate(s1))"
      ]
    },
    {
      "cell_type": "code",
      "execution_count": null,
      "metadata": {
        "id": "BO93L8p6WbaF"
      },
      "outputs": [],
      "source": [
        "# enumerate関数を利用したループ処理\n",
        "# s: 元のリストの各要素\n",
        "# i: その時のインデックスの値(何番目か)\n",
        "for i, s in enumerate(s1):\n",
        "\n",
        "    # print関数には３つの引数を渡して表示します\n",
        "    print(i+1, '番目の文字は　', s)"
      ]
    },
    {
      "cell_type": "markdown",
      "metadata": {
        "id": "vkWie2ElW4pZ"
      },
      "source": [
        "### 1.10.2 内包表記"
      ]
    },
    {
      "cell_type": "code",
      "execution_count": null,
      "metadata": {
        "id": "AZbLgE4rW8Wn"
      },
      "outputs": [],
      "source": [
        "# 処理対象のリスト\n",
        "cabins = ['B5', 'C22', 'G6']\n",
        "\n",
        "# 内包表記を用いて新しいリストflloorsを作る\n",
        "floors = [x[0] for x in cabins]\n",
        "\n",
        "# 結果の確認\n",
        "print(floors)"
      ]
    },
    {
      "cell_type": "markdown",
      "metadata": {
        "id": "hg2tVZsLW84w"
      },
      "source": [
        "### 演習課題\n",
        "cabins = ['B5', 'C22', 'G6']を処理対象として、各要素の文字列の長さを要素にした新しいリストlengthsを作って下さい。"
      ]
    },
    {
      "cell_type": "code",
      "execution_count": null,
      "metadata": {
        "id": "7X65Dzbn0x_h"
      },
      "outputs": [],
      "source": [
        "# 処理対象のリスト\n",
        "cabins = ['B5', 'C22', 'G6']\n",
        "\n",
        "# 内包表記を用いて新しいリストlengthsを作る\n",
        "\n",
        "\n",
        "# 結果の確認\n",
        "print(lengths)"
      ]
    }
  ],
  "metadata": {
    "colab": {
      "collapsed_sections": [],
      "provenance": [],
      "toc_visible": true
    },
    "kernelspec": {
      "display_name": "Python 3",
      "name": "python3"
    },
    "language_info": {
      "name": "python"
    }
  },
  "nbformat": 4,
  "nbformat_minor": 0
}