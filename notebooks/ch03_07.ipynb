{
  "nbformat": 4,
  "nbformat_minor": 0,
  "metadata": {
    "colab": {
      "provenance": [],
      "toc_visible": true
    },
    "kernelspec": {
      "name": "python3",
      "display_name": "Python 3"
    },
    "language_info": {
      "name": "python"
    }
  },
  "cells": [
    {
      "cell_type": "markdown",
      "source": [
        "## 3.7 日付データの処理"
      ],
      "metadata": {
        "id": "89VTfx7Dc6mh"
      }
    },
    {
      "cell_type": "markdown",
      "source": [
        "### 共通処理"
      ],
      "metadata": {
        "id": "RJSUmZLlddLg"
      }
    },
    {
      "cell_type": "code",
      "source": [
        "# 日本語化ライブラリ導入\n",
        "!pip install japanize-matplotlib | tail -n 1"
      ],
      "metadata": {
        "id": "EZ7JlMa3dgNQ"
      },
      "execution_count": null,
      "outputs": []
    },
    {
      "cell_type": "code",
      "source": [
        "# ライブラリのimport\n",
        "\n",
        "# NumPy用ライブラリ\n",
        "import numpy as np\n",
        "\n",
        "# Matplotlib中のpyplotライブラリのインポート\n",
        "import matplotlib.pyplot as plt\n",
        "\n",
        "# matplotlib日本語化対応ライブラリのインポート\n",
        "import japanize_matplotlib\n",
        "\n",
        "# pandas用ライブラリ\n",
        "import pandas as pd\n",
        "\n",
        "# データフレーム表示用関数\n",
        "from IPython.display import display\n",
        "\n",
        "# seaborn\n",
        "import seaborn as sns"
      ],
      "metadata": {
        "id": "oa2YmNIQdgW6"
      },
      "execution_count": null,
      "outputs": []
    },
    {
      "cell_type": "code",
      "source": [
        "# 表示オプション調整\n",
        "\n",
        "# NumPy表示形式の設定\n",
        "np.set_printoptions(\n",
        "    suppress=True, precision=4, floatmode='fixed'\n",
        ")\n",
        "\n",
        "# グラフのデフォルトフォント指定\n",
        "plt.rcParams[\"font.size\"] = 14\n",
        "\n",
        "# サイズ設定\n",
        "plt.rcParams['figure.figsize'] = (6, 6)\n",
        "\n",
        "# 方眼表示ON\n",
        "plt.rcParams['axes.grid'] = True\n",
        "\n",
        "# データフレームでの表示精度\n",
        "pd.options.display.float_format = '{:.4f}'.format\n",
        "\n",
        "# データフレームですべての項目を表示\n",
        "pd.set_option(\"display.max_columns\",None)"
      ],
      "metadata": {
        "id": "RpwV6at0dgdK"
      },
      "execution_count": null,
      "outputs": []
    },
    {
      "cell_type": "markdown",
      "source": [
        "### 3.7.1 read_csv関数のparse_datesオプション"
      ],
      "metadata": {
        "id": "8XwqgOAhdGmw"
      }
    },
    {
      "cell_type": "code",
      "execution_count": null,
      "metadata": {
        "id": "y8y1DVtWc1eZ"
      },
      "outputs": [],
      "source": [
        "# 支払情報\n",
        "url1 = 'https://github.com/makaishi2/samples/raw/main/data/rental5-jp.csv'\n",
        "\n",
        "# 支払情報\n",
        "df1 = pd.read_csv(url1, parse_dates=[4])\n",
        "\n",
        "# 貸出日時順にソート\n",
        "df2 = df1.sort_values('貸出日時')\n",
        "df2 = df2.reset_index(drop=True)\n",
        "\n",
        "# データ型確認\n",
        "print(df2.dtypes)\n",
        "\n",
        "# 結果確認\n",
        "display(df2.head(2))"
      ]
    },
    {
      "cell_type": "markdown",
      "source": [
        "### 3.7.2 日付集計用項目追加"
      ],
      "metadata": {
        "id": "WHP3ctI-Jkpx"
      }
    },
    {
      "cell_type": "code",
      "source": [
        "# 集計単位計算用関数\n",
        "from datetime import datetime\n",
        "\n",
        "# 週単位の日付作成\n",
        "def conv_week_day(ts):\n",
        "\n",
        "    # 日付を年、何週目か、週の何日目かに分解\n",
        "    year, week, day = ts.isocalendar()\n",
        "\n",
        "    # その週の1日目を表現する文字列\n",
        "    str = f'{year} {week} 1'\n",
        "\n",
        "    # 文字列をdatetime型に変換\n",
        "    return datetime.strptime(str, \"%Y %W %w\")\n",
        "\n",
        "# 日単位の日付作成\n",
        "def conv_date(ts):\n",
        "\n",
        "    # Timestampから文字列生成\n",
        "    # str: YYYY-MM-DDThh:mm:ss\n",
        "    str = ts.isoformat()\n",
        "\n",
        "     # 先頭10文字をdatetime型に変換\n",
        "    return datetime.strptime(str[:10], '%Y-%m-%d')"
      ],
      "metadata": {
        "id": "Y1sOAo8-Gfdg"
      },
      "execution_count": null,
      "outputs": []
    },
    {
      "cell_type": "code",
      "source": [
        "df3 = df2.copy()\n",
        "\n",
        "# 集計単位用の項目計算\n",
        "df3.insert(4, '貸出日', df3['貸出日時'].map(conv_date))\n",
        "df3.insert(5, '貸出週', df3['貸出日時'].map(conv_week_day))\n",
        "\n",
        "# 結果確認\n",
        "display(df3.head(2))"
      ],
      "metadata": {
        "id": "CFaBODHYetFh"
      },
      "execution_count": null,
      "outputs": []
    },
    {
      "cell_type": "code",
      "source": [
        "# 参考\n",
        "\n",
        "# 月単位の日付作成\n",
        "def conv_month(ts):\n",
        "    str = ts.isoformat()\n",
        "    # str: YYYY-MM-DDThh:mm:ss\n",
        "    return datetime.strptime(str[:7], '%Y-%m')\n",
        "\n",
        "# 年単位の日付作成\n",
        "def conv_year(ts):\n",
        "    str = ts.isoformat()\n",
        "    # str: YYYY-MM-DDThh:mm:ss\n",
        "    return datetime.strptime(str[:4], \"%Y\")"
      ],
      "metadata": {
        "id": "4D9Cx4FerJ4t"
      },
      "execution_count": null,
      "outputs": []
    },
    {
      "cell_type": "markdown",
      "source": [
        "### 3.7.3 週単位の集計"
      ],
      "metadata": {
        "id": "xkDiwv5xWRIg"
      }
    },
    {
      "cell_type": "code",
      "source": [
        "# 週単位の集計\n",
        "df4 = df3.groupby('貸出週')['レンタル代'].sum()\n",
        "\n",
        "# 結果確認\n",
        "display(df4)"
      ],
      "metadata": {
        "id": "w_MdlSxgXVNQ"
      },
      "execution_count": null,
      "outputs": []
    },
    {
      "cell_type": "code",
      "source": [
        "# 1週間単位のインデックス作成\n",
        "date_index = pd.date_range(\n",
        "    \"2005-05-23\", periods=14, freq=\"W-MON\")\n",
        "print(date_index)"
      ],
      "metadata": {
        "id": "aLdh3NISXVVj"
      },
      "execution_count": null,
      "outputs": []
    },
    {
      "cell_type": "code",
      "source": [
        "# 空の集計表作成\n",
        "rent_fare = pd.Series(0, index=date_index)\n",
        "print(rent_fare)"
      ],
      "metadata": {
        "id": "fYvTvpVWitqr"
      },
      "execution_count": null,
      "outputs": []
    },
    {
      "cell_type": "code",
      "source": [
        "# 売上集計\n",
        "for ts in df4.index:\n",
        "    rent_fare[ts] += df4[ts]\n",
        "\n",
        "# 結果確認\n",
        "print(rent_fare)"
      ],
      "metadata": {
        "id": "zDzpfItwZnP-"
      },
      "execution_count": null,
      "outputs": []
    },
    {
      "cell_type": "markdown",
      "source": [
        "### 3.7.4 集計結果の可視化"
      ],
      "metadata": {
        "id": "Yxi6DHy5J9G1"
      }
    },
    {
      "cell_type": "code",
      "source": [
        "# サイズ設定\n",
        "plt.rcParams['figure.figsize'] = (6, 6)\n",
        "\n",
        "# 棒グラフ描画\n",
        "rent_fare.plot(kind='bar')\n",
        "\n",
        "# タイトル表示\n",
        "plt.title('週単位の売上合計')\n",
        "plt.show()"
      ],
      "metadata": {
        "id": "og99xS964OyP"
      },
      "execution_count": null,
      "outputs": []
    },
    {
      "cell_type": "markdown",
      "source": [
        "### 3.7.5 日付範囲指定"
      ],
      "metadata": {
        "id": "-1dQqN4uMRFY"
      }
    },
    {
      "cell_type": "code",
      "source": [
        "# 日付範囲指定\n",
        "\n",
        "# 開始日　datetime型で定義\n",
        "sday = pd.to_datetime('2005-06-11')\n",
        "\n",
        "# 終了日　datetime型で定義\n",
        "eday = pd.to_datetime('2005-06-18')\n",
        "\n",
        "# 顧客ID\n",
        "uid = 459\n",
        "\n",
        "# queryメソッドで絞り込み　検索条件はすべて変数による指定\n",
        "x2 = df3.query(\n",
        "    '顧客ID == @uid and 貸出日 >=@sday and 貸出日 <= @eday')\n",
        "\n",
        "# 結果確認\n",
        "display(x2)"
      ],
      "metadata": {
        "id": "DFIaS14Fvnul"
      },
      "execution_count": null,
      "outputs": []
    },
    {
      "cell_type": "markdown",
      "source": [
        "### 3.7.6 日付への加減算(relativedelta関数)"
      ],
      "metadata": {
        "id": "nAf0mBQLQAeV"
      }
    },
    {
      "cell_type": "code",
      "source": [
        "# ライブラリインポート\n",
        "from dateutil.relativedelta import relativedelta\n",
        "\n",
        "# 基準日付\n",
        "t1 = x2['貸出日'].iloc[0]\n",
        "\n",
        "# 4日後\n",
        "ts = t1 + relativedelta(days=4)\n",
        "\n",
        "# 14日後\n",
        "te = t1 + relativedelta(days=14)\n",
        "\n",
        "# 結果確認\n",
        "print(t1, type(t1))\n",
        "print(ts, type(ts))\n",
        "print(te, type(te))"
      ],
      "metadata": {
        "id": "gwuZmO1Gzv1J"
      },
      "execution_count": null,
      "outputs": []
    },
    {
      "cell_type": "code",
      "source": [
        "# 計算結果を絞り込み条件に使う\n",
        "x3 = df3.query('顧客ID == @uid and 貸出日 >=@ts and 貸出日 <= @te')\n",
        "\n",
        "# 結果確認\n",
        "display(x3)"
      ],
      "metadata": {
        "id": "BoWUp1ra0OHg"
      },
      "execution_count": null,
      "outputs": []
    },
    {
      "cell_type": "markdown",
      "source": [
        "### 演習問題\n",
        "レンタルビデオ店では顧客離反防止施策の一環として、最近レンタルをしていない顧客をリストアップし、期間限定半額セールのDMを打つこととしました。  \n",
        "顧客絞り込みの基準は「最終貸出日が2005-08-19以前」ということがすでに定まっているものとします。  \n",
        "このとき、貸出情報から該当顧客を洗い出し、顧客情報を用いてDMの宛先をリスト変数形式で作成してください。  \n",
        "リスト作成時は、実習で利用した貸出情報(df3)と下記の顧客情報(df5)を利用して下さい。"
      ],
      "metadata": {
        "id": "dgGYcBYeStTv"
      }
    },
    {
      "cell_type": "code",
      "source": [
        "# 顧客情報\n",
        "url2 = 'https://github.com/makaishi2/samples/raw/main/data/customer-jp.csv'\n",
        "# 顧客情報\n",
        "df5 = pd.read_csv(url2)\n",
        "display(df5.head(1))"
      ],
      "metadata": {
        "id": "EZl2IMT30Wdg"
      },
      "execution_count": null,
      "outputs": []
    },
    {
      "cell_type": "code",
      "source": [
        "# df3から「顧客ID」と「貸出日」の列のみを抽出\n",
        "df6 =\n",
        "\n",
        "# 結果確認\n",
        "display(df6.head(2))"
      ],
      "metadata": {
        "id": "SX770yBZHNxv"
      },
      "execution_count": null,
      "outputs": []
    },
    {
      "cell_type": "code",
      "source": [
        "# 顧客IDごとの最終貸出日を求める\n",
        "# (ヒント)顧客ごとグループ化して「貸出日」の最大値を求めればいい\n",
        "df7 =\n",
        "\n",
        "# 顧客IDをデータフレームの列に戻す\n",
        "df8 =\n",
        "\n",
        "# 結果確認\n",
        "display(df8.head(2))"
      ],
      "metadata": {
        "id": "33LYjFsHHoB7"
      },
      "execution_count": null,
      "outputs": []
    },
    {
      "cell_type": "code",
      "source": [
        "# 最終貸出日が 2005-08-19以前の顧客を絞り込む\n",
        "\n",
        "# 基準日の定義\n",
        "ldate =\n",
        "\n",
        "# queryメソッドで検索\n",
        "df9 =\n",
        "\n",
        "# 結果確認\n",
        "display(df9)"
      ],
      "metadata": {
        "id": "mlIEYKZrHoME"
      },
      "execution_count": null,
      "outputs": []
    },
    {
      "cell_type": "code",
      "source": [
        "# メールアドレス一覧の作成\n",
        "\n",
        "# df5から顧客ID、メールアドレスを抽出\n",
        "df10 =\n",
        "\n",
        "# df9と結合\n",
        "df11 =\n",
        "\n",
        "# 結果確認\n",
        "display(df11.head(2))"
      ],
      "metadata": {
        "id": "JLYTcFLnHoS2"
      },
      "execution_count": null,
      "outputs": []
    },
    {
      "cell_type": "code",
      "source": [
        "# メールアドレスをリスト形式で抽出\n",
        "mlist =\n",
        "\n",
        "# 結果確認\n",
        "print(mlist)"
      ],
      "metadata": {
        "id": "WpIUQ7JxHoYS"
      },
      "execution_count": null,
      "outputs": []
    }
  ]
}