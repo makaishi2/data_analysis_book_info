{
  "cells": [
    {
      "cell_type": "markdown",
      "metadata": {
        "id": "7_B5SQpUXwP-"
      },
      "source": [
        "## 1.7 リストとループ処理"
      ]
    },
    {
      "cell_type": "markdown",
      "metadata": {
        "id": "GL-bII-cX46G"
      },
      "source": [
        "### 問題\n",
        "　変数s1に文字列 'サンプル文字列' を代入します。  \n",
        "　このとき、range関数やループ処理をうまく使って、次のような結果を出力するプログラムを作って下さい。  \n",
        "\n",
        "```\n",
        "1 番目の文字は　 サ\n",
        "2 番目の文字は　 ン\n",
        "3 番目の文字は　 プ\n",
        "4 番目の文字は　 ル\n",
        "5 番目の文字は　 文\n",
        "6 番目の文字は　 字\n",
        "7 番目の文字は　 列\n",
        "```"
      ]
    },
    {
      "cell_type": "code",
      "execution_count": null,
      "metadata": {
        "colab": {
          "base_uri": "https://localhost:8080/"
        },
        "id": "X8YFBlwFMHAz",
        "outputId": "64c78113-4c23-4f33-856f-b67c55565e00"
      },
      "outputs": [
        {
          "name": "stdout",
          "output_type": "stream",
          "text": [
            "1 番目の文字は　 サ\n",
            "2 番目の文字は　 ン\n",
            "3 番目の文字は　 プ\n",
            "4 番目の文字は　 ル\n",
            "5 番目の文字は　 文\n",
            "6 番目の文字は　 字\n",
            "7 番目の文字は　 列\n"
          ]
        }
      ],
      "source": [
        "# 変数s1に文字列を代入します\n",
        "s1 = 'サンプル文字列'\n",
        "\n",
        "# 文字数を計算します\n",
        "# 1.6.1項　コード1-6-2参照\n",
        "N = len(s1)\n",
        "\n",
        "# range関数を使ってループ処理をします\n",
        "# 1.7.2項　コード1-7-9参照\n",
        "for i in range(N):\n",
        "\n",
        "    # print関数には３つの引数を渡して表示します\n",
        "    # 1.7.1項　コード1-7-6参照\n",
        "    print(i+1, '番目の文字は　', s1[i])\n"
      ]
    }
  ],
  "metadata": {
    "colab": {
      "collapsed_sections": [],
      "name": "ch01_07_ans.ipynb",
      "provenance": [],
      "toc_visible": true
    },
    "kernelspec": {
      "display_name": "Python 3",
      "name": "python3"
    },
    "language_info": {
      "name": "python"
    }
  },
  "nbformat": 4,
  "nbformat_minor": 0
}
