{
  "cells": [
    {
      "cell_type": "markdown",
      "metadata": {
        "id": "oHy58F3XCa0H"
      },
      "source": [
        "## 1.9 関数定義"
      ]
    },
    {
      "cell_type": "markdown",
      "metadata": {
        "id": "OTQB_zYhCqwd"
      },
      "source": [
        "### 演習問題\n",
        "\n",
        "(1) 「章番号:章タイトル」の書式の文字列を引数とし「:」によって文字列を章番号、章タイトルに分ける関数div_titleを定義して下さい。  \n",
        "\n",
        "(2) 上で定義した関数を用いて、次の文字列をそれぞれ章番号、章タイトルに分割し、更に章番号を「キー」に、章タイトルを「値」にする辞書title_dictに登録して下さい。  \n",
        "\n",
        "'1章:業務と機械学習プロジェクト'  \n",
        "'2章:機械学習モデルの処理パターン'  \n",
        "'3章:機械学習モデルの開発手順'  \n"
      ]
    },
    {
      "cell_type": "code",
      "execution_count": 6,
      "metadata": {
        "id": "tuAAjF0eCWlx"
      },
      "outputs": [],
      "source": [
        "# (1)の解答\n",
        "# 関数定義\n",
        "def div_title(line):\n",
        "    # 1.9.3節　コード1-9-5\n",
        "    n = line.find(':')\n",
        "    index = line[:n]\n",
        "    title = line[n + 1:]\n",
        "    return index, title\n"
      ]
    },
    {
      "cell_type": "code",
      "execution_count": 7,
      "metadata": {
        "colab": {
          "base_uri": "https://localhost:8080/"
        },
        "id": "lLxuTaSoCw8z",
        "outputId": "c5191441-8a4e-46b7-8899-ec0c742ef5cc"
      },
      "outputs": [
        {
          "name": "stdout",
          "output_type": "stream",
          "text": [
            "章番号:  1章   章タイトル:  業務と機械学習プロジェクト\n"
          ]
        }
      ],
      "source": [
        "# (1)のテスト\n",
        "\n",
        "l1 = '1章:業務と機械学習プロジェクト'\n",
        "c1, t1 = div_title(l1)\n",
        "print('章番号: ', c1, '  章タイトル: ', t1)\n"
      ]
    },
    {
      "cell_type": "code",
      "execution_count": 8,
      "metadata": {
        "id": "CwMbHlZnCxLY"
      },
      "outputs": [],
      "source": [
        "# (2)の解答\n",
        "# 空の辞書の定義\n",
        "title_dict = {}\n",
        "\n",
        "# 処理対象テキストのリスト\n",
        "title_list = [\n",
        "    '1章:業務と機械学習プロジェクト',\n",
        "    '2章:機械学習モデルの処理パターン',\n",
        "    '3章:機械学習モデルの開発手順'\n",
        "]\n",
        "\n",
        "# ループ処理\n",
        "for line in title_list:\n",
        "\n",
        "    # 対象テキストを章番号と章タイトルに分離\n",
        "    # 1.9.3項　コード1-9-6\n",
        "    index, title = div_title(line)\n",
        "\n",
        "    # 分離結果を用いて辞書登録\n",
        "    # 1.8.3項　コード　1-8-12\n",
        "    title_dict[index] = title\n"
      ]
    },
    {
      "cell_type": "code",
      "execution_count": 9,
      "metadata": {
        "colab": {
          "base_uri": "https://localhost:8080/"
        },
        "id": "yxM9ngb3CxYJ",
        "outputId": "aca70dc3-d925-41f4-c031-51b4fa35f15e"
      },
      "outputs": [
        {
          "name": "stdout",
          "output_type": "stream",
          "text": [
            "3章 機械学習モデルの開発手順\n"
          ]
        }
      ],
      "source": [
        "# (2)の結果テスト\n",
        "\n",
        "print('3章', title_dict['3章'])\n"
      ]
    }
  ],
  "metadata": {
    "colab": {
      "collapsed_sections": [],
      "name": "ch01_11_ans.ipynb",
      "provenance": [],
      "toc_visible": true
    },
    "kernelspec": {
      "display_name": "Python 3",
      "name": "python3"
    },
    "language_info": {
      "name": "python"
    }
  },
  "nbformat": 4,
  "nbformat_minor": 0
}
