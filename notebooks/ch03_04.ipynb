{
  "nbformat": 4,
  "nbformat_minor": 0,
  "metadata": {
    "colab": {
      "provenance": [],
      "collapsed_sections": [],
      "toc_visible": true
    },
    "kernelspec": {
      "name": "python3",
      "display_name": "Python 3"
    },
    "language_info": {
      "name": "python"
    }
  },
  "cells": [
    {
      "cell_type": "markdown",
      "source": [
        "## 3.4 データ集計\n"
      ],
      "metadata": {
        "id": "xnJW875zfG7S"
      }
    },
    {
      "cell_type": "markdown",
      "source": [
        "### 共通処理"
      ],
      "metadata": {
        "id": "iwNb-4E6HM7i"
      }
    },
    {
      "cell_type": "code",
      "execution_count": null,
      "metadata": {
        "id": "D5lnfGWde2XM"
      },
      "outputs": [],
      "source": [
        "# 日本語化ライブラリ導入\n",
        "!pip install japanize-matplotlib | tail -n 1"
      ]
    },
    {
      "cell_type": "code",
      "source": [
        "# ライブラリのimport\n",
        "\n",
        "# NumPy用ライブラリ\n",
        "import numpy as np\n",
        "\n",
        "# Matplotlib中のpyplotライブラリのインポート\n",
        "import matplotlib.pyplot as plt\n",
        "\n",
        "# matplotlib日本語化対応ライブラリのインポート\n",
        "import japanize_matplotlib\n",
        "\n",
        "# pandas用ライブラリ\n",
        "import pandas as pd\n",
        "\n",
        "# データフレーム表示用関数\n",
        "from IPython.display import display"
      ],
      "metadata": {
        "id": "E4cLemzqW8im"
      },
      "execution_count": null,
      "outputs": []
    },
    {
      "cell_type": "code",
      "source": [
        "# 表示オプション調整\n",
        "\n",
        "# NumPy表示形式の設定\n",
        "np.set_printoptions(\n",
        "    suppress=True, precision=4, floatmode='fixed'\n",
        ")\n",
        "\n",
        "# グラフのデフォルトフォント指定\n",
        "plt.rcParams[\"font.size\"] = 14\n",
        "\n",
        "# サイズ設定\n",
        "plt.rcParams['figure.figsize'] = (6, 6)\n",
        "\n",
        "# 方眼表示ON\n",
        "plt.rcParams['axes.grid'] = True\n",
        "\n",
        "\n",
        "# データフレームでの表示精度\n",
        "pd.options.display.float_format = '{:.4f}'.format\n",
        "\n",
        "# データフレームですべての項目を表示\n",
        "pd.set_option(\"display.max_columns\", None)"
      ],
      "metadata": {
        "id": "vv_lMm9qW8ul"
      },
      "execution_count": null,
      "outputs": []
    },
    {
      "cell_type": "markdown",
      "source": [
        " ### 3.4.2 ファイルダウンロード"
      ],
      "metadata": {
        "id": "xUJJxdTtX43w"
      }
    },
    {
      "cell_type": "code",
      "source": [
        "# URL指定\n",
        "zip_url = 'https://archive.ics.uci.edu/ml/machine-learning-databases/00222/bank.zip'\n",
        "fn = 'bank-full.csv'\n",
        "\n",
        "# 公開データのダウンロードと解凍\n",
        "!wget $zip_url\n",
        "!unzip -o bank.zip"
      ],
      "metadata": {
        "id": "enhvFSlQf6W6"
      },
      "execution_count": null,
      "outputs": []
    },
    {
      "cell_type": "code",
      "source": [
        "# ファイルの先頭5行の内容確認\n",
        "!head -5 bank.csv"
      ],
      "metadata": {
        "id": "B-9FDmeHc6xi"
      },
      "execution_count": null,
      "outputs": []
    },
    {
      "cell_type": "markdown",
      "source": [
        "* ヘッダ行あり\n",
        "* 区切り文字はセミコロン\n",
        "* NULL値は'unknown'\n",
        "* True / Falseは'yes' / 'no'\n",
        "* 文字列のクオートはダブルクオート(これはオプション指定不要)"
      ],
      "metadata": {
        "id": "nunIa5XbdPZ2"
      }
    },
    {
      "cell_type": "markdown",
      "source": [
        "### 3.4.3 CSVファイル読み込み"
      ],
      "metadata": {
        "id": "ZFyuggJQfRXw"
      }
    },
    {
      "cell_type": "markdown",
      "source": [
        "#### 読み込み"
      ],
      "metadata": {
        "id": "hGGSKpHbFBJD"
      }
    },
    {
      "cell_type": "code",
      "source": [
        "# bank-full.csvをデータフレームに取り込み\n",
        "df = pd.read_csv(\n",
        "    fn,\n",
        "    sep=';',\n",
        "    na_values='unknown',\n",
        "    true_values=['yes'],\n",
        "    false_values=['no'])\n",
        "\n",
        "# 結果確認 \n",
        "display(df.head(2))"
      ],
      "metadata": {
        "id": "XtI27aO8gKjb"
      },
      "execution_count": null,
      "outputs": []
    },
    {
      "cell_type": "markdown",
      "source": [
        "### 3.4.4 データ確認・加工"
      ],
      "metadata": {
        "id": "264gr-P3K5Dr"
      }
    },
    {
      "cell_type": "markdown",
      "source": [
        "#### 項目名差し替え"
      ],
      "metadata": {
        "id": "J6oqVFoaFF9F"
      }
    },
    {
      "cell_type": "code",
      "source": [
        "# 項目名の日本語定義\n",
        "columns = [\n",
        "    '年齢', '職業', '婚姻', '学歴', '債務不履行', '平均残高',\n",
        "    '住宅ローン', '個人ローン', '連絡手段', '最終通話日',\n",
        "    '最終通話月', '最終通話秒数', '通話回数_販促中',\n",
        "    '前回販促後_経過日数', '通話回数_販促前', '前回販促結果',\n",
        "    '今回販促結果'\n",
        "]\n",
        "# 項目名差し替え\n",
        "df2 = df.copy()\n",
        "df2.columns = columns"
      ],
      "metadata": {
        "id": "eO45PQ7Nr4Bq"
      },
      "execution_count": null,
      "outputs": []
    },
    {
      "cell_type": "code",
      "source": [
        "# 項目順番入れ替え\n",
        "# 一番うしろの「今回販促結果」を一番前にする\n",
        "# 「個人ローン」より後ろの項目を落とす\n",
        "columns1 = list(df2.columns)\n",
        "print(columns1)\n",
        "columns2 = columns1[-1:] + columns1[:-9]\n",
        "print(columns2)\n",
        "df2 = df2[columns2]"
      ],
      "metadata": {
        "id": "EApxsDPbGtxx"
      },
      "execution_count": null,
      "outputs": []
    },
    {
      "cell_type": "markdown",
      "source": [
        "#### データ内容確認"
      ],
      "metadata": {
        "id": "OEduKsVQFJ5-"
      }
    },
    {
      "cell_type": "code",
      "source": [
        "# データ内容確認\n",
        "display(df2.head())"
      ],
      "metadata": {
        "id": "gnUfUdXSgxC4"
      },
      "execution_count": null,
      "outputs": []
    },
    {
      "cell_type": "markdown",
      "source": [
        "#### データ型確認\n"
      ],
      "metadata": {
        "id": "037-ZWB1FOe5"
      }
    },
    {
      "cell_type": "code",
      "source": [
        "# データ型確認\n",
        "df2.dtypes"
      ],
      "metadata": {
        "id": "zeaXf6Q2sPJC"
      },
      "execution_count": null,
      "outputs": []
    },
    {
      "cell_type": "markdown",
      "source": [
        "#### 欠損値確認"
      ],
      "metadata": {
        "id": "-THOxI9_FXA_"
      }
    },
    {
      "cell_type": "code",
      "source": [
        "#　欠損値確認\n",
        "df2.isnull().sum()"
      ],
      "metadata": {
        "id": "OTlz6m6863va"
      },
      "execution_count": null,
      "outputs": []
    },
    {
      "cell_type": "markdown",
      "source": [
        "#### 統計値確認　数値項目"
      ],
      "metadata": {
        "id": "g-ryTj-5Falp"
      }
    },
    {
      "cell_type": "code",
      "source": [
        "# 統計値\n",
        "df2.describe()"
      ],
      "metadata": {
        "id": "G0NDg0SU7HHq"
      },
      "execution_count": null,
      "outputs": []
    },
    {
      "cell_type": "markdown",
      "source": [
        "#### 統計値確認　文字列型"
      ],
      "metadata": {
        "id": "mHpYQivfFjXG"
      }
    },
    {
      "cell_type": "code",
      "source": [
        "# 統計値(文字列型)\n",
        "df2.describe(include='O')"
      ],
      "metadata": {
        "id": "jhOQjTvH7P2G"
      },
      "execution_count": null,
      "outputs": []
    },
    {
      "cell_type": "markdown",
      "source": [
        "### 3.4.5 グループごとの集計(groupbyメソッド)"
      ],
      "metadata": {
        "id": "VItgY61rl6kK"
      }
    },
    {
      "cell_type": "code",
      "source": [
        "# 学歴による集計結果\n",
        "df_gr1 = df2.groupby('学歴').mean()\n",
        "\n",
        "# 結果確認\n",
        "display(df_gr1)"
      ],
      "metadata": {
        "id": "ubGKIl4uGLDJ"
      },
      "execution_count": null,
      "outputs": []
    },
    {
      "cell_type": "code",
      "source": [
        "#  職業による集計結果\n",
        "df_gr2 = df2.groupby('職業').mean(\n",
        ").sort_values('今回販促結果', ascending=False)\n",
        "\n",
        "# 結果確認\n",
        "display(df_gr2)"
      ],
      "metadata": {
        "id": "14rH8CsyOtVP"
      },
      "execution_count": null,
      "outputs": []
    },
    {
      "cell_type": "markdown",
      "source": [
        "### 3.4.6 出現頻度のクロス集計(crosstabメソッド)"
      ],
      "metadata": {
        "id": "pXQ0_i6kmB0w"
      }
    },
    {
      "cell_type": "code",
      "source": [
        "# 出現頻度のクロス集計\n",
        "# 「職業」「学歴」の2軸で頻度を集計する\n",
        "df_crosstab = pd.crosstab(\n",
        "    index=df2['職業'], \n",
        "    columns=df2['学歴'],\n",
        "    margins=True)\n",
        "\n",
        "# 結果確認\n",
        "display(df_crosstab)"
      ],
      "metadata": {
        "id": "o4RHY4Oau6WE"
      },
      "execution_count": null,
      "outputs": []
    },
    {
      "cell_type": "code",
      "source": [
        "# 出現頻度のクロス集計\n",
        "# 「職業」「学歴」の2軸で頻度を集計する\n",
        "#  行方向の比率計算とする\n",
        "df_crosstab2 = pd.crosstab(\n",
        "    index=df2['職業'], \n",
        "    columns=df2['学歴'],\n",
        "    normalize='index',\n",
        "    margins=True)\n",
        "\n",
        "# 結果確認\n",
        "display(df_crosstab2)"
      ],
      "metadata": {
        "id": "-xrHdeZki03f"
      },
      "execution_count": null,
      "outputs": []
    },
    {
      "cell_type": "markdown",
      "source": [
        "### 3.4.7 項目値のクロス集計(povot  メソッド)"
      ],
      "metadata": {
        "id": "vEHEKha3roZk"
      }
    },
    {
      "cell_type": "code",
      "source": [
        "# 職業と学歴を軸とした、今回販促結果のクロス集計\n",
        "df_pivot = df2.pivot_table(\n",
        "    index='職業', \n",
        "    columns='学歴',\n",
        "    values='今回販促結果', \n",
        "    aggfunc='mean')\n",
        "\n",
        "# 結果確認\n",
        "display(df_pivot)"
      ],
      "metadata": {
        "id": "Nkt4KjHanqbk"
      },
      "execution_count": null,
      "outputs": []
    },
    {
      "cell_type": "markdown",
      "source": [
        "### 演習問題\n",
        "\n",
        "1. 「住宅ローン」の有無が、今回販促結果に影響するかどうかを、groupbyメソッドで調べて下さい\n",
        "2. 「住宅ローン」「学歴」の2軸で頻度分析をして下さい\n",
        "3. 「住宅ローン」「学歴」の2軸で「今回販促結果」のクロス集計をして下さい"
      ],
      "metadata": {
        "id": "ButmFog0i_yA"
      }
    },
    {
      "cell_type": "code",
      "source": [
        "# 1. 住宅ローンの有無が、今回販促結果に影響するか\n",
        "df_gr = \n",
        "\n",
        "# 結果確認\n",
        "display(df_gr)"
      ],
      "metadata": {
        "id": "A3lT9m6etGEF"
      },
      "execution_count": null,
      "outputs": []
    },
    {
      "cell_type": "code",
      "source": [
        "# 2. 「住宅ローン」「学歴」の2軸で頻度分析\n",
        "df_crosstab = \n",
        "\n",
        "\n",
        "\n",
        "# 結果確認\n",
        "display(df_crosstab)"
      ],
      "metadata": {
        "id": "BTP2ZabwAxNn"
      },
      "execution_count": null,
      "outputs": []
    },
    {
      "cell_type": "code",
      "source": [
        "# 3. 「住宅ローン」「学歴」の2軸で「今回販促結果」のクロス集計\n",
        "df_pivot = \n",
        "\n",
        "\n",
        "\n",
        "# 結果確認\n",
        "display(df_pivot)"
      ],
      "metadata": {
        "id": "Addj_7VrEuTb"
      },
      "execution_count": null,
      "outputs": []
    },
    {
      "cell_type": "code",
      "source": [],
      "metadata": {
        "id": "dt4tPU_TAxWJ"
      },
      "execution_count": null,
      "outputs": []
    }
  ]
}