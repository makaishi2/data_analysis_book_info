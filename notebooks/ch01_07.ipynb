{
  "cells": [
    {
      "cell_type": "markdown",
      "metadata": {
        "id": "r4I-S-COjOlH"
      },
      "source": [
        "## 1.7 リストとループ処理"
      ]
    },
    {
      "cell_type": "markdown",
      "metadata": {
        "id": "_H9Kx4dajUb0"
      },
      "source": [
        "### 1.7.1 リスト"
      ]
    },
    {
      "cell_type": "markdown",
      "metadata": {
        "id": "lzPMQp5-kFwV"
      },
      "source": [
        "#### リスト型の定義と性質"
      ]
    },
    {
      "cell_type": "code",
      "execution_count": null,
      "metadata": {
        "id": "1QJhfsb4jcTe"
      },
      "outputs": [],
      "source": [
        "# リスト型の定義と性質\n",
        "\n",
        "# リスト型を定義するときは\n",
        "# [値1, 値2, ..., 値N ]\n",
        "# という書き方をする\n",
        "l1 = [1, 3, 5, 7, 9]\n",
        "\n",
        "# リスト型の型(type)は class 'list'\n",
        "print(type(l1))\n",
        "\n",
        "# print関数にリスト型を直接渡すと、\n",
        "# すべての要素を表示してくれる\n",
        "print(l1)"
      ]
    },
    {
      "cell_type": "markdown",
      "metadata": {
        "id": "8OzaukL9kJr7"
      },
      "source": [
        "#### 参照"
      ]
    },
    {
      "cell_type": "code",
      "execution_count": null,
      "metadata": {
        "id": "VhLrgyM3kNih"
      },
      "outputs": [],
      "source": [
        "# リスト型の個別要素の参照\n",
        "\n",
        "# リスト型変数l1の定義\n",
        "l1 = [1, 3, 5, 7, 9]\n",
        "\n",
        "# 最初の要素のインデックスは0\n",
        "print(l1[0])\n",
        "\n",
        "# 3番目の要素のインデックスは2\n",
        "print(l1[2])\n",
        "\n",
        "# 最後の要素のインデックスは4\n",
        "print(l1[4])\n",
        "\n",
        "# 最後の要素のインデックスは-1とも書ける\n",
        "print(l1[-1])"
      ]
    },
    {
      "cell_type": "code",
      "execution_count": null,
      "metadata": {
        "id": "mMvDF-l1kNrX"
      },
      "outputs": [],
      "source": [
        "# リスト型変数のスライス参照\n",
        "\n",
        "# リスト型変数l1の定義\n",
        "l1 = [1, 3, 5, 7, 9]\n",
        "\n",
        "# インデックス値1以上4未満\n",
        "print(l1[1:4])\n",
        "\n",
        "# 最初のインデックスを省略すると\n",
        "# インデックス値0を指定したのと同じ\n",
        "print(l1[:2])\n",
        "\n",
        "# 2番目のインデックスを省略すると\n",
        "# 「最後の要素まで」という意味になる\n",
        "print(l1[2:])\n",
        "\n",
        "# 2番目のインデックスに-1を指定すると\n",
        "# 「最後の要素だけ除いたすべて」になる\n",
        "print(l1[:-1])"
      ]
    },
    {
      "cell_type": "markdown",
      "metadata": {
        "id": "4jRcwFW9kOOQ"
      },
      "source": [
        "#### 演算"
      ]
    },
    {
      "cell_type": "markdown",
      "metadata": {
        "id": "G0z3pxFBpeMH"
      },
      "source": [
        "##### len関数"
      ]
    },
    {
      "cell_type": "code",
      "execution_count": null,
      "metadata": {
        "id": "WzntEkBXkRfp"
      },
      "outputs": [],
      "source": [
        "# リスト型変数l2の定義\n",
        "# 要素をこのように文字列型にすることも可能です\n",
        "l2 = ['First', 'Second', 'Third']\n",
        "\n",
        "# len関数の呼び出し\n",
        "n = len(l2)\n",
        "\n",
        "# 結果確認\n",
        "print(n)"
      ]
    },
    {
      "cell_type": "markdown",
      "metadata": {
        "id": "MJun1ByrsCiF"
      },
      "source": [
        "##### 加法演算子「+」"
      ]
    },
    {
      "cell_type": "code",
      "execution_count": null,
      "metadata": {
        "id": "fYK4J42TkRof"
      },
      "outputs": [],
      "source": [
        "# リスト変数型l1, l2の定義\n",
        "l1 = [1, 3, 5, 7, 9]\n",
        "l2 = ['First', 'Second', 'Third']\n",
        "\n",
        "# l1とl2を連結した結果をl3とする\n",
        "l3 = l1 + l2\n",
        "\n",
        "# 結果確認\n",
        "print(l3)"
      ]
    },
    {
      "cell_type": "markdown",
      "metadata": {
        "id": "3hKv-5AavPhg"
      },
      "source": [
        "##### 文字列型とリスト型の関係"
      ]
    },
    {
      "cell_type": "code",
      "execution_count": null,
      "metadata": {
        "id": "W07NBCWvvT7-"
      },
      "outputs": [],
      "source": [
        "# 文字列型変数 s1の定義\n",
        "s1 = 'I like an apple.'\n",
        "\n",
        "# s1のインデックス7の要素である「a」を取り出す\n",
        "print(s1[7])\n",
        "\n",
        "# s1からappleにあたる要素をスライス参照\n",
        "print(s1[10:15])"
      ]
    },
    {
      "cell_type": "markdown",
      "metadata": {
        "id": "Zjq1Yd1pzTah"
      },
      "source": [
        "##### appendメソッド"
      ]
    },
    {
      "cell_type": "code",
      "execution_count": null,
      "metadata": {
        "id": "mIIzFaSCzeQQ"
      },
      "outputs": [],
      "source": [
        "# l4の初期値として空リストを設定\n",
        "l4 = []\n",
        "\n",
        "# appendメソッドを使って、\n",
        "# 'First', 'Second', 'Third'を順にリストへ追加\n",
        "l4.append('First')\n",
        "l4.append('Second')\n",
        "l4.appeｎd('Third')\n",
        "\n",
        "# 結果確認\n",
        "print(l4)"
      ]
    },
    {
      "cell_type": "markdown",
      "metadata": {
        "id": "8qKGnU5L5SXJ"
      },
      "source": [
        "##### in演算子"
      ]
    },
    {
      "cell_type": "code",
      "execution_count": null,
      "metadata": {
        "id": "rmdk_kLU5Zmb"
      },
      "outputs": [],
      "source": [
        "# リスト型変数l2の定義\n",
        "l2 = ['First', 'Second', 'Third']\n",
        "\n",
        "# 文字列型変数s4の定義\n",
        "s4 = 'Second'\n",
        "#s4 = 'Fourth'\n",
        "\n",
        "# In演算子による計算\n",
        "c = s4 in l2\n",
        "\n",
        "# 結果確認\n",
        "print(c)"
      ]
    },
    {
      "cell_type": "markdown",
      "metadata": {
        "id": "y38E0rzhjdCF"
      },
      "source": [
        "### 1.7.2 ループ処理"
      ]
    },
    {
      "cell_type": "markdown",
      "metadata": {
        "id": "n2IdfeAGCaUL"
      },
      "source": [
        "#### 基本パターン"
      ]
    },
    {
      "cell_type": "code",
      "execution_count": null,
      "metadata": {
        "id": "DgMW2CjajjDx"
      },
      "outputs": [],
      "source": [
        "# リスト型変数l2の定義\n",
        "l2 = ['First', 'Second', 'Third']\n",
        "\n",
        "# for文によるループ処理\n",
        "for e in l2:\n",
        "    # 繰り返し処理はインデント(字下げ)する\n",
        "    print(e)"
      ]
    },
    {
      "cell_type": "code",
      "execution_count": null,
      "metadata": {
        "id": "BlWCMJFSLlDi"
      },
      "outputs": [],
      "source": [
        "# リスト型変数l2の定義\n",
        "l2 = ['First', 'Second', 'Third']\n",
        "\n",
        "# 最初の要素に対する処理\n",
        "e = l2[0]\n",
        "print(e)\n",
        "\n",
        "# 2番目の要素に対する処理\n",
        "e = l2[1]\n",
        "print(e)\n",
        "\n",
        "# 3番目の要素に対する処理\n",
        "e = l2[2]\n",
        "print(e)"
      ]
    },
    {
      "cell_type": "markdown",
      "metadata": {
        "id": "G9M3FHzICeNq"
      },
      "source": [
        "#### range関数との組み合わせパターン"
      ]
    },
    {
      "cell_type": "code",
      "execution_count": null,
      "metadata": {
        "id": "zMAC_iopjjNI"
      },
      "outputs": [],
      "source": [
        "# リスト型変数l2の定義\n",
        "l2 = ['First', 'Second', 'Third']\n",
        "\n",
        "# 繰り返し数Nをlen関数で求める\n",
        "N = len(l2)\n",
        "\n",
        "# range関数を使った繰り返し処理\n",
        "for i in range(N):\n",
        "    print(i, l2[i])"
      ]
    },
    {
      "cell_type": "markdown",
      "metadata": {
        "id": "8tvCIyiCjjyY"
      },
      "source": [
        " ### 演習問題"
      ]
    },
    {
      "cell_type": "markdown",
      "metadata": {
        "id": "bNYXBqkzWnjl"
      },
      "source": [
        "　\n",
        "　変数s1に文字列 'サンプル文字列' を代入します。  \n",
        "　このとき、range関数やループ処理をうまく使って、次のような結果を出力するプログラムを作って下さい。  \n",
        "\n",
        "```\n",
        "1 番目の文字は　 サ\n",
        "2 番目の文字は　 ン\n",
        "3 番目の文字は　 プ\n",
        "4 番目の文字は　 ル\n",
        "5 番目の文字は　 文\n",
        "6 番目の文字は　 字\n",
        "7 番目の文字は　 列\n",
        "```"
      ]
    },
    {
      "cell_type": "code",
      "execution_count": null,
      "metadata": {
        "id": "-wONi1SNWm1d"
      },
      "outputs": [],
      "source": [
        "# 変数s1に文字列を代入します\n",
        "\n",
        "\n",
        "# 文字数を計算します\n",
        "\n",
        "\n",
        "# range関数を使ってループ処理をします\n",
        "\n",
        "# print関数には３つの引数を渡して表示します\n"
      ]
    }
  ],
  "metadata": {
    "colab": {
      "collapsed_sections": [],
      "provenance": [],
      "toc_visible": true
    },
    "kernelspec": {
      "display_name": "Python 3",
      "name": "python3"
    },
    "language_info": {
      "name": "python"
    }
  },
  "nbformat": 4,
  "nbformat_minor": 0
}