{
  "nbformat": 4,
  "nbformat_minor": 0,
  "metadata": {
    "colab": {
      "name": "ch02_01.ipynb",
      "provenance": [],
      "collapsed_sections": [],
      "toc_visible": true
    },
    "kernelspec": {
      "name": "python3",
      "display_name": "Python 3"
    },
    "language_info": {
      "name": "python"
    }
  },
  "cells": [
    {
      "cell_type": "markdown",
      "source": [
        "## 2.1 ライブラリ"
      ],
      "metadata": {
        "id": "whlKtsmfYs3N"
      }
    },
    {
      "cell_type": "markdown",
      "source": [
        "### 2.1.2 import文"
      ],
      "metadata": {
        "id": "Nc3rbUd5Y_ss"
      }
    },
    {
      "cell_type": "code",
      "execution_count": null,
      "metadata": {
        "id": "U-d-S-3dYpVQ"
      },
      "outputs": [],
      "source": [
        "# 標準ライブラリmathを利用することの宣言\n",
        "import math\n",
        "\n",
        "# mathライブラリのsqrt関数は「math.sqrt」の形で呼び出す\n",
        "r2 = math.sqrt(2)\n",
        "\n",
        "# 計算結果の確認 (2の平方根)\n",
        "print(r2)"
      ]
    },
    {
      "cell_type": "code",
      "source": [
        "# ライブラリ中の特定の関数のみ利用する場合は下記の方法も可\n",
        "from math import sqrt\n",
        "\n",
        "# この場合は、「sqrt」だけで関数を呼び出せる\n",
        "r2 = sqrt(2)\n",
        "\n",
        "# 結果確認\n",
        "print(r2)"
      ],
      "metadata": {
        "id": "CLUJOOQhZUMP"
      },
      "execution_count": null,
      "outputs": []
    },
    {
      "cell_type": "code",
      "source": [
        "# 外部ライブラリnumpyを利用することの宣言\n",
        "# 「as np」は別名定義　利用時は「np.xxx」の形で呼び出すことになる\n",
        "import numpy as np\n",
        "\n",
        "# numpy上の1次元配列宣言(0から2まで0.2刻みの等差数列)\n",
        "x = np.linspace(0, 2, 11)\n",
        "\n",
        "# 結果確認\n",
        "print(x)\n",
        "\n",
        "# numpyのsqrt関数呼び出し\n",
        "y = np.sqrt(x)\n",
        "\n",
        "# 結果確認 (1から10までの平方根が同時に計算できている)\n",
        "print(y)"
      ],
      "metadata": {
        "id": "Eqayf-F_Zeii"
      },
      "execution_count": null,
      "outputs": []
    },
    {
      "cell_type": "code",
      "source": [
        "# 外部ライブラリのバージョン確認方法\n",
        "import numpy\n",
        "print(numpy.__version__)"
      ],
      "metadata": {
        "id": "7Kq_HPPCZraI"
      },
      "execution_count": null,
      "outputs": []
    },
    {
      "cell_type": "markdown",
      "source": [
        "### コラム　メソッドと間違えやすい関数"
      ],
      "metadata": {
        "id": "rsY0G27wNMN5"
      }
    },
    {
      "cell_type": "code",
      "source": [
        "# 関数呼び出しの例\n",
        "# npはimport文で定義されている\n",
        "\n",
        "import numpy as np\n",
        "n1 = np.array([1, 7, 5, 2])\n",
        "print(n1)"
      ],
      "metadata": {
        "id": "5lNZfbe4NV3j"
      },
      "execution_count": null,
      "outputs": []
    },
    {
      "cell_type": "code",
      "source": [
        "# メソッド呼び出しの例\n",
        "# s1は代入文で定義されている\n",
        "\n",
        "s1 = 'I like an apple.'\n",
        "s1.upper()\n",
        "print(s1)"
      ],
      "metadata": {
        "id": "SA4PJAKdNh1c"
      },
      "execution_count": null,
      "outputs": []
    },
    {
      "cell_type": "markdown",
      "source": [
        "### 2.1.3 !pipコマンド"
      ],
      "metadata": {
        "id": "LYZudPY9Z_mA"
      }
    },
    {
      "cell_type": "code",
      "source": [
        "# matplotlib日本語化ライブラリの導入\n",
        "!pip install japanize-matplotlib | tail -n 1\n",
        "\n",
        "# matplotlib日本語化ライブラリのインポート\n",
        "import japanize_matplotlib"
      ],
      "metadata": {
        "id": "RHnTIWBhZ6mv"
      },
      "execution_count": null,
      "outputs": []
    },
    {
      "cell_type": "markdown",
      "source": [
        "### コラム Python変数の値をOSコマンドに渡す"
      ],
      "metadata": {
        "id": "vFe3z42aih70"
      }
    },
    {
      "cell_type": "code",
      "source": [
        "# 条件を満たすファイル名リストを取得する\n",
        "\n",
        "import glob\n",
        "files = glob.glob('sample_data/*.csv')\n",
        "print(files)"
      ],
      "metadata": {
        "id": "RXY-OAX7fmPL"
      },
      "execution_count": null,
      "outputs": []
    },
    {
      "cell_type": "code",
      "source": [
        "# filesの2番目の要素を抽出\n",
        "\n",
        "file = files[1]\n",
        "print(file)"
      ],
      "metadata": {
        "id": "gou39E0mlM94"
      },
      "execution_count": null,
      "outputs": []
    },
    {
      "cell_type": "code",
      "source": [
        "# 変数fileの内容を!headコマンドに渡す\n",
        "\n",
        "!head -2 $file"
      ],
      "metadata": {
        "id": "9iFavnWclTyw"
      },
      "execution_count": null,
      "outputs": []
    },
    {
      "cell_type": "code",
      "source": [
        ""
      ],
      "metadata": {
        "id": "D0d2t8zplguS"
      },
      "execution_count": null,
      "outputs": []
    }
  ]
}