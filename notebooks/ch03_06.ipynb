{
  "nbformat": 4,
  "nbformat_minor": 0,
  "metadata": {
    "colab": {
      "provenance": [],
      "collapsed_sections": [],
      "toc_visible": true
    },
    "kernelspec": {
      "name": "python3",
      "display_name": "Python 3"
    },
    "language_info": {
      "name": "python"
    }
  },
  "cells": [
    {
      "cell_type": "markdown",
      "source": [
        "## 3.6 データ検索・結合"
      ],
      "metadata": {
        "id": "DBzX3smb2pHx"
      }
    },
    {
      "cell_type": "markdown",
      "source": [
        "### 共通処理"
      ],
      "metadata": {
        "id": "9UiG_-UO242g"
      }
    },
    {
      "cell_type": "code",
      "execution_count": null,
      "metadata": {
        "id": "xMvP31q02kQo"
      },
      "outputs": [],
      "source": [
        "# 日本語化ライブラリ導入\n",
        "!pip install japanize-matplotlib | tail -n 1"
      ]
    },
    {
      "cell_type": "code",
      "source": [
        "# ライブラリのimport\n",
        "\n",
        "# NumPy用ライブラリ\n",
        "import numpy as np\n",
        "\n",
        "# Matplotlib中のpyplotライブラリのインポート\n",
        "import matplotlib.pyplot as plt\n",
        "\n",
        "# matplotlib日本語化対応ライブラリのインポート\n",
        "import japanize_matplotlib\n",
        "\n",
        "# pandas用ライブラリ\n",
        "import pandas as pd\n",
        "\n",
        "# データフレーム表示用関数\n",
        "from IPython.display import display\n",
        "\n",
        "# Seaborn\n",
        "import seaborn as sns"
      ],
      "metadata": {
        "id": "pStGkQvK3C23"
      },
      "execution_count": null,
      "outputs": []
    },
    {
      "cell_type": "code",
      "source": [
        "# 表示オプション調整\n",
        "\n",
        "# NumPy表示形式の設定\n",
        "np.set_printoptions(\n",
        "    suppress=True, precision=4, floatmode='fixed'\n",
        ")\n",
        "\n",
        "# グラフのデフォルトフォント指定\n",
        "plt.rcParams[\"font.size\"] = 14\n",
        "\n",
        "# サイズ設定\n",
        "plt.rcParams['figure.figsize'] = (6, 6)\n",
        "\n",
        "# 方眼表示ON\n",
        "plt.rcParams['axes.grid'] = True\n",
        "\n",
        "# データフレームでの表示精度\n",
        "pd.options.display.float_format = '{:.4f}'.format\n",
        "\n",
        "# データフレームですべての項目を表示\n",
        "pd.set_option(\"display.max_columns\",None)"
      ],
      "metadata": {
        "id": "UpJNXHej3Hyp"
      },
      "execution_count": null,
      "outputs": []
    },
    {
      "cell_type": "markdown",
      "source": [
        "### 3.6.2 CSVデータ読み込み・確認"
      ],
      "metadata": {
        "id": "sVXfp_T25yxP"
      }
    },
    {
      "cell_type": "markdown",
      "source": [
        "#### CSVデータ読み込み"
      ],
      "metadata": {
        "id": "e5NdACy0Bils"
      }
    },
    {
      "cell_type": "code",
      "source": [
        "# 　URL定義\n",
        "\n",
        "# 貸出情報\n",
        "url1 = 'https://github.com/makaishi2/samples/raw/main/data/rental5-jp.csv'\n",
        "\n",
        "# 顧客情報\n",
        "url2 = 'https://github.com/makaishi2/samples/raw/main/data/customer-jp.csv'\n",
        "\n",
        "# CSV データ読み込み\n",
        "\n",
        "# 貸出情報\n",
        "df1 = pd.read_csv(url1)\n",
        "\n",
        "# 顧客情報\n",
        "df2 = pd.read_csv(url2)"
      ],
      "metadata": {
        "id": "ARAWxP7b5tfP"
      },
      "execution_count": null,
      "outputs": []
    },
    {
      "cell_type": "markdown",
      "source": [
        "#### 貸出情報確認"
      ],
      "metadata": {
        "id": "MFrR_hmCBsfC"
      }
    },
    {
      "cell_type": "code",
      "source": [
        "# 貸出情報確認\n",
        "print('貸出情報')\n",
        "print('件数: ', len(df1))\n",
        "print('内容')\n",
        "display(df1.head())"
      ],
      "metadata": {
        "id": "Rxk9va_S6K6P"
      },
      "execution_count": null,
      "outputs": []
    },
    {
      "cell_type": "markdown",
      "source": [
        "#### 顧客情報確認"
      ],
      "metadata": {
        "id": "Jnso2-8kBm7k"
      }
    },
    {
      "cell_type": "code",
      "source": [
        "# 顧客情報確認\n",
        "print('顧客情報')\n",
        "print('件数: ', len(df2))\n",
        "print('内容')\n",
        "display(df2.head())"
      ],
      "metadata": {
        "id": "I5c2TGoH_ykJ"
      },
      "execution_count": null,
      "outputs": []
    },
    {
      "cell_type": "markdown",
      "source": [
        "### 3.6.3 ソート(sort_valuesメソッド)\n"
      ],
      "metadata": {
        "id": "vBOua5ua8XRO"
      }
    },
    {
      "cell_type": "markdown",
      "source": [
        "#### 貸出日時によるソート"
      ],
      "metadata": {
        "id": "XPxfgP7WBgXA"
      }
    },
    {
      "cell_type": "code",
      "source": [
        "# ソート\n",
        "df3 = df1.sort_values('貸出日時')\n",
        "\n",
        "# 結果確認\n",
        "display(df3.head())"
      ],
      "metadata": {
        "id": "wTQDnAp77arq"
      },
      "execution_count": null,
      "outputs": []
    },
    {
      "cell_type": "markdown",
      "source": [
        "### 3.6.4 インデックス初期化(reset_indexメソッド)"
      ],
      "metadata": {
        "id": "BrUZoXw3FiOT"
      }
    },
    {
      "cell_type": "markdown",
      "source": [
        "#### ソート後・検索後のインデックス初期化"
      ],
      "metadata": {
        "id": "OqTrr5s1GCln"
      }
    },
    {
      "cell_type": "code",
      "source": [
        "#  ソート後・検索後のインデックスの初期化\n",
        "\n",
        "# drop=Trueの指定をしないと、\n",
        "# 前のインデックスも項目(index)として残る\n",
        "df4 = df3.reset_index(drop=True)\n",
        "\n",
        "# 結果確認\n",
        "display(df4.head())"
      ],
      "metadata": {
        "id": "61NGJk4PdhCX"
      },
      "execution_count": null,
      "outputs": []
    },
    {
      "cell_type": "markdown",
      "source": [
        "#### groupbyメソッド後処理としてのreset_indexメソッド"
      ],
      "metadata": {
        "id": "WzpQy7rBGTKR"
      }
    },
    {
      "cell_type": "code",
      "source": [
        "# 分析に必要な項目のみ抽出\n",
        "df5 = df4[['カテゴリ名', 'レンタル代']]\n",
        "\n",
        "# カテゴリ別の売上集計\n",
        "df6 = df5.groupby('カテゴリ名').sum()\n",
        "\n",
        "# 結果確認\n",
        "display(df6.head(2))"
      ],
      "metadata": {
        "id": "ZEMrYnyiGLcz"
      },
      "execution_count": null,
      "outputs": []
    },
    {
      "cell_type": "code",
      "source": [
        "# カテゴリ名をインデックスから項目に戻す\n",
        "df7 = df6.reset_index()\n",
        "\n",
        "# 結果確認\n",
        "display(df7.head(2))\n",
        "\n",
        "# 売上の多い順にソート\n",
        "df8 = df7.sort_valueｓ('レンタル代', ascending=False)\n",
        "\n",
        "# 結果確認\n",
        "display(df8.head(2))"
      ],
      "metadata": {
        "id": "BpFBDUrtI8iI"
      },
      "execution_count": null,
      "outputs": []
    },
    {
      "cell_type": "markdown",
      "source": [
        "### 3.6.5 特定の行参照(loc/iloc)"
      ],
      "metadata": {
        "id": "oXNvH9WxCOUb"
      }
    },
    {
      "cell_type": "markdown",
      "source": [
        "#### locによる参照"
      ],
      "metadata": {
        "id": "8kUZ782BCpJn"
      }
    },
    {
      "cell_type": "code",
      "source": [
        "# locによる参照\n",
        "\n",
        "# 1行全体の参照\n",
        "print(df3.loc[1])\n",
        "print()\n",
        "\n",
        "# 行インデックスと列インデックスの同時指定\n",
        "print(df3.loc[1, '貸出日時'])"
      ],
      "metadata": {
        "id": "y-jDlS9YCkuP"
      },
      "execution_count": null,
      "outputs": []
    },
    {
      "cell_type": "markdown",
      "source": [
        "#### ilocによる参照"
      ],
      "metadata": {
        "id": "ypHw50L7CZir"
      }
    },
    {
      "cell_type": "code",
      "source": [
        "# ilocによる参照\n",
        "\n",
        "# 1行全体の参照\n",
        "print(df3.iloc[1])\n",
        "print()\n",
        "\n",
        "# NumPy的なアクセス\n",
        "print(df3.iloc[1, 8])"
      ],
      "metadata": {
        "id": "r-6cDmP-828A"
      },
      "execution_count": null,
      "outputs": []
    },
    {
      "cell_type": "markdown",
      "source": [
        "#### ilocによるループ処理"
      ],
      "metadata": {
        "id": "E2uTtkwXDCzz"
      }
    },
    {
      "cell_type": "code",
      "source": [
        "# ilocによるループ処理\n",
        "for i in range(5):\n",
        "    # このアクセス方法で１行全体がxに入る\n",
        "    x = df3.iloc[i]\n",
        "\n",
        "    # xに対して辞書と同じ方法で個別要素にアクセス\n",
        "    rental = x['貸出ID']\n",
        "    customer = x['顧客ID']\n",
        "    title = x['タイトル']\n",
        "    amount = x['レンタル代']\n",
        "    rental_date = x['貸出日時']\n",
        "\n",
        "    # 結果確認\n",
        "    print(i, rental, customer, title, amount, rental_date)"
      ],
      "metadata": {
        "id": "g05EwjLICwE4"
      },
      "execution_count": null,
      "outputs": []
    },
    {
      "cell_type": "markdown",
      "source": [
        "### 3.6.6 検索(queryメソッド)"
      ],
      "metadata": {
        "id": "4pwwlePlElag"
      }
    },
    {
      "cell_type": "markdown",
      "source": [
        "#### 単純な検索"
      ],
      "metadata": {
        "id": "08L16fysGMWU"
      }
    },
    {
      "cell_type": "code",
      "source": [
        "# 単純な検索\n",
        "x1 = df4.query('顧客ID == 459')\n",
        "\n",
        "#  件数確認\n",
        "print(len(x1))\n",
        "\n",
        "# 内容の一部確認\n",
        "display(x1.head())"
      ],
      "metadata": {
        "id": "CJ9CBd3bEKN2"
      },
      "execution_count": null,
      "outputs": []
    },
    {
      "cell_type": "markdown",
      "source": [
        "#### 複合検索"
      ],
      "metadata": {
        "id": "AOtBJRfGGQxX"
      }
    },
    {
      "cell_type": "code",
      "source": [
        "# 複合検索\n",
        "x2 = df4.query('顧客ID == 459 and レンタル代 >= 4.0')\n",
        "\n",
        "#  件数確認\n",
        "print(len(x2))\n",
        "\n",
        "# 内容の一部確認\n",
        "display(x2.head())"
      ],
      "metadata": {
        "id": "_JxqR-dGFKfl"
      },
      "execution_count": null,
      "outputs": []
    },
    {
      "cell_type": "markdown",
      "source": [
        "#### Python変数の値をquery検索の条件値として用いる"
      ],
      "metadata": {
        "id": "2GR0eoQJ-ZId"
      }
    },
    {
      "cell_type": "code",
      "source": [
        "# df4の2行目の顧客IDを変数cust_idに抽出し、\n",
        "# その値を条件にdf4のデータを絞り込む\n",
        "\n",
        "# cust_idの抽出\n",
        "cust_id = df4.iloc[1]['顧客ID']\n",
        "print(cust_id)\n",
        "\n",
        "# Python変数値をqueryメソッドの絞り込み条件で利用する場合は\n",
        "# 「項目名 == @変数名」という表現にする\n",
        "x3 = df4.query('顧客ID == @cust_id')\n",
        "\n",
        "# 結果確認\n",
        "display(x3.head())"
      ],
      "metadata": {
        "id": "c2djof06_A3k"
      },
      "execution_count": null,
      "outputs": []
    },
    {
      "cell_type": "markdown",
      "source": [
        "#### Pythonリスト変数の値を検索対象項目とマッチさせる"
      ],
      "metadata": {
        "id": "KgIGfUhXAnu8"
      }
    },
    {
      "cell_type": "code",
      "source": [
        "# df4の1行目から3行目の顧客IDをリスト変数cust_idsに抽出し、\n",
        "# その値を条件にdf4のデータを絞り込む\n",
        "\n",
        "# cust_idsの抽出\n",
        "cust_ids = list(df4.iloc[:3]['顧客ID'])\n",
        "print(cust_ids)\n",
        "\n",
        "#  リスト変数値をqueryメソッドの絞り込み条件で利用する場合は\n",
        "# 「項目名 in @変数名」という表現にする\n",
        "x4 = df4.query('顧客ID in @cust_ids')\n",
        "\n",
        "# 結果確認\n",
        "display(x4.head())"
      ],
      "metadata": {
        "id": "DVnJpfPL_tBc"
      },
      "execution_count": null,
      "outputs": []
    },
    {
      "cell_type": "markdown",
      "source": [
        "### 3.6.7 結合(merge関数)"
      ],
      "metadata": {
        "id": "_D2SE4-rGwtY"
      }
    },
    {
      "cell_type": "code",
      "source": [
        "# 貸出情報から必要な項目のみ抽出\n",
        "df9 = df4[['貸出ID', '顧客ID', '貸出日時', 'タイトル']]\n",
        "\n",
        "# 結果確認\n",
        "display(df9.head()) "
      ],
      "metadata": {
        "id": "qr9XjuASHUiu"
      },
      "execution_count": null,
      "outputs": []
    },
    {
      "cell_type": "code",
      "source": [
        "# 顧客情報から必要な項目のみ抽出\n",
        "df10 = df2[['顧客ID', '名', '姓']]\n",
        "\n",
        "# 結果確認\n",
        "display(df10.head())"
      ],
      "metadata": {
        "id": "WWB-J2wZFiKl"
      },
      "execution_count": null,
      "outputs": []
    },
    {
      "cell_type": "code",
      "source": [
        "display(df10.iloc[457:460])"
      ],
      "metadata": {
        "id": "aHZQ7it2Nbu7"
      },
      "execution_count": null,
      "outputs": []
    },
    {
      "cell_type": "code",
      "source": [
        "# merge関数で支払情報と結合\n",
        "df11 = pd.merge(df9, df10, on='顧客ID')\n",
        "\n",
        "# 結果を貸出日時でソート\n",
        "df11.sort_values('貸出日時', inplace=True)\n",
        "\n",
        "# 結果確認\n",
        "display(df11.head())"
      ],
      "metadata": {
        "id": "DAnMsZPzIJuU"
      },
      "execution_count": null,
      "outputs": []
    },
    {
      "cell_type": "markdown",
      "source": [
        "### 演習問題\n",
        "このビデオ店では、販売促進施策として、過去のレンタル金額の合計が一番大きな顧客を\n",
        "プラチナユーザーとし、そのユーザーが今まで一番大きなレンタル金額を支払っているカテゴリの\n",
        "レンタル料を半額にすることとしました。  \n",
        "この方針に基づき、次の２つの問いに答えて下さい。  \n",
        "  \n",
        " (1) 過去の合計レンタル金額が最も高いユーザーを調べて下さい。  \n",
        " (2) (1)で調べたユーザーに対して、過去のレンタル金額が最も大きいカテゴリ名を調べて下さい。"
      ],
      "metadata": {
        "id": "1oJXKrunI25v"
      }
    },
    {
      "cell_type": "markdown",
      "source": [
        "#### (1) 過去の合計レンタル金額が最も高いユーザーを調べる"
      ],
      "metadata": {
        "id": "R-JPa9tMcr9s"
      }
    },
    {
      "cell_type": "code",
      "source": [
        "# 貸出情報から項目「顧客ID」と「レンタル代」のみを抽出し、結果をx1に代入する\n",
        "x1 = \n",
        "display(x1.head(2))"
      ],
      "metadata": {
        "id": "RW2bIPspIJ3K"
      },
      "execution_count": null,
      "outputs": []
    },
    {
      "cell_type": "code",
      "source": [
        "#  x1に対してgroupbyメソッドを用いて、レンタル代の合計金額を顧客IDごとに算出\n",
        "x2 = \n",
        "display(x2.head(2))"
      ],
      "metadata": {
        "id": "EXlO6Cd5c0yz"
      },
      "execution_count": null,
      "outputs": []
    },
    {
      "cell_type": "code",
      "source": [
        "# x2に対してreset_indexメソッドと用いて、顧客　IDを項目名に戻す\n",
        "x3 = \n",
        "display(x3.head(2))"
      ],
      "metadata": {
        "id": "cTiogbx-c09O"
      },
      "execution_count": null,
      "outputs": []
    },
    {
      "cell_type": "code",
      "source": [
        "# x3の結果を「レンタル代」で逆順にソートして、\n",
        "# レンタル代の合計が一番大きな顧客を算出\n",
        "x4 = \n",
        "display(x4.head(2))"
      ],
      "metadata": {
        "id": "CluXcY3Vc1Cu"
      },
      "execution_count": null,
      "outputs": []
    },
    {
      "cell_type": "markdown",
      "source": [
        "#### (2) (1)で調べたユーザーに対して、過去のレンタル金額が最も大きいカテゴリ名を調べる "
      ],
      "metadata": {
        "id": "vmrwKBQ4dGdz"
      }
    },
    {
      "cell_type": "code",
      "source": [
        "# 貸出情報から項目「顧客ID」と「レンタル代」「カテゴリ名」のみを抽出し、\n",
        "# 結果をx5に代入する\n",
        "x5 = \n",
        "display(x5.head(2))"
      ],
      "metadata": {
        "id": "X3mr5Wy0dLYY"
      },
      "execution_count": null,
      "outputs": []
    },
    {
      "cell_type": "code",
      "source": [
        "# x5から顧客IDが(1)で調べたものを抽出\n",
        "x6 = \n",
        "display(x6.head(2))"
      ],
      "metadata": {
        "id": "UvVNPx4AdSjw"
      },
      "execution_count": null,
      "outputs": []
    },
    {
      "cell_type": "code",
      "source": [
        "# groupbyメソッドを用いてx6の結果から\n",
        "# カテゴリ別の合計レンタル代を算出\n",
        "x7 = \n",
        "\n",
        "# reset_indexメソッドを用いて、カテゴリ名を列に戻す\n",
        "x8 = \n",
        "display(x8.head(2))"
      ],
      "metadata": {
        "id": "Jav9Q5MSdSrS"
      },
      "execution_count": null,
      "outputs": []
    },
    {
      "cell_type": "code",
      "source": [
        "# sort_indexメソッドで、合計レンタル代の最も大きな\n",
        "# カテゴリを調べる\n",
        "x9 = \n",
        "display(x9.head(2))"
      ],
      "metadata": {
        "id": "_Zth7boydSxQ"
      },
      "execution_count": null,
      "outputs": []
    }
  ]
}