{
  "cells": [
    {
      "cell_type": "markdown",
      "metadata": {
        "id": "6mcoQBL0Jtrj"
      },
      "source": [
        "## 1.6 関数とメソッド"
      ]
    },
    {
      "cell_type": "markdown",
      "metadata": {
        "id": "kcy5YUKzJuHY"
      },
      "source": [
        "### 問題\n",
        "　変数s1に文字列 'I like an apple.'を、変数s2に文字列 'apple' を代入します。  \n",
        "次にfindメソッド、比較演算子、条件分岐をうまく使って、変数s1の中に変数s2が含まれているかどうかを判断し、結果をprint関数で出力するプログラムを作って下さい。  \n",
        "結果のメッセージは、次のようなものにします。  \n",
        "  \n",
        "s2が 'apple' の場合：  \n",
        "「I like an apple.はappleを含んでいます。」\n",
        "\n",
        "\n",
        "s2が 'orange' の場合：  \n",
        "「I like an apple.はorangeを含んでいません。」\n"
      ]
    },
    {
      "cell_type": "code",
      "execution_count": null,
      "metadata": {
        "colab": {
          "base_uri": "https://localhost:8080/"
        },
        "id": "XhusvKXgJJhM",
        "outputId": "4e2f1172-7495-475a-e04d-dc8073eb50b5"
      },
      "outputs": [
        {
          "name": "stdout",
          "output_type": "stream",
          "text": [
            "I like an apple. は apple を含んでいます。\n"
          ]
        }
      ],
      "source": [
        "# 変数s1に文字列''を、s2に文字列''を代入します。\n",
        "s1 = 'I like an apple.'\n",
        "s2 = 'apple'\n",
        "\n",
        "# 条件分岐\n",
        "if s1.find(s2) >= 0:\n",
        "\n",
        "    # 条件を満たす場合の処理\n",
        "    m1 = 'を含んでいます。'\n",
        "\n",
        "# それ以外の条件\n",
        "else:\n",
        "\n",
        "    # 条件を満たさない場合の処理\n",
        "    m1 = 'を含んでいません。'\n",
        "\n",
        "# 結果表示\n",
        "print(s1, 'は', s2, m1)\n"
      ]
    }
  ],
  "metadata": {
    "colab": {
      "collapsed_sections": [],
      "name": "ch01_06_ans.ipynb",
      "provenance": [],
      "toc_visible": true
    },
    "kernelspec": {
      "display_name": "Python 3",
      "name": "python3"
    },
    "language_info": {
      "name": "python"
    }
  },
  "nbformat": 4,
  "nbformat_minor": 0
}
