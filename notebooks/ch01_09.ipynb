{
  "cells": [
    {
      "cell_type": "markdown",
      "metadata": {
        "id": "PTQOawPuTPCd"
      },
      "source": [
        "## 1.9 関数定義"
      ]
    },
    {
      "cell_type": "markdown",
      "source": [
        "### 1.9.3 関数の実装例"
      ],
      "metadata": {
        "id": "_zpd5f6p8i44"
      }
    },
    {
      "cell_type": "markdown",
      "metadata": {
        "id": "_emQtfnxTnu7"
      },
      "source": [
        "#### 1引数1戻り値の関数"
      ]
    },
    {
      "cell_type": "code",
      "execution_count": null,
      "metadata": {
        "id": "OZ4OQPaPSwDM"
      },
      "outputs": [],
      "source": [
        "#  2次関数　y = x^2 - 2x の定義\n",
        "\n",
        "def f(x):\n",
        "    y = x ** 2 - 2 * x\n",
        "    return y"
      ]
    },
    {
      "cell_type": "code",
      "execution_count": null,
      "metadata": {
        "id": "e44QCVFdTXm4"
      },
      "outputs": [],
      "source": [
        "#  定義した関数fの呼び出し\n",
        "\n",
        "print(f(1))\n",
        "print(f(2))\n",
        "print(f(3))"
      ]
    },
    {
      "cell_type": "markdown",
      "metadata": {
        "id": "6PrbgtXx1hEQ"
      },
      "source": [
        "#### 2引数1戻り値の関数"
      ]
    },
    {
      "cell_type": "code",
      "execution_count": null,
      "metadata": {
        "id": "yeuXNHy5UMiM"
      },
      "outputs": [],
      "source": [
        "#　文字列の先頭n文字を返す関数の定義\n",
        "\n",
        "# s 対象文字列\n",
        "# n 先頭の文字数\n",
        "def head(s, n):\n",
        "    r = s[:n]\n",
        "    return r"
      ]
    },
    {
      "cell_type": "code",
      "execution_count": null,
      "metadata": {
        "id": "LNLz329l2Tdu"
      },
      "outputs": [],
      "source": [
        "# 呼び出しテスト\n",
        "\n",
        "s1 = 'ABCDEFG'\n",
        "n1 = 4\n",
        "\n",
        "h1 = head(s1, n1)\n",
        "print(h1)"
      ]
    },
    {
      "cell_type": "markdown",
      "metadata": {
        "id": "q2eGvnwqqkX6"
      },
      "source": [
        "#### 1引数2戻り値の関数"
      ]
    },
    {
      "cell_type": "code",
      "execution_count": null,
      "metadata": {
        "id": "X7R78StY2meh"
      },
      "outputs": [],
      "source": [
        "# メールアドレスの文字列を引数として、@の前と後ろを返す関数\n",
        "\n",
        "def div(s):\n",
        "    p = s.find('@')\n",
        "    pre = s[:p]\n",
        "    post = s[p + 1:]\n",
        "    return pre, post"
      ]
    },
    {
      "cell_type": "code",
      "execution_count": null,
      "metadata": {
        "id": "mfQ_n0VR8iUj"
      },
      "outputs": [],
      "source": [
        "# 呼び出しテスト\n",
        "s1 = 'abc@xyz.com'\n",
        "p1, p2 = div(s1)\n",
        "\n",
        "# 結果確認\n",
        "print('@の前: ', p1)\n",
        "print('@の後ろ: ', p2)"
      ]
    },
    {
      "cell_type": "markdown",
      "metadata": {
        "id": "zNrqfawLOaJ_"
      },
      "source": [
        "#### 1引数戻り値なしの関数"
      ]
    },
    {
      "cell_type": "code",
      "execution_count": null,
      "metadata": {
        "id": "MY_batLb8nxE"
      },
      "outputs": [],
      "source": [
        "# 「値」と「型」を両方print関数で表示する関数\n",
        "def print_type_value(x):\n",
        "    print('型: ', type(x))\n",
        "    print('値: ', x)"
      ]
    },
    {
      "cell_type": "code",
      "execution_count": null,
      "metadata": {
        "id": "EKjZ3ljV8pbd"
      },
      "outputs": [],
      "source": [
        "# 呼び出しテスト\n",
        "s1 = 'ABC123'\n",
        "print_type_value(s1)"
      ]
    },
    {
      "cell_type": "markdown",
      "metadata": {
        "id": "EpED3F-N5HfE"
      },
      "source": [
        "### 演習問題\n",
        "\n",
        "(1) 「章番号:章タイトル」の書式の文字列を引数とし「:」によって文字列を章番号、章タイトルに分ける関数div_titleを定義して下さい。  \n",
        "\n",
        "(2) 上で定義した関数を用いて、次の文字列をそれぞれ章番号、章タイトルに分割し、更に章番号を「キー」に、章タイトルを「値」にする辞書title_dictに登録して下さい。  \n",
        "\n",
        "'1章:業務と機械学習プロジェクト'  \n",
        "'2章:機械学習モデルの処理パターン'  \n",
        "'3章:機械学習モデルの開発手順'  \n",
        "\n"
      ]
    },
    {
      "cell_type": "code",
      "execution_count": null,
      "metadata": {
        "id": "HWomaUfJqWi1"
      },
      "outputs": [],
      "source": [
        "# (1)の解答\n",
        "# 関数定義\n"
      ]
    },
    {
      "cell_type": "code",
      "execution_count": null,
      "metadata": {
        "id": "0TqECaZP7Q6Y"
      },
      "outputs": [],
      "source": [
        "# (1)のテスト\n",
        "\n",
        "l1 = '章番号:章タイトル'\n",
        "c1, t1 = div_title(l1)\n",
        "print('章番号: ', c1, '  章タイトル: ', t1)"
      ]
    },
    {
      "cell_type": "code",
      "execution_count": null,
      "metadata": {
        "id": "B6Q5I0tJ5ray"
      },
      "outputs": [],
      "source": [
        "# (2)の解答\n",
        "# 空の辞書の定義\n",
        "title_dict = {}\n",
        "\n",
        "# 処理対象テキストのリスト\n",
        "title_list = [\n",
        "    '1章:業務と機械学習プロジェクト',\n",
        "    '2章:機械学習モデルの処理パターン',\n",
        "    '3章:機械学習モデルの開発手順'\n",
        "]\n",
        "\n",
        "# ループ処理\n",
        "\n",
        "# 対象テキストを章番号と章タイトルに分離\n",
        "\n",
        "# 分離結果を用いて辞書登録\n"
      ]
    },
    {
      "cell_type": "code",
      "execution_count": null,
      "metadata": {
        "id": "7Ti1ica-6JSF"
      },
      "outputs": [],
      "source": [
        "# (2)の結果テスト\n",
        "\n",
        "print('3章', title_dict['3章'])"
      ]
    },
    {
      "cell_type": "markdown",
      "source": [
        "### コラム　関数内の変数について"
      ],
      "metadata": {
        "id": "J-QP1zsY8y-i"
      }
    },
    {
      "cell_type": "code",
      "source": [
        "# 関数内変数の参照\n",
        "\n",
        "def add1(x, y):\n",
        "    z = x + y\n",
        "    return z\n",
        "\n",
        "z = 10\n",
        "print(add1(1, 2))\n",
        "print(z)"
      ],
      "metadata": {
        "id": "e_V8riqy87rS"
      },
      "execution_count": null,
      "outputs": []
    },
    {
      "cell_type": "code",
      "source": [
        "# 関数内部から関数外部の値を参照\n",
        "\n",
        "def add2(x):\n",
        "    w = x + z\n",
        "    return w\n",
        "\n",
        "z = 10\n",
        "print(add2(1))"
      ],
      "metadata": {
        "id": "_OpSIhIv9LJe"
      },
      "execution_count": null,
      "outputs": []
    },
    {
      "cell_type": "code",
      "source": [
        "# 関数内部から関数外部の値を変更しようとした場合\n",
        "\n",
        "def add3(x):\n",
        "    w = x + z\n",
        "    z = w\n",
        "    return w\n",
        "\n",
        "z = 10\n",
        "print(add3(1))"
      ],
      "metadata": {
        "id": "aPtR2OFo9YN6"
      },
      "execution_count": null,
      "outputs": []
    }
  ],
  "metadata": {
    "colab": {
      "collapsed_sections": [],
      "name": "ch01_09.ipynb",
      "provenance": [],
      "toc_visible": true
    },
    "kernelspec": {
      "display_name": "Python 3",
      "name": "python3"
    },
    "language_info": {
      "name": "python"
    }
  },
  "nbformat": 4,
  "nbformat_minor": 0
}