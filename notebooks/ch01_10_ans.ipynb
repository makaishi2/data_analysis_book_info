{
  "cells": [
    {
      "cell_type": "markdown",
      "metadata": {
        "id": "bGhO03r02LFF"
      },
      "source": [
        "## 1.10 やや高度なループ処理"
      ]
    },
    {
      "cell_type": "markdown",
      "metadata": {
        "id": "lB2SbrYL2TqT"
      },
      "source": [
        "### 演習課題\n",
        "cabins = ['B5', 'C22', 'G6']を処理対象として、各要素の文字列の長さを要素にした新しいリストlengthsを作って下さい。"
      ]
    },
    {
      "cell_type": "code",
      "execution_count": 1,
      "metadata": {
        "colab": {
          "base_uri": "https://localhost:8080/"
        },
        "id": "7Fh0Q-4U2ALd",
        "outputId": "0a161835-2d03-4bfc-f5b1-0e44c57511bd"
      },
      "outputs": [
        {
          "name": "stdout",
          "output_type": "stream",
          "text": [
            "[2, 3, 2]\n"
          ]
        }
      ],
      "source": [
        "# 処理対象のリスト\n",
        "cabins = ['B5', 'C22', 'G6']\n",
        "\n",
        "# 内包表記を用いて新しいリストlengthsを作る\n",
        "lengths = [len(x) for x in cabins]\n",
        "\n",
        "# 結果の確認\n",
        "print(lengths)\n"
      ]
    },
    {
      "cell_type": "code",
      "execution_count": null,
      "metadata": {
        "id": "P7txKMni2eWL"
      },
      "outputs": [],
      "source": []
    }
  ],
  "metadata": {
    "colab": {
      "collapsed_sections": [],
      "name": "ch01_12_ans.ipynb",
      "provenance": []
    },
    "kernelspec": {
      "display_name": "Python 3",
      "name": "python3"
    },
    "language_info": {
      "name": "python"
    }
  },
  "nbformat": 4,
  "nbformat_minor": 0
}
