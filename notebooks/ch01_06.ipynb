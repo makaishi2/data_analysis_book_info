{
  "cells": [
    {
      "cell_type": "markdown",
      "metadata": {
        "id": "PgZrn-lLGyrZ"
      },
      "source": [
        "## 1.6 関数呼び出しとメソッド呼び出し"
      ]
    },
    {
      "cell_type": "markdown",
      "metadata": {
        "id": "AB2Eisk1HBFi"
      },
      "source": [
        "### 1.6.1 関数呼び出し"
      ]
    },
    {
      "cell_type": "markdown",
      "metadata": {
        "id": "PEreXj2JHWmX"
      },
      "source": [
        "#### print関数"
      ]
    },
    {
      "cell_type": "code",
      "execution_count": null,
      "metadata": {
        "id": "9rnVkCzoHVTy"
      },
      "outputs": [],
      "source": [
        "x = 123\n",
        "y = 10.01\n",
        "\n",
        "# print関数に複数引数を渡すパターン\n",
        "print('x = ', x, '   y = ', y)\n",
        "\n",
        "# print関数にオプション引数も渡すパターン\n",
        "print(x, y, sep='\\n')"
      ]
    },
    {
      "cell_type": "markdown",
      "metadata": {
        "id": "yWa2lCnEHadO"
      },
      "source": [
        "#### len関数"
      ]
    },
    {
      "cell_type": "code",
      "execution_count": null,
      "metadata": {
        "id": "d9jrgzQJHQ8H"
      },
      "outputs": [],
      "source": [
        "s1 = '文字列のサンプル'\n",
        "\n",
        "# len関数で文字数を調べます\n",
        "l = len(s1)\n",
        "\n",
        "# 結果の確認\n",
        "print('文字列の長さ: ', l)"
      ]
    },
    {
      "cell_type": "markdown",
      "metadata": {
        "id": "aiWB0ZP_HdIU"
      },
      "source": [
        "#### int関数とfloat関数"
      ]
    },
    {
      "cell_type": "code",
      "execution_count": null,
      "metadata": {
        "id": "H96YQvvaHRE8"
      },
      "outputs": [],
      "source": [
        "i1 = 12\n",
        "f1 = 10.01\n",
        "s1 = '123'\n",
        "\n",
        "# int関数の利用\n",
        "i2 = int(f1)\n",
        "i3 = int(s1)\n",
        "\n",
        "# 結果確認\n",
        "print('i2 = ', i2, '  i3 = ', i3)\n",
        "\n",
        "# float関数の利用\n",
        "f2 = float(i1)\n",
        "f3 = float(s1)\n",
        "\n",
        "# 結果確認\n",
        "print('f2 = ', f2, '  f3 = ', f3)"
      ]
    },
    {
      "cell_type": "markdown",
      "metadata": {
        "id": "mjwvLQRkHEnT"
      },
      "source": [
        "### 1.6.2 メソッド呼び出し"
      ]
    },
    {
      "cell_type": "code",
      "execution_count": null,
      "metadata": {
        "id": "ZsrthL6ISm-w"
      },
      "outputs": [],
      "source": [
        "s1 = 'I like an apple.'\n",
        "\n",
        "# upperメソッドで、すべての文字を大文字にする\n",
        "s2 = s1.upper()\n",
        "\n",
        "# 結果確認\n",
        "print(s2)"
      ]
    },
    {
      "cell_type": "code",
      "execution_count": null,
      "metadata": {
        "id": "H0e3yVtjHIx-"
      },
      "outputs": [],
      "source": [
        "s1 = 'I like an apple.'\n",
        "s2 = 'apple'\n",
        "\n",
        "# 文字列'apple'の場所をfindメソッドで探す\n",
        "p1 = s1.find(s2)\n",
        "\n",
        "# 結果確認\n",
        "# 結果の10は先頭を0としたときの文字'a'の位置を示す\n",
        "print(p1)"
      ]
    },
    {
      "cell_type": "markdown",
      "metadata": {
        "id": "bxt_rv2SHJt7"
      },
      "source": [
        "### 演習問題"
      ]
    },
    {
      "cell_type": "markdown",
      "metadata": {
        "id": "U7RJTd_vKaus"
      },
      "source": [
        "#### 問題\n",
        "　変数s1に文字列 'I like an apple.'を、変数s2に文字列 'apple' を代入します。  \n",
        "次にfindメソッド、比較演算子、条件分岐をうまく使って、変数s1の中に変数s2が含まれているかどうかを判断し、結果をprint関数で出力するプログラムを作って下さい。  \n",
        "結果のメッセージは、次のようなものにします。  \n",
        "  \n",
        "s2が 'apple' の場合：  \n",
        "「I like an apple.はappleを含んでいます。」\n",
        "\n",
        "\n",
        "s2が 'orange' の場合：  \n",
        "「I like an apple.はorangeを含んでいません。」\n"
      ]
    },
    {
      "cell_type": "code",
      "execution_count": null,
      "metadata": {
        "id": "zMlFcK4JHM0T"
      },
      "outputs": [],
      "source": [
        "# 変数s1に文字列''を、s2に文字列''を代入します\n",
        "\n",
        "\n",
        "# 条件分岐\n",
        "\n",
        "# 条件を満たす場合の処理\n",
        "\n",
        "\n",
        "# それ以外の条件\n",
        "\n",
        "# 条件を満たさない場合の処理\n",
        "\n",
        "\n",
        "# 結果表示\n"
      ]
    }
  ],
  "metadata": {
    "colab": {
      "provenance": [],
      "toc_visible": true
    },
    "kernelspec": {
      "display_name": "Python 3",
      "name": "python3"
    },
    "language_info": {
      "name": "python"
    }
  },
  "nbformat": 4,
  "nbformat_minor": 0
}