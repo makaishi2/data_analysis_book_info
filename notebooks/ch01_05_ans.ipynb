{
  "cells": [
    {
      "cell_type": "markdown",
      "metadata": {
        "id": "eHpLuxl3FX7R"
      },
      "source": [
        "## 1.5 条件分岐"
      ]
    },
    {
      "cell_type": "markdown",
      "metadata": {
        "id": "br8-2aHOFYYc"
      },
      "source": [
        "### 問題　\n",
        "1. 変数xに12を代入します。\n",
        "　次にコード1-5-3を参考に、「xが10以上でかつxは3で割り切れる」を判断する論理演算の計算をして、その結果を条件分岐の条件とするようなif文を作ります。  \n",
        "　そして、上の条件を満たしている場合は、'Success!'を、満たしていない場合は'Fail!'をprint関数で出力するようにして下さい。  \n",
        "　正しくコーディングできている場合、結果は'Success!' になるはずなので、それを確認します。  \n",
        "\n",
        "　2. 変数 xの値を9, 13, 15に変更した場合、結果がそれぞれどうなるか確認します。\n"
      ]
    },
    {
      "cell_type": "code",
      "execution_count": 1,
      "metadata": {
        "colab": {
          "base_uri": "https://localhost:8080/"
        },
        "id": "-E0gL9iWapr3",
        "outputId": "5b9a027a-b48f-4942-aec5-92924be3c0f9"
      },
      "outputs": [
        {
          "name": "stdout",
          "output_type": "stream",
          "text": [
            "Success!\n"
          ]
        }
      ],
      "source": [
        "# 変数xに12を代入します\n",
        "x = 12\n",
        "\n",
        "# 「xが10以上でかつxは3で割り切れる」を条件にしたif文を作ります\n",
        "# 次のif文の実装には以下で学んだことをすべて利用します\n",
        "# 1.5.3項　コード1-5-4（　条件分岐）\n",
        "# 1.5.1項　表1-5-1 (比較演算)\n",
        "# 1.5.2項　コード1-5-3 (論理演算)\n",
        "if x >= 10 and x % 3 == 0:\n",
        "\n",
        "    #　上の条件を満たした場合の処理\n",
        "    print('Success!')\n",
        "\n",
        "# 「それ以外の場合」の条件\n",
        "# 1.5.3項　コード1-5-5 (else文)\n",
        "else:\n",
        "    # 上の条件を満たさない場合の処理\n",
        "    print('Fail!')\n"
      ]
    },
    {
      "cell_type": "code",
      "execution_count": null,
      "metadata": {
        "id": "2ooFNgSoCpgq"
      },
      "outputs": [],
      "source": []
    }
  ],
  "metadata": {
    "colab": {
      "collapsed_sections": [],
      "name": "ch01_05_ans.ipynb",
      "provenance": [],
      "toc_visible": true
    },
    "kernelspec": {
      "display_name": "Python 3",
      "name": "python3"
    },
    "language_info": {
      "name": "python"
    }
  },
  "nbformat": 4,
  "nbformat_minor": 0
}
