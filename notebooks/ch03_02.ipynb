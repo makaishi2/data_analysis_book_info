{
  "nbformat": 4,
  "nbformat_minor": 0,
  "metadata": {
    "colab": {
      "provenance": [],
      "collapsed_sections": [],
      "toc_visible": true
    },
    "kernelspec": {
      "name": "python3",
      "display_name": "Python 3"
    },
    "language_info": {
      "name": "python"
    }
  },
  "cells": [
    {
      "cell_type": "markdown",
      "source": [
        "## 3.2 データ読み込み"
      ],
      "metadata": {
        "id": "oRhCOwECUwoc"
      }
    },
    {
      "cell_type": "markdown",
      "source": [
        "### 共通処理"
      ],
      "metadata": {
        "id": "PGOdr-6qp4J4"
      }
    },
    {
      "cell_type": "code",
      "source": [
        "# 日本語化ライブラリ導入\n",
        "!pip install japanize-matplotlib | tail -n 1"
      ],
      "metadata": {
        "id": "JtnbytXUp9js"
      },
      "execution_count": null,
      "outputs": []
    },
    {
      "cell_type": "code",
      "source": [
        "# ライブラリのimport\n",
        "\n",
        "# NumPy用ライブラリ\n",
        "import numpy as np\n",
        "\n",
        "# Matplotlib中のpyplotライブラリのインポート\n",
        "import matplotlib.pyplot as plt\n",
        "\n",
        "# matplotlib日本語化対応ライブラリのインポート\n",
        "import japanize_matplotlib\n",
        "\n",
        "# pandas用ライブラリ\n",
        "import pandas as pd\n",
        "\n",
        "# データフレーム表示用関数\n",
        "from IPython.display import display"
      ],
      "metadata": {
        "id": "eDLGNoMuWiXW"
      },
      "execution_count": null,
      "outputs": []
    },
    {
      "cell_type": "code",
      "source": [
        "# 表示オプション調整\n",
        "\n",
        "# NumPy表示形式の設定\n",
        "np.set_printoptions(\n",
        "    suppress=True, precision=4, floatmode='fixed'\n",
        ")\n",
        "\n",
        "# グラフのデフォルトフォント指定\n",
        "plt.rcParams[\"font.size\"] = 14\n",
        "\n",
        "# サイズ設定\n",
        "plt.rcParams['figure.figsize'] = (6, 6)\n",
        "\n",
        "# 方眼表示ON\n",
        "plt.rcParams['axes.grid'] = True\n",
        "\n",
        "# データフレームでの表示精度\n",
        "pd.options.display.float_format = '{:.4f}'.format\n",
        "\n",
        "# データフレームですべての項目を表示\n",
        "pd.set_option(\"display.max_columns\",None)"
      ],
      "metadata": {
        "id": "UVsnbqfzWtOq"
      },
      "execution_count": null,
      "outputs": []
    },
    {
      "cell_type": "markdown",
      "source": [
        "### 3.2.2 CSVファイルの読み込み\n",
        "オリジナルサイト\n",
        "\n",
        "https://archive.ics.uci.edu/ml/datasets/Pittsburgh+Bridges\n",
        "\n",
        "\n"
      ],
      "metadata": {
        "id": "-Kz1WAdMVLiU"
      }
    },
    {
      "cell_type": "markdown",
      "source": [
        "項目説明\n",
        "\n",
        "https://www.kaggle.com/datasets/heitornunes/pittsburgh-bridges-data-set\n",
        "\n",
        "id: Bridge's Identifier.\n",
        "\n",
        "river: River of the bridge.\n",
        "{A : Allegheny,\n",
        "M : Monongahela,\n",
        "O : Ohio}\n",
        "\n",
        "location: Bridge's Location. / 1 - 52\n",
        "\n",
        "erected: Bridge's construction year. / 1818 - 1986\n",
        "{CRAFTS: 1818 - 1866,\n",
        "EMERGING: 1870 - 1889,\n",
        "MATURE: 1890 - 1939,\n",
        "MODERN: 1945 - 1986}\n",
        "\n",
        "purpose: Bridge's purpose.\n",
        "{WALK,\n",
        "AQUEDUCT,\n",
        "RR (Railroad),\n",
        "HIGHWAY}\n",
        "\n",
        "length: Bridge's length / 804-4558\n",
        "{SHORT : 804 - 990,\n",
        "MEDIUM : 1000 - 1850,\n",
        "LONG : 2000 - 4558}\n",
        "\n",
        "Lanes: Bridge's lanes / 1, 2, 4 and 6\n",
        "\n",
        "clear-g: Vertical clearance requirement was enforced in the design.\n",
        "{N: Not Enforced,\n",
        "G: Enforced}\n",
        "\n",
        "B) Design properties\n",
        "\n",
        "t-or-d: The roadway location on the bridge.\n",
        "{THROUGH,\n",
        "DECK}\n",
        "\n",
        "material: Bridge's predominant material.\n",
        "{WOOD,\n",
        "IRON,\n",
        "STEEL}\n",
        "\n",
        "span: Bridge's span.\n",
        "{SHORT,\n",
        "MEDIUM,\n",
        "LONG}\n",
        "\n",
        "rel-l: Relative length of the span to the crossing length.\n",
        "{S: Short,\n",
        "S-F: Short-Full,\n",
        "F: Full}\n",
        "\n",
        "type: Bridge's type.\n",
        "{WOOD,\n",
        "SUSPEN (Suspension),\n",
        "SIMPLE-T (Simple Truss),\n",
        "ARCH,\n",
        "CANTILEV (Cantilever),\n",
        "CONT-T (Continuous Truss)}\n",
        "\n",
        "Source:\n",
        "https://archive.ics.uci.edu/ml/datasets/Pittsburgh+Bridges\n",
        "\n",
        "Reich, Yoram, and Steven J. Fenves. \"The formation and use of abstract concepts in design.\" Concept Formation. Morgan Kaufmann, 1991. 323-353.\n",
        "Reich, Yoram. \"Combining nominal and continuous properties in an incremental learning system for design.\" (1989)."
      ],
      "metadata": {
        "id": "XhigtyLjdYXv"
      }
    },
    {
      "cell_type": "markdown",
      "source": [
        "#### データの内容確認"
      ],
      "metadata": {
        "id": "J3G46-3XVAlx"
      }
    },
    {
      "cell_type": "code",
      "source": [
        "# データの内容確認\n",
        "\n",
        "# URL指定\n",
        "url = 'https://archive.ics.uci.edu/ml/machine-learning-databases/bridges/bridges.data.version1'\n",
        "\n",
        "# ファイルダウンロード\n",
        "!wget -nc $url\n",
        "\n",
        "# 内容確認\n",
        "!head -2 bridges.data.version1"
      ],
      "metadata": {
        "id": "tADrEuc8zUIN"
      },
      "execution_count": null,
      "outputs": []
    },
    {
      "cell_type": "markdown",
      "source": [
        "#### read_csv関数の実行"
      ],
      "metadata": {
        "id": "dmfpq7ozVIV1"
      }
    },
    {
      "cell_type": "code",
      "source": [
        "# 列名定義\n",
        "columns = [\n",
        " 'ID', 'RIVER', 'LOCATION', 'ERECTED', 'PURPOSE',\n",
        " 'LENGTH', 'LANES', 'CLEAR-G', 'T-OR-D', 'MATERIAL',\n",
        " 'SPAN', 'REL-L', 'TYPE'\n",
        "]"
      ],
      "metadata": {
        "id": "Hvn82b6YcaCa"
      },
      "execution_count": null,
      "outputs": []
    },
    {
      "cell_type": "code",
      "execution_count": null,
      "metadata": {
        "id": "iTfaJR0lUu9b"
      },
      "outputs": [],
      "source": [
        "# データ読み込み\n",
        "df1 = pd.read_csv(\n",
        "    url, header=None, names=columns)\n",
        "display(df1.head())"
      ]
    },
    {
      "cell_type": "markdown",
      "source": [
        "#### na_valuesオプションの追加"
      ],
      "metadata": {
        "id": "Aqz_yLuZVcON"
      }
    },
    {
      "cell_type": "code",
      "source": [
        "# na_valuesオプション追加\n",
        "df2 = pd.read_csv(\n",
        "    url, na_values='?', header=None,\n",
        "    names=columns)\n",
        "display(df2.head())"
      ],
      "metadata": {
        "id": "D4QjAYVbW0Zu"
      },
      "execution_count": null,
      "outputs": []
    },
    {
      "cell_type": "markdown",
      "source": [
        "### index_colオプションの追加"
      ],
      "metadata": {
        "id": "HeR3QnWlc-GD"
      }
    },
    {
      "cell_type": "code",
      "source": [
        "# index_colオプションの追加\n",
        "df3 = pd.read_csv(\n",
        "    url, na_values='?', header=None,\n",
        "    names=columns, index_col='ID')\n",
        "display(df3.head())"
      ],
      "metadata": {
        "id": "W9ed07vgh9B3"
      },
      "execution_count": null,
      "outputs": []
    },
    {
      "cell_type": "markdown",
      "source": [
        "### 3.2.4 CSV・Excelファイルへの出力"
      ],
      "metadata": {
        "id": "MUSdyyBt2-mj"
      }
    },
    {
      "cell_type": "code",
      "source": [
        "# データフレームdf2をCSVファイルとして保存\n",
        "# この場合はindex=Falseオプションを付ける\n",
        "df2.to_csv('bridge2.csv', index=False)"
      ],
      "metadata": {
        "id": "h6q7WP_i3rg-"
      },
      "execution_count": null,
      "outputs": []
    },
    {
      "cell_type": "code",
      "source": [
        "# データフレームdf3をCSVファイルとして保存\n",
        "# 今回はIndex=Falseは付けない\n",
        "df3.to_csv('bridge3.csv')"
      ],
      "metadata": {
        "id": "pWwkBW-0ikc-"
      },
      "execution_count": null,
      "outputs": []
    },
    {
      "cell_type": "code",
      "source": [
        "# データフレームdf2をExcelとして保存\n",
        "df2.to_excel('bridge2.xlsx', index=False)"
      ],
      "metadata": {
        "id": "8_ukSj9m7378"
      },
      "execution_count": null,
      "outputs": []
    },
    {
      "cell_type": "code",
      "source": [
        "# 結果確認\n",
        "!ls  "
      ],
      "metadata": {
        "id": "gOyJXxrfwmuv"
      },
      "execution_count": null,
      "outputs": []
    },
    {
      "cell_type": "markdown",
      "source": [
        "### 演習問題"
      ],
      "metadata": {
        "id": "a2cgk4D_MtRM"
      }
    },
    {
      "cell_type": "code",
      "source": [
        "# 演習問題用ファイルのダウンロード\n",
        "url = 'https://raw.githubusercontent.com/makaishi2/samples/main/data/ch03-02-exam.tsv'\n",
        "!wget -nc $url"
      ],
      "metadata": {
        "id": "I8BuXnh-RfMs"
      },
      "execution_count": null,
      "outputs": []
    },
    {
      "cell_type": "code",
      "source": [
        "# 演習問題用ファイルの内容確認\n",
        "!cat ch03-02-exam.tsv"
      ],
      "metadata": {
        "id": "2_k4Dc-fRkKo"
      },
      "execution_count": null,
      "outputs": []
    },
    {
      "cell_type": "markdown",
      "source": [
        "#### 問題  \n",
        "ダウンロード済みのファイルch03-02-exam.tsvをデータフレームに読み込んで下さい。"
      ],
      "metadata": {
        "id": "V1NTbE8aSnPU"
      }
    },
    {
      "cell_type": "code",
      "source": [
        "# 次の行を実装します\n",
        "df4 = \n",
        "\n",
        "\n",
        "\n",
        "# 結果確認\n",
        "display(df4)"
      ],
      "metadata": {
        "id": "MNsuBFqvzJMH"
      },
      "execution_count": null,
      "outputs": []
    },
    {
      "cell_type": "code",
      "source": [],
      "metadata": {
        "id": "1Ib-0zgFOB1t"
      },
      "execution_count": null,
      "outputs": []
    }
  ]
}