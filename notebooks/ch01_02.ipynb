{
  "cells": [
    {
      "cell_type": "markdown",
      "metadata": {
        "id": "g480zMgEVOZt"
      },
      "source": [
        "## 1.2 階乗計算"
      ]
    },
    {
      "cell_type": "code",
      "execution_count": null,
      "metadata": {
        "id": "QHGz2T8uVId7"
      },
      "outputs": [],
      "source": [
        "# 階乗計算\n",
        "\n",
        "# ループカウントNの定義\n",
        "N = 10\n",
        "\n",
        "# 階乗結果の保存先\n",
        "fact = 1\n",
        "\n",
        "# ループ処理\n",
        "for i in range(1, N + 1):\n",
        "\n",
        "    # 階乗計算\n",
        "    fact *= i\n",
        "\n",
        "   # 結果表示\n",
        "    print(i, 'の階乗は', fact)\n"
      ]
    },
    {
      "cell_type": "code",
      "execution_count": null,
      "metadata": {
        "id": "pULSj9kZWNmp"
      },
      "outputs": [],
      "source": [
        ""
      ]
    }
  ],
  "metadata": {
    "colab": {
      "collapsed_sections": [],
      "name": "ch01_02.ipynb",
      "provenance": [],
      "toc_visible": true
    },
    "kernelspec": {
      "display_name": "Python 3",
      "name": "python3"
    },
    "language_info": {
      "name": "python"
    }
  },
  "nbformat": 4,
  "nbformat_minor": 0
}