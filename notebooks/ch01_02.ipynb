{
  "nbformat": 4,
  "nbformat_minor": 0,
  "metadata": {
    "colab": {
      "name": " ch01_02.ipynb",
      "provenance": [],
      "collapsed_sections": [],
      "toc_visible": true
    },
    "kernelspec": {
      "name": "python3",
      "display_name": "Python 3"
    },
    "language_info": {
      "name": "python"
    }
  },
  "cells": [
    {
      "cell_type": "markdown",
      "source": [
        "## 1.2 階乗計算"
      ],
      "metadata": {
        "id": "g480zMgEVOZt"
      }
    },
    {
      "cell_type": "code",
      "execution_count": null,
      "metadata": {
        "id": "QHGz2T8uVId7"
      },
      "outputs": [],
      "source": [
        "# 階乗計算\n",
        "\n",
        "# ループカウントNの定義\n",
        "N = 10\n",
        "\n",
        "# 階乗結果の保存先\n",
        "fact = 1\n",
        "\n",
        "# ループ処理\n",
        "for i in range(1, N+1):\n",
        "    \n",
        "    # 階乗計算\n",
        "    fact *= i\n",
        "\n",
        "    # 結果表示用文字列の生成\n",
        "    output = f'{i}の階乗は{fact}'\n",
        "\n",
        "    # 結果表示\n",
        "    print(output)"
      ]
    },
    {
      "cell_type": "code",
      "source": [
        ""
      ],
      "metadata": {
        "id": "pULSj9kZWNmp"
      },
      "execution_count": null,
      "outputs": []
    }
  ]
}