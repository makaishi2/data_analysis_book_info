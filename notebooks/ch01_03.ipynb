{
  "cells": [
    {
      "cell_type": "markdown",
      "metadata": {
        "id": "ViWp7Gxyl7DI"
      },
      "source": [
        "## 1.3 変数"
      ]
    },
    {
      "cell_type": "markdown",
      "metadata": {
        "id": "IjZMyfdZmILg"
      },
      "source": [
        "### 1.3.2 変数の代入"
      ]
    },
    {
      "cell_type": "code",
      "execution_count": null,
      "metadata": {
        "id": "_2IE5tH4mNUq"
      },
      "outputs": [],
      "source": [
        "# 変数xに値１23を代入\n",
        "x = 123"
      ]
    },
    {
      "cell_type": "code",
      "execution_count": null,
      "metadata": {
        "id": "ht0JPcmOl5oI"
      },
      "outputs": [],
      "source": [
        "# 右と左を入れ替えると文法エラーになる\n",
        "123 = x"
      ]
    },
    {
      "cell_type": "markdown",
      "metadata": {
        "id": "NeoKEdMymSmK"
      },
      "source": [
        "### 1.3.3 変数の参照"
      ]
    },
    {
      "cell_type": "code",
      "execution_count": null,
      "metadata": {
        "id": "7G74pPgamWPx"
      },
      "outputs": [],
      "source": [
        "# 変数xの値を参照する\n",
        "x"
      ]
    },
    {
      "cell_type": "code",
      "execution_count": null,
      "metadata": {
        "id": "flVCnoIumYwc"
      },
      "outputs": [],
      "source": [
        "# print関数の利用\n",
        "print(x)"
      ]
    },
    {
      "cell_type": "markdown",
      "metadata": {
        "id": "rsmVW71_me7h"
      },
      "source": [
        "### 1.3.4 参照と代入の組み合わせ"
      ]
    },
    {
      "cell_type": "code",
      "execution_count": null,
      "metadata": {
        "id": "znKcJYL4mgkL"
      },
      "outputs": [],
      "source": [
        "# 変数xの値に10を加えた結果を変数yに代入\n",
        "y = x + 10"
      ]
    },
    {
      "cell_type": "code",
      "execution_count": null,
      "metadata": {
        "id": "r0AfO-itmgv5"
      },
      "outputs": [],
      "source": [
        "# 結果の確認\n",
        "print(y)"
      ]
    },
    {
      "cell_type": "code",
      "execution_count": null,
      "metadata": {
        "id": "VEpuh3tOmg5D"
      },
      "outputs": [],
      "source": [
        "# 変数wに値10を代入\n",
        "w = 10\n",
        "\n",
        "# ここでは何をやっているか??\n",
        "w = w + 1"
      ]
    },
    {
      "cell_type": "code",
      "execution_count": null,
      "metadata": {
        "id": "6_23WnL1mr8F"
      },
      "outputs": [],
      "source": [
        "# 結果の確認\n",
        "print(w)"
      ]
    },
    {
      "cell_type": "markdown",
      "metadata": {
        "id": "sxleMECYmudx"
      },
      "source": [
        "### 1.3.5 結果表示方法の整理"
      ]
    },
    {
      "cell_type": "code",
      "execution_count": null,
      "metadata": {
        "id": "elZAmRyxmx-R"
      },
      "outputs": [],
      "source": [
        "# 変数xと変数yの値を設定\n",
        "x = 123\n",
        "y = 10"
      ]
    },
    {
      "cell_type": "code",
      "execution_count": null,
      "metadata": {
        "id": "JwH-CF-xmz1y"
      },
      "outputs": [],
      "source": [
        "# 変数xと変数の参照\n",
        "x\n",
        "y"
      ]
    },
    {
      "cell_type": "code",
      "execution_count": null,
      "metadata": {
        "id": "Cua6krg7m0Ad"
      },
      "outputs": [],
      "source": [
        "# print関数呼び出しを並べて書く\n",
        "print(x)\n",
        "print(y)"
      ]
    },
    {
      "cell_type": "markdown",
      "metadata": {
        "id": "bYyQ0y-Em8in"
      },
      "source": [
        "### 演習問題"
      ]
    },
    {
      "cell_type": "markdown",
      "metadata": {
        "id": "GSCsRqwdnEXn"
      },
      "source": [
        "３つの変数a, b, cを使います。  \n",
        "　変数cの値は、変数aと変数bにより、「c = b - a」の計算により求められる関係性を持っているものとします。  \n",
        "　今、変数aの値が3, 変数bの値が10であるとします。この時、変数cの値を変数a, bを経由して求め、結果をprint関数で表示して下さい。\n"
      ]
    },
    {
      "cell_type": "code",
      "execution_count": null,
      "metadata": {
        "id": "diY-x9qNnDie"
      },
      "outputs": [],
      "source": [
        "# 変数aの値を「代入」により設定します\n",
        "\n",
        "\n",
        "# 変数bの値を「代入」により設定します\n",
        "\n",
        "\n",
        "# 変数aと変数bを用いて変数cの値を計算し、代入します\n",
        "\n",
        "\n",
        "# print関数を用いて、変数a, 変数b, 変数ｃの値を順番に表示します\n"
      ]
    }
  ],
  "metadata": {
    "colab": {
      "collapsed_sections": [],
      "provenance": [],
      "toc_visible": true
    },
    "kernelspec": {
      "display_name": "Python 3",
      "name": "python3"
    },
    "language_info": {
      "name": "python"
    }
  },
  "nbformat": 4,
  "nbformat_minor": 0
}