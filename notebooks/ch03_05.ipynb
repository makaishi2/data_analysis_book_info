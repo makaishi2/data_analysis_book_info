{
  "nbformat": 4,
  "nbformat_minor": 0,
  "metadata": {
    "colab": {
      "provenance": [],
      "collapsed_sections": [],
      "toc_visible": true
    },
    "kernelspec": {
      "name": "python3",
      "display_name": "Python 3"
    },
    "language_info": {
      "name": "python"
    }
  },
  "cells": [
    {
      "cell_type": "markdown",
      "source": [
        "## 3.5 データ可視化\n"
      ],
      "metadata": {
        "id": "nTFdqfnumagH"
      }
    },
    {
      "cell_type": "markdown",
      "source": [
        "### 共通処理"
      ],
      "metadata": {
        "id": "9Ooofp9zmsz-"
      }
    },
    {
      "cell_type": "code",
      "execution_count": null,
      "metadata": {
        "id": "m5UgSKVHmMg-"
      },
      "outputs": [],
      "source": [
        "# 日本語化ライブラリ導入\n",
        "!pip install japanize-matplotlib | tail -n 1"
      ]
    },
    {
      "cell_type": "code",
      "source": [
        "# ライブラリのimport\n",
        "\n",
        "# NumPy用ライブラリ\n",
        "import numpy as np\n",
        "\n",
        "# Matplotlib中のpyplotライブラリのインポート\n",
        "import matplotlib.pyplot as plt\n",
        "\n",
        "# matplotlib日本語化対応ライブラリのインポート\n",
        "import japanize_matplotlib\n",
        "\n",
        "# pandas用ライブラリ\n",
        "import pandas as pd\n",
        "\n",
        "# データフレーム表示用関数\n",
        "from IPython.display import display"
      ],
      "metadata": {
        "id": "-3BhNEKumyAq"
      },
      "execution_count": null,
      "outputs": []
    },
    {
      "cell_type": "code",
      "source": [
        "# 表示オプション調整\n",
        "\n",
        "# NumPy表示形式の設定\n",
        "np.set_printoptions(\n",
        "    suppress=True, precision=4, floatmode='fixed'\n",
        ")\n",
        "\n",
        "# グラフのデフォルトフォント指定\n",
        "plt.rcParams[\"font.size\"] = 14\n",
        "\n",
        "# サイズ設定\n",
        "plt.rcParams['figure.figsize'] = (6, 6)\n",
        "\n",
        "# 方眼表示ON\n",
        "plt.rcParams['axes.grid'] = True\n",
        "\n",
        "\n",
        "# データフレームでの表示精度\n",
        "pd.options.display.float_format = '{:.4f}'.format\n",
        "\n",
        "# データフレームですべての項目を表示\n",
        "pd.set_option(\"display.max_columns\",None)"
      ],
      "metadata": {
        "id": "bPlIqDzHm06K"
      },
      "execution_count": null,
      "outputs": []
    },
    {
      "cell_type": "markdown",
      "source": [
        "###  3.5.1 CSVファイルの読み込み"
      ],
      "metadata": {
        "id": "qfB_7a_qm-V2"
      }
    },
    {
      "cell_type": "code",
      "source": [
        "url = 'https://archive.ics.uci.edu/ml/machine-learning-databases/bridges/bridges.data.version1'\n",
        "cols_jp = [\n",
        "    'ID', '川コード', '位置', '竣工年', '目的', '長さ', '車線数', '垂直クリアランス',\n",
        "    '道路位置', '建築資材', '長さ区分', '相対長', '橋種別'\n",
        "]\n",
        "\n",
        "# データ読み込み\n",
        "df = pd.read_csv(\n",
        "    url, header=None,\n",
        "    names=colｓ_jp, na_values='?',\n",
        "    index_col='ID')\n",
        "\n",
        "display(df.head())"
      ],
      "metadata": {
        "id": "NZj0n-6-m48I"
      },
      "execution_count": null,
      "outputs": []
    },
    {
      "cell_type": "markdown",
      "source": [
        "### 3.5.2 ヒストグラム(hist メソッド)"
      ],
      "metadata": {
        "id": "G6daXbMfrouH"
      }
    },
    {
      "cell_type": "code",
      "source": [
        "# 数値項目のヒストグラム表示(簡易版)\n",
        "df.hist()\n",
        "plt.show()"
      ],
      "metadata": {
        "id": "ih6IrHkETBke"
      },
      "execution_count": null,
      "outputs": []
    },
    {
      "cell_type": "code",
      "source": [
        "# 数値項目のヒストグラム表示(見た目を配慮した版)\n",
        "plt.rcParams['figure.figsize'] = (15, 4)\n",
        "df.hist(bins=20, layout=(1, 4))\n",
        "plt.tight_layout()\n",
        "plt.show()"
      ],
      "metadata": {
        "id": "2-JK5poAn6we"
      },
      "execution_count": null,
      "outputs": []
    },
    {
      "cell_type": "markdown",
      "source": [
        "### 3.5.3 棒グラフによる頻度表示(plotメソッド)"
      ],
      "metadata": {
        "id": "Oa2jm6YvtIlC"
      }
    },
    {
      "cell_type": "code",
      "source": [
        "# 「長さ区分」の頻度表示\n",
        "plt.rcParams['figure.figsize'] = (4, 4)\n",
        "c = '長さ区分'\n",
        "df[c].value_counts().plot(kind='bar', title=c)\n",
        "plt.show()"
      ],
      "metadata": {
        "id": "OdsEFgO7sscn"
      },
      "execution_count": null,
      "outputs": []
    },
    {
      "cell_type": "code",
      "source": [
        "# データフレームの項目名を抽出\n",
        "col = df.columns\n",
        "\n",
        "# データ型がobjectの項目のみ抽出\n",
        "col2 = col[df.dtypes == object]\n",
        "\n",
        "# データフレームを該当列のみに絞り込み\n",
        "df2 = df[col2]\n",
        "\n",
        "# 結果確認\n",
        "display(df2.head(2))"
      ],
      "metadata": {
        "id": "IknAzoTnz4hi"
      },
      "execution_count": null,
      "outputs": []
    },
    {
      "cell_type": "code",
      "source": [
        "# ループを回して全カテゴリ項目で頻度表示をする\n",
        "\n",
        "# グラフ描画領域の調整\n",
        "plt.rcParams['figure.figsize'] = (12, 8)\n",
        "\n",
        "# 対象項目の絞り込み\n",
        "df2 = df[df.columns[df.dtypes == object]]\n",
        "\n",
        "# ループ処理で、ヒストグラムの表示\n",
        "for i, c in enumerate(df2.columns):\n",
        "    ax = plt.subplot(2, 4, i+1)\n",
        "    df2[c].value_counts().plot(\n",
        "        kind='bar', title=c, ax=ax)\n",
        "# レイアウトの調整\n",
        "plt.tight_layout()\n",
        "plt.show()"
      ],
      "metadata": {
        "id": "iAkEkrBNtt7e"
      },
      "execution_count": null,
      "outputs": []
    },
    {
      "cell_type": "markdown",
      "source": [
        " ### 3.5.4 箱ひげ図(boxplot関数)"
      ],
      "metadata": {
        "id": "y82S_7j3uzyz"
      }
    },
    {
      "cell_type": "code",
      "source": [
        "# seabornのインポート\n",
        "import seaborn as sns"
      ],
      "metadata": {
        "id": "1lZhWfS2uJTI"
      },
      "execution_count": null,
      "outputs": []
    },
    {
      "cell_type": "code",
      "source": [
        "# 箱ひげ図の描画\n",
        "plt.rcParams['figure.figsize'] = (6, 6)\n",
        "sns.boxplot(\n",
        "    x='建築資材', y='竣工年', data=df,\n",
        "    order=['WOOD', 'IRON', 'STEEL'])\n",
        "plt.title('建築資材と竣工年の関係')\n",
        "plt.show()"
      ],
      "metadata": {
        "id": "8aYjVB11u8mw"
      },
      "execution_count": null,
      "outputs": []
    },
    {
      "cell_type": "markdown",
      "source": [
        "### 3.5.5 散布図(scatterplot関数)"
      ],
      "metadata": {
        "id": "xU7BQ_O3wIYq"
      }
    },
    {
      "cell_type": "code",
      "source": [
        "# scatterplot関数による散布図\n",
        "plt.rcParams['figure.figsize'] = (6, 6)\n",
        "sns.scatterplot(\n",
        "    x='竣工年', y='長さ', data=df, hue='建築資材',\n",
        "    hue_order=['WOOD', 'IRON', 'STEEL'],\n",
        "    s=150, style='建築資材')\n",
        "plt.title('竣工年と長さの関係')\n",
        "plt.show()"
      ],
      "metadata": {
        "id": "dwyCUzJGvOyg"
      },
      "execution_count": null,
      "outputs": []
    },
    {
      "cell_type": "markdown",
      "source": [
        "### 3.5.6 ヒストグラム(histplot関数)"
      ],
      "metadata": {
        "id": "QGHJULho1vqR"
      }
    },
    {
      "cell_type": "code",
      "source": [
        "# 竣工年による建築資材の推移\n",
        "plt.rcParams['figure.figsize'] = (8, 4)\n",
        "sns.histplot(\n",
        "    data=df,  x='竣工年', hue='建築資材', \n",
        "    palette=['blue', 'cyan', 'grey'], multiple='dodge', \n",
        "    shrink=0.7)\n",
        "plt.title('竣工年による建築資材の推移')\n",
        "plt.show()"
      ],
      "metadata": {
        "id": "TBszxtny03My"
      },
      "execution_count": null,
      "outputs": []
    },
    {
      "cell_type": "markdown",
      "source": [
        "### 3.5.7 ヒートマップ(heatmap関数)"
      ],
      "metadata": {
        "id": "ARZCuiMMzT4f"
      }
    },
    {
      "cell_type": "code",
      "source": [
        "# クロス集計表の生成\n",
        "pv = pd.crosstab(\n",
        "    index=df['長さ区分'], columns=df['橋種別'])\n",
        "display(pv)"
      ],
      "metadata": {
        "id": "76faW_NSurkA"
      },
      "execution_count": null,
      "outputs": []
    },
    {
      "cell_type": "code",
      "source": [
        "# ヒートマップ表示\n",
        "plt.rcParams['figure.figsize'] = (6, 6)\n",
        "sns.heatmap(\n",
        "    pv,square=True,annot=True,\n",
        "    fmt='d',cmap='Blues', cbar=False)\n",
        "xlabel = pv.columns.name\n",
        "ylabel = pv.index.name\n",
        "plt.title(xlabel+ ' vs '+ylabel)\n",
        "plt.xlabel(xlabel)\n",
        "plt.ylabel(ylabel)\n",
        "plt.show()"
      ],
      "metadata": {
        "id": "EzPC12tayJ4f"
      },
      "execution_count": null,
      "outputs": []
    },
    {
      "cell_type": "markdown",
      "source": [
        "### 演習問題"
      ],
      "metadata": {
        "id": "4nuu0MUP0sAw"
      }
    },
    {
      "cell_type": "markdown",
      "source": [
        "(1) 「目的」と「橋種別」を軸とする出現頻度のクロス集計表を作り、結果を dispaly関数で表示して下さい。\n",
        "\n",
        "(2) (1)で作ったクロス集計表をヒートマップ表示して下さい。"
      ],
      "metadata": {
        "id": "tFj7NJQkYz-a"
      }
    },
    {
      "cell_type": "code",
      "source": [
        "# (1) 「目的」と「橋種別」を軸とする出現頻度のクロス集計表\n",
        "\n",
        "pv = \n",
        "\n",
        "display(pv)"
      ],
      "metadata": {
        "id": "uh2OVqvF0YVr"
      },
      "execution_count": null,
      "outputs": []
    },
    {
      "cell_type": "code",
      "source": [
        "# (2) (1)で作ったクロス集計表のヒートマップ表示\n",
        "\n",
        "\n",
        "\n",
        "\n",
        "\n",
        "\n",
        "plt.show()"
      ],
      "metadata": {
        "id": "IhRScIfhZBzB"
      },
      "execution_count": null,
      "outputs": []
    }
  ]
}