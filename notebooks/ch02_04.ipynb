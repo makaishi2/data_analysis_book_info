{
  "cells": [
    {
      "cell_type": "markdown",
      "metadata": {
        "id": "1nLC36px3ign"
      },
      "source": [
        "## 2.4 Pandas入門"
      ]
    },
    {
      "cell_type": "markdown",
      "metadata": {
        "id": "Luya5i9CdaCq"
      },
      "source": [
        "### 共通処理"
      ]
    },
    {
      "cell_type": "code",
      "execution_count": null,
      "metadata": {
        "id": "FZbyLMjyczbS"
      },
      "outputs": [],
      "source": [
        "# 日本語化ライブラリ導入\n",
        "!pip install japanize-matplotlib | tail -n 1"
      ]
    },
    {
      "cell_type": "code",
      "execution_count": null,
      "metadata": {
        "id": "xAYkGy2Rc1AU"
      },
      "outputs": [],
      "source": [
        "# 事前処理\n",
        "\n",
        "# 必要ライブラリのimport\n",
        "import numpy as np\n",
        "\n",
        "# Matplotlib中のpyplotライブラリのインポート\n",
        "import matplotlib.pyplot as plt\n",
        "\n",
        "# matplotlib日本語化対応ライブラリのインポート\n",
        "import japanize_matplotlib"
      ]
    },
    {
      "cell_type": "code",
      "execution_count": null,
      "metadata": {
        "id": "oQUyDPMvc5TX"
      },
      "outputs": [],
      "source": [
        "# NumPy表示形式の設定\n",
        "np.set_printoptions(\n",
        "    suppress=True, precision=4, floatmode='fixed'\n",
        ")\n",
        "\n",
        "# グラフのデフォルトフォント指定\n",
        "plt.rcParams[\"font.size\"] = 14\n",
        "\n",
        "# サイズ設定\n",
        "plt.rcParams['figure.figsize'] = (6, 6)"
      ]
    },
    {
      "cell_type": "markdown",
      "metadata": {
        "id": "zxXYSqbO_AFv"
      },
      "source": [
        "### 2.4.2 ライブラリ利用"
      ]
    },
    {
      "cell_type": "markdown",
      "metadata": {
        "id": "H-tj8EEldp-t"
      },
      "source": [
        "#### ライブラリのインポート"
      ]
    },
    {
      "cell_type": "code",
      "execution_count": null,
      "metadata": {
        "id": "i27Vs3BC3eag"
      },
      "outputs": [],
      "source": [
        "# ライブラリのインポート\n",
        "\n",
        "# pandas用ライブラリ\n",
        "import pandas as pd\n",
        "\n",
        "# データフレーム表示用関数\n",
        "from IPython.display import display"
      ]
    },
    {
      "cell_type": "markdown",
      "metadata": {
        "id": "Wy51PknKdwue"
      },
      "source": [
        "#### パラメータ初期化"
      ]
    },
    {
      "cell_type": "code",
      "execution_count": null,
      "metadata": {
        "id": "VExCP_gF_NBH"
      },
      "outputs": [],
      "source": [
        "# パラメータ初期化\n",
        "\n",
        "# データフレームでの表示精度\n",
        "pd.options.display.float_format = '{:.4f}'.format\n",
        "\n",
        "# データフレームですべての項目を表示\n",
        "pd.set_option(\"display.max_columns\",None)"
      ]
    },
    {
      "cell_type": "markdown",
      "metadata": {
        "id": "RD-G8ZvV_g7j"
      },
      "source": [
        "### 2.4.3 データ定義"
      ]
    },
    {
      "cell_type": "markdown",
      "metadata": {
        "id": "OHLKXf6n_q-A"
      },
      "source": [
        "#### データフレーム定義"
      ]
    },
    {
      "cell_type": "code",
      "execution_count": null,
      "metadata": {
        "id": "m_9tUW3Mtlth"
      },
      "outputs": [],
      "source": [
        "# 2重リスト変数の定義\n",
        "data1 = [\n",
        "    ['田中優花' ,'女', 140, 40.5],\n",
        "    ['佐藤和也', '男', 175, 70.2],\n",
        "    ['鈴木一郎', '男', 170, 65.0],\n",
        "    ['高橋美香', '女', 158, 55.6],\n",
        "]\n",
        "\n",
        "# 結果確認\n",
        "print(data1)"
      ]
    },
    {
      "cell_type": "code",
      "execution_count": null,
      "metadata": {
        "id": "A0c2XVNHAQLB"
      },
      "outputs": [],
      "source": [
        "# データフレームの定義\n",
        "df1 = pd.DataFrame(\n",
        "    data1, columns=['氏名', '性別', '身長', '体重']\n",
        ")\n",
        "\n",
        "# 型表示\n",
        "print(type(df1))\n",
        "print()\n",
        "\n",
        "# display関数による整形表示\n",
        "display(df1)"
      ]
    },
    {
      "cell_type": "code",
      "execution_count": null,
      "metadata": {
        "id": "xp56GI8tAn5Y"
      },
      "outputs": [],
      "source": [
        "# データフレームの各部品表示\n",
        "\n",
        "# 列インデックスと行インデックス\n",
        "print('列インデックス', list(df1.columns))\n",
        "print()\n",
        "\n",
        "print('行インデックス', list(df1.index))\n",
        "print()\n",
        "\n",
        "# データの値\n",
        "print('データの値')\n",
        "print(df1.values)"
      ]
    },
    {
      "cell_type": "markdown",
      "metadata": {
        "id": "tFW_59KXEXo_"
      },
      "source": [
        "#### CSVファイルの読み込み"
      ]
    },
    {
      "cell_type": "code",
      "execution_count": null,
      "metadata": {
        "id": "eek_5yvNi45f"
      },
      "outputs": [],
      "source": [
        "# CSVファイルの名称とURL\n",
        "csv_fn = 'df-sample.csv'\n",
        "csv_url = 'https://raw.githubusercontent.com/makaishi2/samples/main/data/' + csv_fn\n",
        "\n",
        "print(csv_fn)\n",
        "print(csv_url)"
      ]
    },
    {
      "cell_type": "code",
      "execution_count": null,
      "metadata": {
        "id": "EWKQS2gih9-G"
      },
      "outputs": [],
      "source": [
        "# インターネット上のCSVファイルをダウンロード\n",
        "!wget -nc $csv_url\n",
        "\n",
        "# ダウンロードしたファイルの内容表示\n",
        "!cat $csv_fn"
      ]
    },
    {
      "cell_type": "code",
      "execution_count": null,
      "metadata": {
        "id": "Zzb1yvlzBJEh"
      },
      "outputs": [],
      "source": [
        "# CSVファイルからの読み込み\n",
        "\n",
        "# データ読み込み\n",
        "df2 = pd.read_csv(csv_fn)\n",
        "\n",
        "# 結果確認\n",
        "display(df2)"
      ]
    },
    {
      "cell_type": "code",
      "execution_count": null,
      "metadata": {
        "id": "jGOLYj1yj9HE"
      },
      "outputs": [],
      "source": [
        "# URLを直接指定することも可能\n",
        "print(csv_url)\n",
        "\n",
        "df3 = pd.read_csv(csv_url)\n",
        "\n",
        "display(df3)"
      ]
    },
    {
      "cell_type": "markdown",
      "metadata": {
        "id": "f90qU4VsMn8v"
      },
      "source": [
        "#### Excelファイルの読み込み"
      ]
    },
    {
      "cell_type": "code",
      "execution_count": null,
      "metadata": {
        "id": "ZuBgAQx_M4Km"
      },
      "outputs": [],
      "source": [
        "# Excelファイルからの読み込み\n",
        "\n",
        "# 読み込み元URL\n",
        "excel_url = 'https://github.com/makaishi2/samples/raw/main/data/df-sample.xlsx'\n",
        "\n",
        "# データ読み込み\n",
        "df4 = pd.read_excel(excel_url)\n",
        "\n",
        "# 結果確認\n",
        "display(df4)"
      ]
    },
    {
      "cell_type": "markdown",
      "metadata": {
        "id": "f-jKRHExTUcP"
      },
      "source": [
        "#### Series定義"
      ]
    },
    {
      "cell_type": "code",
      "execution_count": null,
      "metadata": {
        "id": "VvDRrxWuTp1T"
      },
      "outputs": [],
      "source": [
        "# リスト変数によるSeries変数定義\n",
        "s1 = pd.Series(\n",
        "    [140, 175, 170, 158], \n",
        "    name='身長')\n",
        "\n",
        "print(type(s1))\n",
        "print(s1)"
      ]
    },
    {
      "cell_type": "code",
      "execution_count": null,
      "metadata": {
        "id": "vtR00emqZEmg"
      },
      "outputs": [],
      "source": [
        "# データフレームの特定列からSeries変数を抽出\n",
        "s2 = df2['身長']\n",
        "\n",
        "print(type(s2))\n",
        "print(s2)"
      ]
    },
    {
      "cell_type": "code",
      "execution_count": null,
      "metadata": {
        "id": "rkwZplIqUP4z"
      },
      "outputs": [],
      "source": [
        "# データフレームの特定行からSeries変数を抽出\n",
        "s3 = df2.loc[1]\n",
        "\n",
        "print(type(s3))\n",
        "print(s3)"
      ]
    },
    {
      "cell_type": "markdown",
      "metadata": {
        "id": "I8CKKeWkXYUz"
      },
      "source": [
        "### 2.4.4 参照"
      ]
    },
    {
      "cell_type": "code",
      "execution_count": null,
      "metadata": {
        "id": "p4emLeC6XtKH"
      },
      "outputs": [],
      "source": [
        "# 処理対象データフレームの確認\n",
        "display(df2)"
      ]
    },
    {
      "cell_type": "markdown",
      "metadata": {
        "id": "bhkwc8PeGm1P"
      },
      "source": [
        "#### データ型確認"
      ]
    },
    {
      "cell_type": "code",
      "execution_count": null,
      "metadata": {
        "id": "U_1aUDU0IU24"
      },
      "outputs": [],
      "source": [
        "# 各項目のデータ型確認\n",
        "print(df2.dtypes)"
      ]
    },
    {
      "cell_type": "markdown",
      "metadata": {
        "id": "l_EKcYIuYxzJ"
      },
      "source": [
        "#### 列絞り込み"
      ]
    },
    {
      "cell_type": "code",
      "execution_count": null,
      "metadata": {
        "id": "j18l9d3yUWJk"
      },
      "outputs": [],
      "source": [
        "# 列リストで部分表を抽出\n",
        "\n",
        "# 抽出したい項目名のリストを準備\n",
        "cols = ['身長', '体重']\n",
        "\n",
        "#  <変数名>　[cols]の形で列抽出\n",
        "df5 = df2[cols]\n",
        "\n",
        "# 結果確認\n",
        "display(df5)"
      ]
    },
    {
      "cell_type": "markdown",
      "metadata": {
        "id": "r3lzCduqY4NS"
      },
      "source": [
        "#### 行絞り込み"
      ]
    },
    {
      "cell_type": "code",
      "execution_count": null,
      "metadata": {
        "id": "IKaDNTrEX6PT"
      },
      "outputs": [],
      "source": [
        "# headメソッドで先頭n行の抽出\n",
        "display(df2.head(2))"
      ]
    },
    {
      "cell_type": "code",
      "execution_count": null,
      "metadata": {
        "id": "vyDTCVVQYjrf"
      },
      "outputs": [],
      "source": [
        "# index1: 「性別が男]の判断\n",
        "index1 = df2['性別'] == '男'\n",
        "print(index1)"
      ]
    },
    {
      "cell_type": "code",
      "execution_count": null,
      "metadata": {
        "id": "iSneyII9b_Hx"
      },
      "outputs": [],
      "source": [
        "# index1で行を絞り込む\n",
        "df6 = df2[index1]\n",
        "display(df6)"
      ]
    },
    {
      "cell_type": "code",
      "execution_count": null,
      "metadata": {
        "id": "O9bzTG-PqQUh"
      },
      "outputs": [],
      "source": [
        "# まとめて1行で表現\n",
        "df7 = df2[df2['性別'] == '男']\n",
        "display(df7)"
      ]
    },
    {
      "cell_type": "markdown",
      "metadata": {
        "id": "V8LRikQUtW6A"
      },
      "source": [
        "### 2.4.5 操作"
      ]
    },
    {
      "cell_type": "code",
      "execution_count": null,
      "metadata": {
        "id": "TdtOKAnjuHQj"
      },
      "outputs": [],
      "source": [
        "display(df2)\n",
        "print(df2.dtypes)"
      ]
    },
    {
      "cell_type": "markdown",
      "metadata": {
        "id": "eLAgKPT4tcvs"
      },
      "source": [
        "#### 列削除"
      ]
    },
    {
      "cell_type": "code",
      "execution_count": null,
      "metadata": {
        "id": "M5Qjvw0Bqcp-"
      },
      "outputs": [],
      "source": [
        "# 項目「氏名」を削除する\n",
        "\n",
        "# データをコピーしてオリジナルに影響を与えないようにする\n",
        "df9 = df2.copy()\n",
        "\n",
        "# 項目「氏名」を削除し、結果をdf9に代入\n",
        "df9 = df9.drop('氏名', axis=1)\n",
        "\n",
        "# 結果を確認\n",
        "display(df9)"
      ]
    },
    {
      "cell_type": "markdown",
      "metadata": {
        "id": "22WQGgF_thiN"
      },
      "source": [
        "#### 列追加"
      ]
    },
    {
      "cell_type": "code",
      "execution_count": null,
      "metadata": {
        "id": "M1Z47si9tmwm"
      },
      "outputs": [],
      "source": [
        "# BMI値の計算\n",
        "s4 = df2['体重'] / ((df2['身長']/100) ** 2)\n",
        "\n",
        "# 結果確認\n",
        "print(s4)"
      ]
    },
    {
      "cell_type": "code",
      "execution_count": null,
      "metadata": {
        "id": "MdHtn89lvc5S"
      },
      "outputs": [],
      "source": [
        "# BMI列の追加\n",
        "\n",
        "# データコピー\n",
        "df10 = df2.copy()\n",
        "\n",
        "# 列追加\n",
        "df10['BMI'] = s4\n",
        "\n",
        "# 結果確認\n",
        "display(df10)"
      ]
    },
    {
      "cell_type": "code",
      "execution_count": null,
      "metadata": {
        "id": "-tnITsQcZIxk"
      },
      "outputs": [],
      "source": [
        "# BM列の追加　insertメソッドによる方法\n",
        "\n",
        "# データコピー\n",
        "df10 = df2.copy()\n",
        "\n",
        "# 列追加\n",
        "df10.insert(2, 'BMI', s4)\n",
        "\n",
        "# 結果確認\n",
        "display(df10)"
      ]
    },
    {
      "cell_type": "markdown",
      "metadata": {
        "id": "P6oYRF35tnea"
      },
      "source": [
        "#### 列結合"
      ]
    },
    {
      "cell_type": "code",
      "execution_count": null,
      "metadata": {
        "id": "llqD8zJ6tsg1"
      },
      "outputs": [],
      "source": [
        "# 年齢データの入手\n",
        "s5 = pd.Series(np.array([10, 25, 45, 34]), name='年齢')\n",
        "print(s5)"
      ]
    },
    {
      "cell_type": "code",
      "execution_count": null,
      "metadata": {
        "id": "81HvmHK6wF0B"
      },
      "outputs": [],
      "source": [
        "# 既存データフレームに新しい列の追加\n",
        "df11 = pd.concat([df10, s5], axis=1)\n",
        "\n",
        "# 結果確認\n",
        "display(df11)"
      ]
    },
    {
      "cell_type": "markdown",
      "metadata": {
        "id": "6JY6HduIttkR"
      },
      "source": [
        "#### 行追加"
      ]
    },
    {
      "cell_type": "code",
      "execution_count": null,
      "metadata": {
        "id": "HyeOLEoXtwm0"
      },
      "outputs": [],
      "source": [
        "# 新しい行の追加\n",
        "df12 = df2.append({\n",
        "    '氏名': '山田太郎', '性別': '男', '身長': 165, '体重': 64.2},\n",
        "    ignore_index=True)\n",
        "\n",
        "# 結果確認\n",
        "display(df12)"
      ]
    },
    {
      "cell_type": "markdown",
      "metadata": {
        "id": "7ZDkOkACp-kJ"
      },
      "source": [
        "### 演習問題"
      ]
    },
    {
      "cell_type": "markdown",
      "metadata": {
        "id": "ufThv8qivU4W"
      },
      "source": [
        " (1)\n",
        "次のような変数data1, data2, columnsが定義されているとき、この変数を使って、データフレーム変数df1とdf2を定義して下さい。  \n",
        "data1とdata2はデータフレームのデータに該当する部分、columnsは項目名のリストとします。\n",
        "\n",
        "```\n",
        "data1 = [\n",
        "['田中優花' ,'女', 140, 40.5],\n",
        "['佐藤和也', '男', 175, 70.2],\n",
        "]\n",
        "data2 = [\n",
        "['鈴木一郎', '男', 170, 65.0],\n",
        "['高橋美香', '女', 158, 55.6]\n",
        "]\n",
        "columns=['氏名', '性別', '身長', '体重']\n",
        "```\n",
        "\n",
        "(2) \n",
        "df1とdf2をタテ方向に連結して、新しいデータフレームdf3を作りなさい。"
      ]
    },
    {
      "cell_type": "code",
      "execution_count": null,
      "metadata": {
        "id": "XNs9wbc8qDc7"
      },
      "outputs": [],
      "source": [
        "# 初期データの宣言\n",
        "data1 = [\n",
        "['田中優花' ,'女', 140, 40.5],\n",
        "['佐藤和也', '男', 175, 70.2],\n",
        "]\n",
        "\n",
        "data2 = [\n",
        "['鈴木一郎', '男', 170, 65.0],\n",
        "['高橋美香', '女', 158, 55.6]\n",
        "]\n",
        "\n",
        "columns=['氏名', '性別', '身長', '体重']"
      ]
    },
    {
      "cell_type": "code",
      "execution_count": null,
      "metadata": {
        "id": "Ux-TM62nrGYi"
      },
      "outputs": [],
      "source": [
        "# (1)の解答\n",
        "df1 = \n",
        "df2 = \n",
        "\n",
        "# (1)の結果確認\n",
        "display(df1)\n",
        "display(df2)"
      ]
    },
    {
      "cell_type": "code",
      "execution_count": null,
      "metadata": {
        "id": "zwqktIa8smtC"
      },
      "outputs": [],
      "source": [
        "# (2)の解答\n",
        "df3 = \n",
        "\n",
        "\n",
        "\n",
        "# (2)の結果確認\n",
        "display(df3)"
      ]
    },
    {
      "cell_type": "code",
      "execution_count": null,
      "metadata": {
        "id": "jm9aDB1csuck"
      },
      "outputs": [],
      "source": []
    }
  ],
  "metadata": {
    "colab": {
      "collapsed_sections": [],
      "provenance": [],
      "toc_visible": true
    },
    "kernelspec": {
      "display_name": "Python 3",
      "name": "python3"
    },
    "language_info": {
      "name": "python"
    }
  },
  "nbformat": 4,
  "nbformat_minor": 0
}
