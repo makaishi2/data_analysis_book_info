{
  "cells": [
    {
      "cell_type": "markdown",
      "metadata": {
        "id": "FhWtmDWHv94I"
      },
      "source": [
        " ## 1.4  データ型と算術演算 "
      ]
    },
    {
      "cell_type": "markdown",
      "metadata": {
        "id": "os12doabUva9"
      },
      "source": [
        "### 1.4.1 データ型とtype関数"
      ]
    },
    {
      "cell_type": "markdown",
      "metadata": {
        "id": "pjUJ1l8Q9W3l"
      },
      "source": [
        "#### 整数型"
      ]
    },
    {
      "cell_type": "code",
      "execution_count": null,
      "metadata": {
        "id": "vH4mkG41v0VI"
      },
      "outputs": [],
      "source": [
        "# 変数aに整数型の値123を代入する\n",
        "a = 123\n",
        "\n",
        "# 値を確認する\n",
        "print(a)\n",
        "\n",
        "# 型を確認する\n",
        "print(type(a))"
      ]
    },
    {
      "cell_type": "markdown",
      "metadata": {
        "id": "mZRBRQhJAJiG"
      },
      "source": [
        "#### 浮動小数点型"
      ]
    },
    {
      "cell_type": "code",
      "execution_count": null,
      "metadata": {
        "id": "GJw7AHag9rls"
      },
      "outputs": [],
      "source": [
        "# 変数bに整数型の値123を代入する\n",
        "b = 123.45\n",
        "\n",
        "# 値を確認する\n",
        "print(b)\n",
        "\n",
        "# 型を確認する\n",
        "print(type(b))"
      ]
    },
    {
      "cell_type": "markdown",
      "metadata": {
        "id": "xMnY7aI6FWb6"
      },
      "source": [
        "#### 文字列型"
      ]
    },
    {
      "cell_type": "code",
      "execution_count": null,
      "metadata": {
        "id": "oduallOo95rv"
      },
      "outputs": [],
      "source": [
        "# 変数cに整数型の値123を代入する\n",
        "c = 'xyz'\n",
        "\n",
        "# 値を確認する\n",
        "print(c)\n",
        "\n",
        "# 型を確認する\n",
        "print(type(c))"
      ]
    },
    {
      "cell_type": "markdown",
      "metadata": {
        "id": "n2JeUUrvLyI6"
      },
      "source": [
        "#### ブール型"
      ]
    },
    {
      "cell_type": "code",
      "execution_count": null,
      "metadata": {
        "id": "UJmikAakFkq3"
      },
      "outputs": [],
      "source": [
        "# 変数dにブール型の値Trueを代入する\n",
        "d = True\n",
        "\n",
        "# 値を確認する\n",
        "print(d)\n",
        "\n",
        "# 型を確認する\n",
        "print(type(d))"
      ]
    },
    {
      "cell_type": "markdown",
      "metadata": {
        "id": "FxQuW-5nVAE0"
      },
      "source": [
        "### 1.4.2 算術演算"
      ]
    },
    {
      "cell_type": "markdown",
      "metadata": {
        "id": "MuTuaimnTDbc"
      },
      "source": [
        "#### 加算"
      ]
    },
    {
      "cell_type": "code",
      "execution_count": null,
      "metadata": {
        "id": "GpFyzD9LS-ln"
      },
      "outputs": [],
      "source": [
        "i1 = 10\n",
        "i2 = 123\n",
        "\n",
        "# 整数型同士の加算\n",
        "i3 = i1 + i2\n",
        "\n",
        "# 結果確認\n",
        "print(i3)\n",
        "\n",
        "# 型確認\n",
        "print(type(i3))"
      ]
    },
    {
      "cell_type": "code",
      "execution_count": null,
      "metadata": {
        "id": "oAVg5AU5TbKN"
      },
      "outputs": [],
      "source": [
        "f1 = 10.01\n",
        "f2 = 123.45\n",
        "\n",
        "# 浮動小数点型同士の加算\n",
        "f3 = f1 + f2\n",
        "\n",
        "# 結果確認\n",
        "print(f3)\n",
        "\n",
        "# 型確認\n",
        "print(type(f3))"
      ]
    },
    {
      "cell_type": "code",
      "execution_count": null,
      "metadata": {
        "id": "3cMtwTckTp19"
      },
      "outputs": [],
      "source": [
        "s1 = 'ABC'\n",
        "s2 = 'xyz'\n",
        "\n",
        "# 文字列型同士の加算\n",
        "s3 = s1 + s2\n",
        "\n",
        "# 結果確認\n",
        "print(s3)\n",
        "\n",
        "# 型確認\n",
        "print(type(s3))"
      ]
    },
    {
      "cell_type": "markdown",
      "metadata": {
        "id": "gW_kSJ3iUBi_"
      },
      "source": [
        "#### 減算"
      ]
    },
    {
      "cell_type": "code",
      "execution_count": null,
      "metadata": {
        "id": "7ea3T-zhT2yq"
      },
      "outputs": [],
      "source": [
        "i1 = 10\n",
        "i2 = 123\n",
        "\n",
        "# 整数型同士の減算\n",
        "i4 = i1 - i2\n",
        "\n",
        "# 結果確認\n",
        "print(i4)\n",
        "\n",
        "# 型確認\n",
        "print(type(i4))"
      ]
    },
    {
      "cell_type": "markdown",
      "metadata": {
        "id": "sIWj2TO0Zzs_"
      },
      "source": [
        "#### 乗算"
      ]
    },
    {
      "cell_type": "code",
      "execution_count": null,
      "metadata": {
        "id": "KnAo3FNGUMCl"
      },
      "outputs": [],
      "source": [
        "i1 = 123456789\n",
        "i2 = 8\n",
        "\n",
        "# 整数型同士の乗算\n",
        "i5 = i1 * i2\n",
        "\n",
        "# 結果確認\n",
        "print(i5)\n",
        "\n",
        "# 型確認\n",
        "print(type(i5))"
      ]
    },
    {
      "cell_type": "markdown",
      "metadata": {
        "id": "MwNjeWiMZ6IK"
      },
      "source": [
        "#### 除算"
      ]
    },
    {
      "cell_type": "code",
      "execution_count": null,
      "metadata": {
        "id": "_YnC4sZjUe_D"
      },
      "outputs": [],
      "source": [
        "i1 = 10\n",
        "i2 = 7\n",
        "\n",
        "# 整数型同士の除算\n",
        "i6 = i1 / i2\n",
        "\n",
        "# 結果確認\n",
        "print(i6)\n",
        "\n",
        "# 型確認\n",
        "print(type(i6))"
      ]
    },
    {
      "cell_type": "markdown",
      "metadata": {
        "id": "fop5Qg9mbVsw"
      },
      "source": [
        "#### 整数除算と余り"
      ]
    },
    {
      "cell_type": "code",
      "execution_count": null,
      "metadata": {
        "id": "dg1FK-Tfagg2"
      },
      "outputs": [],
      "source": [
        "i1 = 10\n",
        "i2 = 7\n",
        "\n",
        "# 整数除算\n",
        "i7 = i1 // i2\n",
        "\n",
        "# 結果確認\n",
        "print(i7)\n",
        "\n",
        "# 余り\n",
        "i8 = i1 % i2\n",
        "\n",
        "# 結果確認\n",
        "print(i8)"
      ]
    },
    {
      "cell_type": "markdown",
      "metadata": {
        "id": "UO8BtRayk_kf"
      },
      "source": [
        "#### 累乗"
      ]
    },
    {
      "cell_type": "code",
      "execution_count": null,
      "metadata": {
        "id": "3slEIecalD1c"
      },
      "outputs": [],
      "source": [
        "i1 = 2\n",
        "i2 = 10\n",
        "\n",
        "# 累乗の計算\n",
        "i9 = i1 ** i2\n",
        "\n",
        "# 結果確認\n",
        "print(i9)"
      ]
    },
    {
      "cell_type": "markdown",
      "metadata": {
        "id": "oX0kpdstAORZ"
      },
      "source": [
        "###1.4.3 特殊な代入演算子(累算代入演算子)"
      ]
    },
    {
      "cell_type": "code",
      "execution_count": null,
      "metadata": {
        "id": "9QZMM2Hqbs-t"
      },
      "outputs": [],
      "source": [
        "# 変数wに値10を代入\n",
        "w = 10\n",
        "\n",
        "# 累算代入演算子を使ってwの値に1を加える\n",
        "w += 1\n",
        "\n",
        "# 結果確認\n",
        "print(w)"
      ]
    },
    {
      "cell_type": "markdown",
      "metadata": {
        "id": "nnQu1f7wLQLu"
      },
      "source": [
        "### 演習問題"
      ]
    },
    {
      "cell_type": "markdown",
      "metadata": {
        "id": "DQ3nc8NRM418"
      },
      "source": [
        "#### 問題\n",
        "　変数a, b, cにそれぞれ値1000, 2000, 3000を代入します。  \n",
        "　次に、3つの変数それぞれを整数の範囲で7で割ったあまりを計算し、3つのあまりをすべて足した結果をdに代入して下さい。  \n",
        "　dの計算方法はいろいろありますが、1-4-3項で説明した累算代入演算子をうまく使って計算して下さい。\n"
      ]
    },
    {
      "cell_type": "code",
      "execution_count": null,
      "metadata": {
        "id": "LOCz5s24A4yf"
      },
      "outputs": [],
      "source": [
        "# 変数a, b, cの値をそれぞれ設定します\n",
        "\n",
        "\n",
        "# aを7で割った余りを変数dに代入」します\n",
        "\n",
        "\n",
        "# 上の結果に、累算代入演算子を利用してbを7で割ったあまりを加えて下さい\n",
        "\n",
        "\n",
        "# 更にその結果に、ｃを7で割った余りを加えます\n",
        "\n",
        "\n",
        "# print関数で結果を表示します。\n"
      ]
    }
  ],
  "metadata": {
    "colab": {
      "collapsed_sections": [],
      "provenance": [],
      "toc_visible": true
    },
    "kernelspec": {
      "display_name": "Python 3",
      "name": "python3"
    },
    "language_info": {
      "name": "python"
    }
  },
  "nbformat": 4,
  "nbformat_minor": 0
}