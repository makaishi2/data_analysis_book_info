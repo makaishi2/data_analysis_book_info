{
  "nbformat": 4,
  "nbformat_minor": 0,
  "metadata": {
    "colab": {
      "provenance": [],
      "collapsed_sections": [],
      "toc_visible": true
    },
    "kernelspec": {
      "name": "python3",
      "display_name": "Python 3"
    },
    "language_info": {
      "name": "python"
    }
  },
  "cells": [
    {
      "cell_type": "markdown",
      "source": [
        "## 3.3 データ前処理\n"
      ],
      "metadata": {
        "id": "U6k_iw6o47mZ"
      }
    },
    {
      "cell_type": "markdown",
      "source": [
        "### 共通処理"
      ],
      "metadata": {
        "id": "IbEIrBgt-Hqw"
      }
    },
    {
      "cell_type": "code",
      "source": [
        "# 日本語化ライブラリ導入\n",
        "!pip install japanize-matplotlib | tail -n 1"
      ],
      "metadata": {
        "id": "PopsYvu0-L6G"
      },
      "execution_count": null,
      "outputs": []
    },
    {
      "cell_type": "code",
      "source": [
        "# ライブラリのimport\n",
        "\n",
        "# NumPy用ライブラリ\n",
        "import numpy as np\n",
        "\n",
        "# Matplotlib中のpyplotライブラリのインポート\n",
        "import matplotlib.pyplot as plt\n",
        "\n",
        "# matplotlib日本語化対応ライブラリのインポート\n",
        "import japanize_matplotlib\n",
        "\n",
        "# pandas用ライブラリ\n",
        "import pandas as pd\n",
        "\n",
        "# データフレーム表示用関数\n",
        "from IPython.display import display"
      ],
      "metadata": {
        "id": "xhnAsf0j-L-z"
      },
      "execution_count": null,
      "outputs": []
    },
    {
      "cell_type": "code",
      "source": [
        "# 表示オプション調整\n",
        "\n",
        "# NumPy表示形式の設定\n",
        "np.set_printoptions(\n",
        "    suppress=True, precision=4, floatmode='fixed'\n",
        ")\n",
        "\n",
        "# グラフのデフォルトフォント指定\n",
        "plt.rcParams[\"font.size\"] = 14\n",
        "\n",
        "# サイズ設定\n",
        "plt.rcParams['figure.figsize'] = (6, 6)\n",
        "\n",
        "# 方眼表示ON\n",
        "plt.rcParams['axes.grid'] = True\n",
        "\n",
        "# データフレームでの表示精度\n",
        "pd.options.display.float_format = '{:.4f}'.format\n",
        "\n",
        "# データフレームですべての項目を表示\n",
        "pd.set_option(\"display.max_columns\",None)"
      ],
      "metadata": {
        "id": "G_2DUdqh-MDM"
      },
      "execution_count": null,
      "outputs": []
    },
    {
      "cell_type": "markdown",
      "source": [
        "### 3.3.1 実習の前提条件"
      ],
      "metadata": {
        "id": "1SMe4v-4mHKh"
      }
    },
    {
      "cell_type": "markdown",
      "source": [
        "#### CSV ファイル読み込み"
      ],
      "metadata": {
        "id": "fx1c1-DC_uFx"
      }
    },
    {
      "cell_type": "code",
      "source": [
        "url = 'https://archive.ics.uci.edu/ml/machine-learning-databases/bridges/bridges.data.version1'\n",
        "\n",
        "# 列名定義\n",
        "columns = [\n",
        " 'ID', 'RIVER', 'LOCATION', 'ERECTED', 'PURPOSE',\n",
        " 'LENGTH', 'LANES', 'CLEAR-G', 'T-OR-D', 'MATERIAL',\n",
        " 'SPAN', 'REL-L', 'TYPE'\n",
        "]\n",
        "\n",
        "# データ読み込み\n",
        "df1 = pd.read_csv(\n",
        "    url, header=None,\n",
        "    names=columns, na_values='?',\n",
        "    index_col='ID')\n",
        "display(df1.head())"
      ],
      "metadata": {
        "id": "zpBQuGCV5KcK"
      },
      "execution_count": null,
      "outputs": []
    },
    {
      "cell_type": "markdown",
      "source": [
        "  ### 3.3.2 項目名変更"
      ],
      "metadata": {
        "id": "N92mJ-vaAIbd"
      }
    },
    {
      "cell_type": "code",
      "source": [
        "# 差し替え用項目名リスト\n",
        "cols_jp = [\n",
        "    '川コード', '位置', '竣工年', '目的', '長さ', '車線数', '垂直クリアランス',\n",
        "    '道路位置', '建築資材', '長さ区分', '相対長', '橋種別'\n",
        "]\n",
        "\n",
        "# 加工用の別データフレームの用意\n",
        "df2 = df1.copy()\n",
        "\n",
        "# 列名の差し替え\n",
        "df2.columns = cols_jp\n",
        "\n",
        "# 結果確認\n",
        "display(df2.head())"
      ],
      "metadata": {
        "id": "Y85VvU2oANXF"
      },
      "execution_count": null,
      "outputs": []
    },
    {
      "cell_type": "markdown",
      "source": [
        "### 3.3.3 欠損値"
      ],
      "metadata": {
        "id": "3HVfWTdk5mgs"
      }
    },
    {
      "cell_type": "markdown",
      "source": [
        "#### 欠損値確認"
      ],
      "metadata": {
        "id": "NXu0EC69BZZj"
      }
    },
    {
      "cell_type": "code",
      "source": [
        "# isnullメソッドで各要素ごとにNULLかどうかを判断\n",
        "df2.isnull()"
      ],
      "metadata": {
        "id": "di99bXpB5bm8"
      },
      "execution_count": null,
      "outputs": []
    },
    {
      "cell_type": "code",
      "source": [
        "# isnullメソッドの結果に対してsumメソッドをかけると、\n",
        "# 項目単位で何件NULLがあったかがわかる\n",
        "# （メソッドチェイン呼び出し)\n",
        "df2.isnull().sum()"
      ],
      "metadata": {
        "id": "PTrFi0KS5rWX"
      },
      "execution_count": null,
      "outputs": []
    },
    {
      "cell_type": "markdown",
      "source": [
        "☞データ分析のためのポイント  \n",
        "欠損値確認　.isnull().sum() とセットで一つのメソッドとして覚える"
      ],
      "metadata": {
        "id": "PWu5h86VSoam"
      }
    },
    {
      "cell_type": "markdown",
      "source": [
        "#### 欠損値除去"
      ],
      "metadata": {
        "id": "TmjlU9v2BeyT"
      }
    },
    {
      "cell_type": "code",
      "source": [
        "# 項目「位置」に欠損値がある行を削除する\n",
        "df3 = df2.copy()\n",
        "df3 = df3.dropna(subset=['位置'])\n",
        "df3.isnull().sum()"
      ],
      "metadata": {
        "id": "FtpBxCs-MlOv"
      },
      "execution_count": null,
      "outputs": []
    },
    {
      "cell_type": "markdown",
      "source": [
        "### 3.3.4 データ型"
      ],
      "metadata": {
        "id": "NPeiVXBmF5Wg"
      }
    },
    {
      "cell_type": "code",
      "source": [
        "# 各項目のデータ型確認\n",
        "df3.dtypes"
      ],
      "metadata": {
        "id": "UdB_nVFIF3_B"
      },
      "execution_count": null,
      "outputs": []
    },
    {
      "cell_type": "code",
      "source": [
        "# 「位置」のデータ型を整数型に直す\n",
        "df3['位置'] = df3['位置'].astype('int')\n",
        "print(df3.dtypes)\n",
        "display(df3.head(2))"
      ],
      "metadata": {
        "id": "rKayTzewNSDh"
      },
      "execution_count": null,
      "outputs": []
    },
    {
      "cell_type": "code",
      "source": [
        "# 欠損値をなくす前のdf2では、この処理はできない\n",
        "df2['位置'] = df2['位置'].astype('int')"
      ],
      "metadata": {
        "id": "TbGMV8QsTs4K"
      },
      "execution_count": null,
      "outputs": []
    },
    {
      "cell_type": "markdown",
      "source": [
        "☞データ分析のためのポイント  \n",
        "本来整数型の項目が浮動小数点型になっている場合は欠損値があることを疑う  \n"
      ],
      "metadata": {
        "id": "jFFj0nekT2cG"
      }
    },
    {
      "cell_type": "markdown",
      "source": [
        "### 3.3.5 統計量計算(describeメソッド)"
      ],
      "metadata": {
        "id": "Oewar_lRF2-f"
      }
    },
    {
      "cell_type": "code",
      "source": [
        "# 引数なしのdescribeメソッド呼び出し\n",
        "df2.describe()"
      ],
      "metadata": {
        "id": "Oi3_6FAxF1YL"
      },
      "execution_count": null,
      "outputs": []
    },
    {
      "cell_type": "code",
      "source": [
        "# 文字列型項目へのdescribeメソッド呼び出し\n",
        "df2.describe(include='O')"
      ],
      "metadata": {
        "id": "kYiWTJvOF1hB"
      },
      "execution_count": null,
      "outputs": []
    },
    {
      "cell_type": "markdown",
      "source": [
        "### 3.3.6 値の出現回数 (value_countsメソッド)"
      ],
      "metadata": {
        "id": "R1BCMwJ3GTC4"
      }
    },
    {
      "cell_type": "code",
      "source": [
        "# 値の出現回数カウント\n",
        "df2['建築資材'].value_counts()"
      ],
      "metadata": {
        "id": "WxpIyQsvF1la"
      },
      "execution_count": null,
      "outputs": []
    },
    {
      "cell_type": "markdown",
      "source": [
        "### 3.3.7 特徴量計算(mapメソッド)"
      ],
      "metadata": {
        "id": "PwpD5V-ERzyG"
      }
    },
    {
      "cell_type": "code",
      "source": [
        "# 西暦年から1から4までの竣工年区分を返す関数\n",
        "def get_year_cd(x):\n",
        "    thres = [1850, 1900, 1950]\n",
        "    thres_np = np.array(thres)\n",
        "    return (thres_np < x).sum() + 1"
      ],
      "metadata": {
        "id": "KDwDb1TDAeke"
      },
      "execution_count": null,
      "outputs": []
    },
    {
      "cell_type": "code",
      "source": [
        "# map関数を使い、すべての行に対して「竣工年区分」を計算\n",
        "df3['竣工年'].map(get_year_cd)"
      ],
      "metadata": {
        "id": "RMAbisErQhK1"
      },
      "execution_count": null,
      "outputs": []
    },
    {
      "cell_type": "code",
      "source": [
        "# 新しい特徴量「竣工年区分」の計算\n",
        "df3['竣工年区分'] = df3['竣工年'].map(get_year_cd)\n",
        "\n",
        "display(df3.head(2))\n",
        "display(df3.tail(4))"
      ],
      "metadata": {
        "id": "_ozAmuyoQxaK"
      },
      "execution_count": null,
      "outputs": []
    },
    {
      "cell_type": "markdown",
      "source": [
        "☞データ分析のためのポイント    \n",
        "特定の項目からの計算によって新しい項目を作りたい場合、計算用関数を用意してmapメソッドにその関数を渡す\n"
      ],
      "metadata": {
        "id": "cMdR8dsGUj-G"
      }
    },
    {
      "cell_type": "markdown",
      "source": [
        "### 演習問題"
      ],
      "metadata": {
        "id": "kjbQ1IJNSZNr"
      }
    },
    {
      "cell_type": "markdown",
      "source": [
        "ここまで加工したデータフレームdf3について、更に次の処理をして下さい。  \n",
        "(1) 「車線数」の欠損値を取り除きます。  \n",
        "(2) 「車線数」を整数値に変換します。 "
      ],
      "metadata": {
        "id": "nWKxUa5gGGnY"
      }
    },
    {
      "cell_type": "code",
      "source": [
        "# (1) 「車線数」の欠損値を取り除く\n",
        "# データフレームコピー\n",
        "df4 =\n",
        "\n",
        "# 車線数の欠損値除去\n",
        "df4 = \n",
        "\n",
        "# 結果確認\n",
        "df4.isnull().sum()"
      ],
      "metadata": {
        "id": "oVbidVGqSfD4"
      },
      "execution_count": null,
      "outputs": []
    },
    {
      "cell_type": "code",
      "source": [
        "# (2)　「車線数」のデータ型を整数型に変換する\n",
        "# データフレームコピー\n",
        "df5 = \n",
        "\n",
        "# データ型の変換\n",
        "\n",
        "\n",
        "# 結果確認\n",
        "print(df5.dtypes)\n",
        "df5.head(2)"
      ],
      "metadata": {
        "id": "YCLl8NCcSfO1"
      },
      "execution_count": null,
      "outputs": []
    }
  ]
}