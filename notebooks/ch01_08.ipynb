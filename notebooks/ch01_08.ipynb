{
  "cells": [
    {
      "cell_type": "markdown",
      "metadata": {
        "id": "GNeFxUlUZ3z5"
      },
      "source": [
        "## 1.8 タプルと辞書"
      ]
    },
    {
      "cell_type": "markdown",
      "metadata": {
        "id": "aAuxE1kLaOiz"
      },
      "source": [
        "### 1.8.1 タプル"
      ]
    },
    {
      "cell_type": "markdown",
      "metadata": {
        "id": "K9TnCZaxai7w"
      },
      "source": [
        "#### タプルの定義"
      ]
    },
    {
      "cell_type": "code",
      "execution_count": null,
      "metadata": {
        "id": "AtGwW_X7Z29e"
      },
      "outputs": [],
      "source": [
        "# タプル型の定義と性質\n",
        "\n",
        "# タプル型を定義するときは\n",
        "# (値1, 値2, ..., 値N)\n",
        "# という書き方をする\n",
        "t1 = (1, 3, 5, 7, 9)\n",
        "\n",
        "# タプル型のtypeは class tuple\n",
        "print(type(t1))\n",
        "\n",
        "# print関数にタプル型を直接渡すと、\n",
        "# すべての要素を表示してくれる\n",
        "print(t1)"
      ]
    },
    {
      "cell_type": "code",
      "execution_count": null,
      "metadata": {
        "id": "YosGTSPoF4vj"
      },
      "outputs": [],
      "source": [
        "# 要素が１つしなないタプルの例\n",
        "# 後ろにカンマがないと、かっこの意味が別になるため\n",
        "\n",
        "t2 = (11,)\n",
        "\n",
        "# 結果確認\n",
        "print(type(t2))\n",
        "print(t2)"
      ]
    },
    {
      "cell_type": "markdown",
      "metadata": {
        "id": "yzfb1bLTalup"
      },
      "source": [
        "#### タプルの参照"
      ]
    },
    {
      "cell_type": "code",
      "execution_count": null,
      "metadata": {
        "id": "SUgVSKP-aVs2"
      },
      "outputs": [],
      "source": [
        "t1 = (1, 3, 5, 7, 9)\n",
        "\n",
        "# 特定の要素の参照\n",
        "print(t1[1])\n",
        "\n",
        "# スライス参照\n",
        "print(t1[1:3])"
      ]
    },
    {
      "cell_type": "markdown",
      "metadata": {
        "id": "VVanpJxgasfN"
      },
      "source": [
        "#### 変更可能性"
      ]
    },
    {
      "cell_type": "code",
      "execution_count": null,
      "metadata": {
        "id": "bZX9_M0_arv0"
      },
      "outputs": [],
      "source": [
        "t1 = (1, 3, 5, 7, 9)\n",
        "\n",
        "# 一度定義したタプルの特定要素を変更しようとするとエラーになる\n",
        "t1[1] = 4"
      ]
    },
    {
      "cell_type": "code",
      "execution_count": null,
      "metadata": {
        "id": "bXnehJ-5KPlk"
      },
      "outputs": [],
      "source": [
        "l1 = [1, 3, 5, 7, 9]\n",
        "\n",
        "# リストに対して同じ操作をしてもエラーにならない\n",
        "l1[1] = 4\n",
        "\n",
        "# 結果確認(意図したとおりl[1]が変更されている)\n",
        "print(l1)"
      ]
    },
    {
      "cell_type": "markdown",
      "metadata": {
        "id": "qrRGkR7Wa4ni"
      },
      "source": [
        "#### アンパック代入"
      ]
    },
    {
      "cell_type": "code",
      "execution_count": null,
      "metadata": {
        "id": "9lgxvwZ-a96D"
      },
      "outputs": [],
      "source": [
        "# タプルを使って複数の変数に同時に代入ができる\n",
        "x, y = (10, 123)\n",
        "\n",
        "# 結果確認\n",
        "print('x = ', x)\n",
        "print('y = ', y)"
      ]
    },
    {
      "cell_type": "code",
      "execution_count": null,
      "metadata": {
        "id": "IdbRJAXJVbBd"
      },
      "outputs": [],
      "source": [
        "# ループ処理とアンパック代入の組み合わせ例\n",
        "\n",
        "# データ定義\n",
        "data = [\n",
        "    ('T254', 12),\n",
        "    ('A727', 6),\n",
        "    ('T256', 4),\n",
        "    ('T254', 10),\n",
        "    ('A726', 7),\n",
        "    ('A727', 4)\n",
        "]\n",
        "\n",
        "# ループ処理の中で、２つの要素を同時に取り出す\n",
        "for key, value in data:\n",
        "    print('key = ', key, '  value =', value)"
      ]
    },
    {
      "cell_type": "markdown",
      "metadata": {
        "id": "KQVz5uo7FNLj"
      },
      "source": [
        "### 1.8.2 集合"
      ]
    },
    {
      "cell_type": "markdown",
      "metadata": {
        "id": "IBUYysPkHfSW"
      },
      "source": [
        "#### 集合の定義"
      ]
    },
    {
      "cell_type": "code",
      "execution_count": null,
      "metadata": {
        "id": "pYHvGWF2FSAJ"
      },
      "outputs": [],
      "source": [
        "# 集合の定義\n",
        "s1 = {5, 2, 1, 2, 3, 9, 3, 4}\n",
        "\n",
        "# 結果確認\n",
        "print(s1)"
      ]
    },
    {
      "cell_type": "markdown",
      "metadata": {
        "id": "hAhbmZEmHkbg"
      },
      "source": [
        "#### 集合の利用法"
      ]
    },
    {
      "cell_type": "code",
      "execution_count": null,
      "metadata": {
        "id": "mtzvzB0hFSKB"
      },
      "outputs": [],
      "source": [
        "# 集合の利用法(リストの要素をユニークにする)\n",
        "\n",
        "# リスト型変数l5の定義(重複する要素を含んでいる)\n",
        "l5 = [5, 2, 1, 2, 3, 9, 3, 4]\n",
        "\n",
        "# リスト型変数を集合型変数s2に変換する\n",
        "s2 = set(l5)\n",
        "print('s2 = ', s2)\n",
        "\n",
        "# s2を再度リスト型変数l6に変換する\n",
        "l6 = list(s2)\n",
        "print('l6 = ', l6)\n",
        "\n",
        "# ２つの関数呼び出しをまとめた結果\n",
        "l7 = list(set(l5))\n",
        "print('l7 = ', l7)"
      ]
    },
    {
      "cell_type": "markdown",
      "metadata": {
        "id": "72_ec1NoaWWi"
      },
      "source": [
        "### 1.8.3辞書"
      ]
    },
    {
      "cell_type": "markdown",
      "metadata": {
        "id": "EpMMjqhjgdCh"
      },
      "source": [
        "#### 辞書の定義"
      ]
    },
    {
      "cell_type": "code",
      "execution_count": null,
      "metadata": {
        "id": "WKCBggYmaepw"
      },
      "outputs": [],
      "source": [
        "# 辞書の定義\n",
        "d1 = {\n",
        "    'T254': '男の子用食器セット',\n",
        "    'T256': '女の子用食器セット',\n",
        "    'A726': '目覚まし時計（緑）',\n",
        "    'A727': '目覚まし時計（赤）',\n",
        "    'A728': '目覚まし時計（ピンク）'\n",
        "}\n",
        "\n",
        "# typeの確認\n",
        "print(type(d1))\n",
        "\n",
        "# 値の確認\n",
        "print(d1)"
      ]
    },
    {
      "cell_type": "markdown",
      "metadata": {
        "id": "7zN5YR9L6IUo"
      },
      "source": [
        "#### 辞書の参照"
      ]
    },
    {
      "cell_type": "code",
      "execution_count": null,
      "metadata": {
        "id": "zIq11kqojKTB"
      },
      "outputs": [],
      "source": [
        "# 辞書の参照\n",
        "print(d1['A726'])"
      ]
    },
    {
      "cell_type": "markdown",
      "metadata": {
        "id": "2vp_nYEN9U_p"
      },
      "source": [
        "#### 辞書の追加・更新・削除"
      ]
    },
    {
      "cell_type": "code",
      "execution_count": null,
      "metadata": {
        "id": "RaREn8ph9dYl"
      },
      "outputs": [],
      "source": [
        "d1 = {\n",
        "    'T254': '男の子用食器セット',\n",
        "    'T256': '女の子用食器セット',\n",
        "    'A726': '目覚まし時計（緑）',\n",
        "    'A727': '目覚まし時計（赤）',\n",
        "    'A728': '目覚まし時計（ピンク）'\n",
        "}\n",
        "\n",
        "# 新しい項目を追加\n",
        "d1['T257'] = '大人用食器セット'\n",
        "\n",
        "# 既存項目の修正\n",
        "d1['A726'] = '目覚まし時計（青）'\n",
        "\n",
        "# 削除 (del コマンド)\n",
        "del d1['A728']\n",
        "\n",
        "# 結果確認\n",
        "print(d1)"
      ]
    },
    {
      "cell_type": "markdown",
      "metadata": {
        "id": "ms8YH7geOFyu"
      },
      "source": [
        "#### 辞書のメソッド利用"
      ]
    },
    {
      "cell_type": "code",
      "execution_count": null,
      "metadata": {
        "id": "jlBBnSHWOJsM"
      },
      "outputs": [],
      "source": [
        "# keysメソッドの利用\n",
        "\n",
        "d1 = {\n",
        "    'T254': '男の子用食器セット',\n",
        "    'T256': '女の子用食器セット',\n",
        "    'A726': '目覚まし時計（緑）',\n",
        "    'A727': '目覚まし時計（赤）',\n",
        "    'A728': '目覚まし時計（ピンク）'\n",
        "}\n",
        "\n",
        "# keysメソッドの戻り値の確認\n",
        "print(d1.keys())\n",
        "\n",
        "# in演算子との組み合わせ利用例\n",
        "# キーの中に'T256'が含まれているか？\n",
        "k1 = 'T256'\n",
        "c1 = k1 in d1.keys()\n",
        "print(c1)\n",
        "\n",
        "# キーの中に'T257'が含まれているか？\n",
        "k2 = 'T257'\n",
        "c2 = k2 in d1.keys()\n",
        "print(c2)"
      ]
    },
    {
      "cell_type": "markdown",
      "metadata": {
        "id": "VoBe1Mj7TK34"
      },
      "source": [
        "### 演習問題"
      ]
    },
    {
      "cell_type": "code",
      "execution_count": null,
      "metadata": {
        "id": "Ujc35FqdhuLV"
      },
      "outputs": [],
      "source": [
        "# 読み込み対象データの初期設定\n",
        "data = [\n",
        "    ('T254', 12),\n",
        "    ('A727', 6),\n",
        "    ('T256', 4),\n",
        "    ('T254', 10),\n",
        "    ('A726', 7),\n",
        "    ('A727', 4)\n",
        "]\n",
        "\n",
        "# 辞書　初期状態は空\n",
        "d2 = {}\n",
        "\n",
        "# この部分を実装します\n",
        "# 外側はループ処理\n",
        "# 内側はif文で２階層の組み合わせになります。\n",
        "\n",
        "# キーが辞書に存在するかどうかをチェック\n",
        "\n",
        "# 該当キー項目が存在する場合\n",
        "\n",
        "# 該当キー項目が存在しない場合\n",
        "\n",
        "\n",
        "# 結果の確認\n",
        "print(d2)"
      ]
    }
  ],
  "metadata": {
    "colab": {
      "collapsed_sections": [],
      "provenance": [],
      "toc_visible": true
    },
    "kernelspec": {
      "display_name": "Python 3",
      "name": "python3"
    },
    "language_info": {
      "name": "python"
    }
  },
  "nbformat": 4,
  "nbformat_minor": 0
}
