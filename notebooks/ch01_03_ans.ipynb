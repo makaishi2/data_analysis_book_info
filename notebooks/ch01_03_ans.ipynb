{
  "cells": [
    {
      "cell_type": "markdown",
      "metadata": {
        "id": "rZAoI8mrA8Zr"
      },
      "source": [
        "## 1.3 変数"
      ]
    },
    {
      "cell_type": "markdown",
      "metadata": {
        "id": "3GyhSJotBq4s"
      },
      "source": [
        "### 問題\n",
        "　３つの変数a, b, cを使います。  \n",
        "　変数cの値は、変数aと変数bにより、「c = b - a」の計算により求められる関係性を持っているものとします。  \n",
        "　今、変数aの値が3, 変数bの値が10であるとします。この時、変数cの値を変数a, bを経由して求め、結果をprint関数で表示して下さい。\n"
      ]
    },
    {
      "cell_type": "code",
      "execution_count": null,
      "metadata": {
        "colab": {
          "base_uri": "https://localhost:8080/"
        },
        "id": "aLR00pu3aWHm",
        "outputId": "4b90b941-dcd6-4b64-b179-80d9dee29e26"
      },
      "outputs": [
        {
          "name": "stdout",
          "output_type": "stream",
          "text": [
            "3\n",
            "10\n",
            "7\n"
          ]
        }
      ],
      "source": [
        "# 変数aの値を「代入」により設定します\n",
        "# 1.3.2項　コード1-3-1参照\n",
        "a = 3\n",
        "\n",
        "# 変数bの値を「代入」により設定します\n",
        "b = 10\n",
        "\n",
        "# 変数aと変数bを用いて変数cの値を計算し、代入します\n",
        "# 1.3.4項　コード1-3-5参照\n",
        "c = b - a\n",
        "\n",
        "# print関数を用いて、変数a, 変数b, 変数ｃの値を順番に表示します\n",
        "# 1.3.5項　コード1-3-11参照\n",
        "print(a)\n",
        "print(b)\n",
        "print(c)\n"
      ]
    }
  ],
  "metadata": {
    "colab": {
      "collapsed_sections": [],
      "name": "ch01_03_ans.ipynb",
      "provenance": [],
      "toc_visible": true
    },
    "kernelspec": {
      "display_name": "Python 3",
      "name": "python3"
    },
    "language_info": {
      "name": "python"
    }
  },
  "nbformat": 4,
  "nbformat_minor": 0
}
