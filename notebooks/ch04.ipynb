{
  "cells": [
    {
      "cell_type": "markdown",
      "id": "42b2be7e",
      "metadata": {
        "id": "42b2be7e"
      },
      "source": [
        "#  4章　データ分析実践編\n",
        "タイタニック・データセットを用いた分析\n"
      ]
    },
    {
      "cell_type": "markdown",
      "id": "1c3c8de1",
      "metadata": {
        "id": "1c3c8de1"
      },
      "source": [
        "## 共通処理"
      ]
    },
    {
      "cell_type": "code",
      "execution_count": null,
      "id": "998f4627",
      "metadata": {
        "id": "998f4627"
      },
      "outputs": [],
      "source": [
        "# 日本語化ライブラリ導入\n",
        "!pip install japanize-matplotlib | tail -n 1"
      ]
    },
    {
      "cell_type": "code",
      "execution_count": null,
      "id": "G6qeAopk18lY",
      "metadata": {
        "id": "G6qeAopk18lY"
      },
      "outputs": [],
      "source": [
        "# ライブラリのimport\n",
        "\n",
        "# NumPy用ライブラリ\n",
        "import numpy as np\n",
        "\n",
        "# Matplotlib中のpyplotライブラリのインポート\n",
        "import matplotlib.pyplot as plt\n",
        "\n",
        "# matplotlib日本語化対応ライブラリのインポート\n",
        "import japanize_matplotlib\n",
        "\n",
        "# pandas用ライブラリ\n",
        "import pandas as pd\n",
        "\n",
        "# データフレーム表示用関数\n",
        "from IPython.display import display\n",
        "\n",
        "# seaborn\n",
        "import seaborn as sns"
      ]
    },
    {
      "cell_type": "code",
      "execution_count": null,
      "id": "nzSVECmK18ZK",
      "metadata": {
        "id": "nzSVECmK18ZK"
      },
      "outputs": [],
      "source": [
        "# 表示オプション調整\n",
        "\n",
        "# NumPy表示形式の設定\n",
        "np.set_printoptions(\n",
        "    suppress=True, precision=4, floatmode='fixed'\n",
        ")\n",
        "\n",
        "# グラフのデフォルトフォント指定\n",
        "plt.rcParams[\"font.size\"] = 14\n",
        "\n",
        "# サイズ設定\n",
        "plt.rcParams['figure.figsize'] = (6, 6)\n",
        "\n",
        "# 方眼表示ON\n",
        "plt.rcParams['axes.grid'] = True\n",
        "\n",
        "# データフレームでの表示精度\n",
        "pd.options.display.float_format = '{:.4f}'.format\n",
        "\n",
        "# データフレームですべての項目を表示\n",
        "pd.set_option(\"display.max_columns\",None)"
      ]
    },
    {
      "cell_type": "markdown",
      "id": "a53dd2c8",
      "metadata": {
        "id": "a53dd2c8"
      },
      "source": [
        "##  4.2 データ読み込み"
      ]
    },
    {
      "cell_type": "markdown",
      "id": "j_wSmtHLj-fc",
      "metadata": {
        "id": "j_wSmtHLj-fc"
      },
      "source": [
        "### ファイルダウンロード"
      ]
    },
    {
      "cell_type": "code",
      "execution_count": null,
      "id": "a82a3493",
      "metadata": {
        "id": "a82a3493"
      },
      "outputs": [],
      "source": [
        "url = 'https://raw.githubusercontent.com/makaishi2/samples/main/data/titanic-v2.csv'\n",
        "!wget $url"
      ]
    },
    {
      "cell_type": "markdown",
      "id": "Xwdy8iX4kFmo",
      "metadata": {
        "id": "Xwdy8iX4kFmo"
      },
      "source": [
        "### ファイル内容確認"
      ]
    },
    {
      "cell_type": "code",
      "execution_count": null,
      "id": "a590ca80",
      "metadata": {
        "id": "a590ca80"
      },
      "outputs": [],
      "source": [
        "# ファイル名の定義\n",
        "csv_fn = 'titanic-v2.csv'\n",
        "\n",
        "# 先頭を確認\n",
        "!head -3 $csv_fn"
      ]
    },
    {
      "cell_type": "markdown",
      "id": "Uf8yb8lDkYW4",
      "metadata": {
        "id": "Uf8yb8lDkYW4"
      },
      "source": [
        "### データ読み込み　その1"
      ]
    },
    {
      "cell_type": "code",
      "execution_count": null,
      "id": "06f06df2",
      "metadata": {
        "id": "06f06df2",
        "scrolled": false
      },
      "outputs": [],
      "source": [
        "# データ読み込み　その1\n",
        "df = pd.read_csv(\n",
        "    csv_fn,\n",
        "    na_values='?',\n",
        "    quotechar=\"'\")"
      ]
    },
    {
      "cell_type": "markdown",
      "id": "HgAfQXd5kkuz",
      "metadata": {
        "id": "HgAfQXd5kkuz"
      },
      "source": [
        "### 問題判別"
      ]
    },
    {
      "cell_type": "code",
      "execution_count": null,
      "id": "c7b6eda9",
      "metadata": {
        "id": "c7b6eda9"
      },
      "outputs": [],
      "source": [
        "# 問題の起きた行を確認\n",
        "!head -130 $csv_fn | tail -1"
      ]
    },
    {
      "cell_type": "markdown",
      "id": "WEvfa_SZkwiA",
      "metadata": {
        "id": "WEvfa_SZkwiA"
      },
      "source": [
        "### データ読み込み　その２"
      ]
    },
    {
      "cell_type": "code",
      "execution_count": null,
      "id": "b1449275",
      "metadata": {
        "id": "b1449275"
      },
      "outputs": [],
      "source": [
        "# データ読み込み　その2\n",
        "df = pd.read_csv(\n",
        "    csv_fn,\n",
        "    na_values = '?',\n",
        "    quotechar = \"'\",\n",
        "    escapechar = '\\\\')\n",
        "\n",
        "# 結果確認\n",
        "display(df.head(1))"
      ]
    },
    {
      "cell_type": "markdown",
      "id": "W7WpExZalatC",
      "metadata": {
        "id": "W7WpExZalatC"
      },
      "source": [
        "## 4.3 データ確認・加工"
      ]
    },
    {
      "cell_type": "markdown",
      "id": "82aed062",
      "metadata": {
        "id": "82aed062"
      },
      "source": [
        "### データ型確認\n"
      ]
    },
    {
      "cell_type": "code",
      "execution_count": null,
      "id": "b0598752",
      "metadata": {
        "id": "b0598752"
      },
      "outputs": [],
      "source": [
        "# データ型確認(3.3.4項)\n",
        "df.dtypes"
      ]
    },
    {
      "cell_type": "code",
      "execution_count": null,
      "id": "B-vyMyI6SGKL",
      "metadata": {
        "id": "B-vyMyI6SGKL"
      },
      "outputs": [],
      "source": [
        "# 項目bodyの一部を表示\n",
        "df[['body']].head()"
      ]
    },
    {
      "cell_type": "markdown",
      "id": "p4BRGWL4VWeY",
      "metadata": {
        "id": "p4BRGWL4VWeY"
      },
      "source": [
        "### 3度目のデータ読み込み"
      ]
    },
    {
      "cell_type": "code",
      "execution_count": null,
      "id": "Ona5V-V2Hrvp",
      "metadata": {
        "id": "Ona5V-V2Hrvp"
      },
      "outputs": [],
      "source": [
        "# 3度目のデータ読み込み\n",
        "df = pd.read_csv(\n",
        "    csv_fn,\n",
        "    na_values = '?',\n",
        "    quotechar = \"'\",\n",
        "    escapechar = '\\\\',\n",
        "    # 項目bodyを文字列型として読み込むよう指定\n",
        "    dtype = {'body': object})\n",
        "\n",
        "# 結果確認(データ型)\n",
        "print(df.dtypes)"
      ]
    },
    {
      "cell_type": "code",
      "execution_count": null,
      "id": "9-ZdJtqHq0bN",
      "metadata": {
        "id": "9-ZdJtqHq0bN"
      },
      "outputs": [],
      "source": [
        "# 項目bodyの先頭表示\n",
        "display(df[['body']].head())"
      ]
    },
    {
      "cell_type": "markdown",
      "id": "pc43SfN8nMW4",
      "metadata": {
        "id": "pc43SfN8nMW4"
      },
      "source": [
        "### 項目名変更"
      ]
    },
    {
      "cell_type": "code",
      "execution_count": null,
      "id": "e20d90e9",
      "metadata": {
        "id": "e20d90e9"
      },
      "outputs": [],
      "source": [
        " # 項目名変更　(3.3.2項)\n",
        "\n",
        "columns = [\n",
        "    '客室クラス', '生存状況', '氏名', '性別',\n",
        "    '年齢', '兄弟_配偶者数', '親_子供数',\n",
        "    '乗船券番号', '運賃', '客室番号', '乗船港',\n",
        "    '救命ボート番号', '遺体識別番号', '自宅または目的地'\n",
        "]\n",
        "df.columns = columns\n",
        "\n",
        "# 結果確認\n",
        "display(df.head(2))"
      ]
    },
    {
      "cell_type": "markdown",
      "id": "11ilJa9XmLDg",
      "metadata": {
        "id": "11ilJa9XmLDg"
      },
      "source": [
        "### 欠損値確認"
      ]
    },
    {
      "cell_type": "code",
      "execution_count": null,
      "id": "a732544f",
      "metadata": {
        "id": "a732544f"
      },
      "outputs": [],
      "source": [
        "# 欠損値の確認　(3.3.3項)\n",
        "print(df.isnull().sum())"
      ]
    },
    {
      "cell_type": "markdown",
      "id": "PVT0GQqAryzH",
      "metadata": {
        "id": "PVT0GQqAryzH"
      },
      "source": [
        "### 統計量計算"
      ]
    },
    {
      "cell_type": "code",
      "execution_count": null,
      "id": "1160d92b",
      "metadata": {
        "id": "1160d92b",
        "scrolled": true
      },
      "outputs": [],
      "source": [
        "# 数値データの統計量計算　(3.3.5項)\n",
        "df.describe()"
      ]
    },
    {
      "cell_type": "code",
      "execution_count": null,
      "id": "3e232fca",
      "metadata": {
        "id": "3e232fca"
      },
      "outputs": [],
      "source": [
        "# 文字列型データの統計量確認　(3.3.5項)\n",
        "df.describe(include=['O'])"
      ]
    },
    {
      "cell_type": "markdown",
      "id": "DUKB8UEor_vv",
      "metadata": {
        "id": "DUKB8UEor_vv"
      },
      "source": [
        "### 値の出現回数確認"
      ]
    },
    {
      "cell_type": "code",
      "execution_count": null,
      "id": "i6sMgR5d75RW",
      "metadata": {
        "id": "i6sMgR5d75RW"
      },
      "outputs": [],
      "source": [
        "# 出現回数をカウントしたい項目を抽出\n",
        "df2 = df[['客室クラス', '生存状況', '性別', '乗船港']]\n",
        "\n",
        "# 値の出現回数(3.3.6項)\n",
        "for c in list(df2.columns):\n",
        "    print(c)\n",
        "    print(df[c].value_counts())\n",
        "    print()"
      ]
    },
    {
      "cell_type": "markdown",
      "id": "1ec15cf2",
      "metadata": {
        "id": "1ec15cf2"
      },
      "source": [
        "## 4.4 データ集計"
      ]
    },
    {
      "cell_type": "markdown",
      "id": "7Ao-TxjOBWSP",
      "metadata": {
        "id": "7Ao-TxjOBWSP"
      },
      "source": [
        "### グループ毎の集計"
      ]
    },
    {
      "cell_type": "code",
      "execution_count": null,
      "id": "Pr4iiQBhBGPZ",
      "metadata": {
        "id": "Pr4iiQBhBGPZ"
      },
      "outputs": [],
      "source": [
        "# 客室クラス毎の集計(3.4.5項)\n",
        "df.groupby('客室クラス').mean(numeric_only=True)"
      ]
    },
    {
      "cell_type": "markdown",
      "id": "xFyWbYCeDMng",
      "metadata": {
        "id": "xFyWbYCeDMng"
      },
      "source": [
        "### 出現頻度のクロス集計"
      ]
    },
    {
      "cell_type": "code",
      "execution_count": null,
      "id": "54lbwDraBo6P",
      "metadata": {
        "id": "54lbwDraBo6P"
      },
      "outputs": [],
      "source": [
        "# 「客室クラス」「乗船港」を軸とした出現頻度分析\n",
        "df_crosstab = pd.crosstab(\n",
        "    index=df['客室クラス'],\n",
        "    columns=df['乗船港'],\n",
        "    margins=True)\n",
        "\n",
        "# 結果確認\n",
        "display(df_crosstab)"
      ]
    },
    {
      "cell_type": "markdown",
      "id": "F425fIzdD3Qt",
      "metadata": {
        "id": "F425fIzdD3Qt"
      },
      "source": [
        "### 項目値のクロス集計"
      ]
    },
    {
      "cell_type": "code",
      "execution_count": null,
      "id": "ujuwzzk2CprC",
      "metadata": {
        "id": "ujuwzzk2CprC"
      },
      "outputs": [],
      "source": [
        "# 「性別」と「客室クラス」を軸とした、「生存状況」のクロス集計\n",
        "df_pivot = df.pivot_table(\n",
        "    # 「性別」「客室クラス」の２軸で分析\n",
        "    index='性別', columns='客室クラス',\n",
        "    # 分析対象項目は「生存状況」　集約関数は「平均」\n",
        "    values='生存状況', aggfunc='mean')\n",
        "\n",
        "# 結果確認\n",
        "display(df_pivot)"
      ]
    },
    {
      "cell_type": "markdown",
      "id": "b29d50cf",
      "metadata": {
        "id": "b29d50cf"
      },
      "source": [
        "## 4.5  データ可視化"
      ]
    },
    {
      "cell_type": "markdown",
      "id": "n80RTmpZs6yV",
      "metadata": {
        "id": "n80RTmpZs6yV"
      },
      "source": [
        "#### 数値項目のヒストグラム表示"
      ]
    },
    {
      "cell_type": "code",
      "execution_count": null,
      "id": "692a91bc",
      "metadata": {
        "id": "692a91bc"
      },
      "outputs": [],
      "source": [
        "plt.rcParams['figure.figsize'] = (10, 6)\n",
        "\n",
        "# データフレームの数値項目でヒストグラム表示　(3.5.2項)\n",
        "df.hist(bins=20, layout=(2, 3))\n",
        "plt.tight_layout()\n",
        "plt.show()"
      ]
    },
    {
      "cell_type": "code",
      "execution_count": null,
      "id": "4-3kVrnGGsNi",
      "metadata": {
        "id": "4-3kVrnGGsNi"
      },
      "outputs": [],
      "source": [
        "plt.rcParams['figure.figsize'] = (4, 4)\n",
        "\n",
        "# 運賃の詳細分布\n",
        "df['運賃'].hist(bins=60)\n",
        "plt.xlim(0, 150)\n",
        "plt.title('運賃詳細分布')\n",
        "plt.show()"
      ]
    },
    {
      "cell_type": "markdown",
      "id": "hYDFpDR2tFvo",
      "metadata": {
        "id": "hYDFpDR2tFvo"
      },
      "source": [
        "#### 非数値項目の度数分布"
      ]
    },
    {
      "cell_type": "code",
      "execution_count": null,
      "id": "c4b8794d",
      "metadata": {
        "id": "c4b8794d",
        "scrolled": false
      },
      "outputs": [],
      "source": [
        "plt.rcParams['figure.figsize'] = (8, 4)\n",
        "\n",
        "# 非数値項目の度数分布 (3.5.3項)\n",
        "df2 = df[['性別', '乗船港']]\n",
        "\n",
        "for i, c in enumerate(df2.columns):\n",
        "    ax = plt.subplot(1, 2, i+1)\n",
        "    df2[c].value_counts().plot(\n",
        "        kind='bar', title=c, ax=ax)\n",
        "\n",
        "# レイアウトの調整\n",
        "plt.tight_layout()\n",
        "plt.show()"
      ]
    },
    {
      "cell_type": "markdown",
      "id": "t75N4dVlJswk",
      "metadata": {
        "id": "t75N4dVlJswk"
      },
      "source": [
        "### 箱ひげ図"
      ]
    },
    {
      "cell_type": "code",
      "execution_count": null,
      "id": "uXShhjY0F-1w",
      "metadata": {
        "id": "uXShhjY0F-1w"
      },
      "outputs": [],
      "source": [
        "plt.rcParams['figure.figsize'] = (6, 6)\n",
        "\n",
        "# 箱ひげ図の描画 (3.5.4項)\n",
        "sns.boxplot(\n",
        "    x='客室クラス', y='運賃', hue='客室クラス', data=df,\n",
        "    palette=['blue', 'cyan', 'grey'], legend=False)\n",
        "plt.title('客室クラスと運賃の関係')\n",
        "plt.show()"
      ]
    },
    {
      "cell_type": "code",
      "execution_count": null,
      "id": "CO7OOZZsKfCl",
      "metadata": {
        "id": "CO7OOZZsKfCl"
      },
      "outputs": [],
      "source": [
        "plt.rcParams['figure.figsize'] = (6, 6)\n",
        "\n",
        "# 箱ひげ図の描画 (3.5.4項)\n",
        "sns.boxplot(\n",
        "    x='客室クラス', y='運賃', hue='客室クラス', data=df,\n",
        "    palette=['blue', 'cyan', 'grey'], legend=False)\n",
        "plt.title('客室クラスと運賃の関係')\n",
        "\n",
        "# y軸の上限を120に変更する\n",
        "plt.ylim(0, 120)\n",
        "plt.show()"
      ]
    },
    {
      "cell_type": "markdown",
      "id": "tbO-2uEDJ3YB",
      "metadata": {
        "id": "tbO-2uEDJ3YB"
      },
      "source": [
        "### ヒートマップ"
      ]
    },
    {
      "cell_type": "code",
      "execution_count": null,
      "id": "hZPL4VGrF_ET",
      "metadata": {
        "id": "hZPL4VGrF_ET"
      },
      "outputs": [],
      "source": [
        "# 「性別」「客室クラス」を軸とした「生存状況」クロス集計の可視化\n",
        "df_pivot = df.pivot_table(\n",
        "    # 「性別」「客室クラス」の２軸で分析\n",
        "    index='性別', columns='客室クラス',\n",
        "    # 分析対象項目は「生存状況」　集約関数は「平均」\n",
        "    values='生存状況', aggfunc='mean')\n",
        "\n",
        "# ヒートマップ表示\n",
        "plt.rcParams['figure.figsize'] = (4, 4)\n",
        "sns.heatmap(\n",
        "    df_pivot, square=True, annot=True,\n",
        "    fmt='.03f', cmap='Blues', cbar=False)\n",
        "xlabel = df_pivot.columns.name\n",
        "ylabel = df_pivot.index.name\n",
        "plt.title(xlabel + ' vs '+ylabel)\n",
        "plt.xlabel(xlabel)\n",
        "plt.ylabel(ylabel)\n",
        "plt.show()"
      ]
    },
    {
      "cell_type": "markdown",
      "id": "7da55f87",
      "metadata": {
        "id": "7da55f87"
      },
      "source": [
        "## 4.6 仮説と検証\n"
      ]
    },
    {
      "cell_type": "markdown",
      "id": "POZ_7PocZUiw",
      "metadata": {
        "id": "POZ_7PocZUiw"
      },
      "source": [
        "### 生存状況と性別の関係"
      ]
    },
    {
      "cell_type": "code",
      "execution_count": null,
      "id": "lNEg-oXlLW_l",
      "metadata": {
        "id": "lNEg-oXlLW_l"
      },
      "outputs": [],
      "source": [
        "plt.rcParams['figure.figsize'] = (4, 4)\n",
        "\n",
        "# 生存状況と性別の関係\n",
        "df.groupby('性別')['生存状況'].mean().plot(kind='bar')\n",
        "plt.show()"
      ]
    },
    {
      "cell_type": "markdown",
      "id": "YgDEnQpMZbFg",
      "metadata": {
        "id": "YgDEnQpMZbFg"
      },
      "source": [
        "### 生存状況と年齢の関係"
      ]
    },
    {
      "cell_type": "code",
      "execution_count": null,
      "id": "H7gevLOILXba",
      "metadata": {
        "id": "H7gevLOILXba"
      },
      "outputs": [],
      "source": [
        "plt.rcParams['figure.figsize'] = (8, 4)\n",
        "\n",
        "# 生存状況と年齢の関係\n",
        "sns.histplot(\n",
        "    data=df,  x='年齢', hue='生存状況',\n",
        "    palette=['blue', 'cyan'], multiple='dodge',\n",
        "    shrink=0.7)\n",
        "plt.show()"
      ]
    },
    {
      "cell_type": "markdown",
      "id": "Tw2qcWjNZgYT",
      "metadata": {
        "id": "Tw2qcWjNZgYT"
      },
      "source": [
        "### 生存状況と客室クラスの関係"
      ]
    },
    {
      "cell_type": "code",
      "execution_count": null,
      "id": "HdDw8rxXLXLy",
      "metadata": {
        "id": "HdDw8rxXLXLy"
      },
      "outputs": [],
      "source": [
        "plt.rcParams['figure.figsize'] = (4, 4)\n",
        "\n",
        "# 生存状況と客室クラスの関係\n",
        "df.groupby('客室クラス')['生存状況'].mean().plot(kind='bar')\n",
        "plt.show()"
      ]
    },
    {
      "cell_type": "markdown",
      "id": "yvdJpvpIZnXt",
      "metadata": {
        "id": "yvdJpvpIZnXt"
      },
      "source": [
        "### 生存状況と乗船港の関係"
      ]
    },
    {
      "cell_type": "code",
      "execution_count": null,
      "id": "13eb1a5d",
      "metadata": {
        "id": "13eb1a5d"
      },
      "outputs": [],
      "source": [
        "plt.rcParams['figure.figsize'] = (4, 4)\n",
        "\n",
        "# 生存状況と乗船港の関係\n",
        "df.groupby('乗船港')['生存状況'].mean().plot(kind='bar')\n",
        "plt.show()"
      ]
    },
    {
      "cell_type": "markdown",
      "id": "8ewjst22UcpD",
      "metadata": {
        "id": "8ewjst22UcpD"
      },
      "source": [
        "\n",
        "### 乗船港で生存状況が異なる理由\n",
        "\n"
      ]
    },
    {
      "cell_type": "code",
      "execution_count": null,
      "id": "4qu7QIaOTFRZ",
      "metadata": {
        "id": "4qu7QIaOTFRZ"
      },
      "outputs": [],
      "source": [
        "# 「客室クラス」「乗船港」を軸とした出現頻度分析\n",
        "# 列を軸に正規化する\n",
        "df_crosstab = pd.crosstab(\n",
        "    index=df['客室クラス'],\n",
        "    columns=df['乗船港'],\n",
        "    normalize='columns')\n",
        "\n",
        "# ヒートマップ表示\n",
        "plt.rcParams['figure.figsize'] = (4, 4)\n",
        "sns.heatmap(\n",
        "    df_crosstab, square=True, annot=True,\n",
        "    fmt='.03f', cmap='Blues', cbar=False)\n",
        "plt.show()"
      ]
    },
    {
      "cell_type": "markdown",
      "id": "c0859129",
      "metadata": {
        "id": "c0859129"
      },
      "source": [
        "## 4.7 深掘り分析"
      ]
    },
    {
      "cell_type": "markdown",
      "id": "4Vszo1I8txn_",
      "metadata": {
        "id": "4Vszo1I8txn_"
      },
      "source": [
        "### 項目「救命ボート」の追加"
      ]
    },
    {
      "cell_type": "code",
      "execution_count": null,
      "id": "1224d0c5",
      "metadata": {
        "id": "1224d0c5"
      },
      "outputs": [],
      "source": [
        "# 項目「救命ボード」を追加\n",
        "df['救命ボート'] = df['救命ボート番号'].notnull()\n",
        "\n",
        "# 結果確認\n",
        "display(df[['救命ボート番号', '救命ボート']].head(3))"
      ]
    },
    {
      "cell_type": "markdown",
      "id": "fTb-CtozHxDx",
      "metadata": {
        "id": "fTb-CtozHxDx"
      },
      "source": [
        "### 「救命ボード」「生存状況」を軸とした出現頻度分析"
      ]
    },
    {
      "cell_type": "code",
      "execution_count": null,
      "id": "7406d655",
      "metadata": {
        "id": "7406d655"
      },
      "outputs": [],
      "source": [
        "# 「救命ボード」「生存状況」を軸とした出現頻度分析\n",
        "df_crosstab = pd.crosstab(\n",
        "    index=df['生存状況'],\n",
        "    columns=df['救命ボート'])\n",
        "\n",
        "# 結果確認\n",
        "display(df_crosstab)"
      ]
    },
    {
      "cell_type": "markdown",
      "id": "3-ow8t92H7XY",
      "metadata": {
        "id": "3-ow8t92H7XY"
      },
      "source": [
        "### 救命ボードなしで助かった人"
      ]
    },
    {
      "cell_type": "code",
      "execution_count": null,
      "id": "2fbd709b",
      "metadata": {
        "id": "2fbd709b"
      },
      "outputs": [],
      "source": [
        "# 救命ボードなしで助かった人　(23名)\n",
        "# queryメソッドを用いた深掘り分析(3.6.6項)\n",
        "x1 = df.query(\n",
        "    ' 生存状況 == 1 and 救命ボート == False ')\n",
        "\n",
        "# 結果の一部確認\n",
        "display(x1[[\n",
        "    '客室クラス', '生存状況', '氏名', '性別', '年齢',\n",
        "    '救命ボート番号']].head(3))"
      ]
    },
    {
      "cell_type": "code",
      "execution_count": null,
      "id": "7ef0f68f",
      "metadata": {
        "id": "7ef0f68f"
      },
      "outputs": [],
      "source": [
        "# 救命ボートなしで助かった人の性別分布\n",
        "print(x1['性別'].value_counts())\n",
        "print()\n",
        "\n",
        "# 救命ボートなしで助かった人の割合を性別に集計\n",
        "x11 = df.query('救命ボート == False')\n",
        "print(x11.groupby('性別')['生存状況'].mean())"
      ]
    },
    {
      "cell_type": "markdown",
      "id": "jMPb1q8iIJlj",
      "metadata": {
        "id": "jMPb1q8iIJlj"
      },
      "source": [
        "### 救命ボードに乗れたのに助からなかった人"
      ]
    },
    {
      "cell_type": "code",
      "execution_count": null,
      "id": "310b4767",
      "metadata": {
        "id": "310b4767"
      },
      "outputs": [],
      "source": [
        "# 救命ボードに乗れたのに助からなかった人　(9名)\n",
        "# queryメソッドを用いた深掘り分析(3.6.6項)\n",
        "x2 = df.query(\n",
        "    ' 生存状況 == 0 and 救命ボート == True ')\n",
        "\n",
        "# 結果の一部確認\n",
        "display(x2[[\n",
        "    '客室クラス', '生存状況', '氏名', '性別', '年齢',\n",
        "    '救命ボート番号']].head(3))"
      ]
    },
    {
      "cell_type": "code",
      "execution_count": null,
      "id": "acea300f",
      "metadata": {
        "id": "acea300f"
      },
      "outputs": [],
      "source": [
        "# 救命ボードに乗れたのに助からなかった人の性別分布\n",
        "print(x2['性別'].value_counts())\n",
        "print()\n",
        "\n",
        "# 救命ボートに乗れたのに助からなかった人の割合を性別に集計\n",
        "x22 = df.query('救命ボート == True')\n",
        "print(1 - x22.groupby('性別')['生存状況'].mean())"
      ]
    },
    {
      "cell_type": "markdown",
      "source": [
        "### バージョンの確認"
      ],
      "metadata": {
        "id": "fObYbI7xPkcj"
      },
      "id": "fObYbI7xPkcj"
    },
    {
      "cell_type": "code",
      "execution_count": null,
      "id": "025eb9d8",
      "metadata": {
        "id": "025eb9d8"
      },
      "outputs": [],
      "source": [
        "!pip install watermark | tail -n 1\n",
        "%load_ext watermark\n",
        "%watermark --iversions"
      ]
    },
    {
      "cell_type": "code",
      "source": [],
      "metadata": {
        "id": "LZedqroOREPL"
      },
      "id": "LZedqroOREPL",
      "execution_count": null,
      "outputs": []
    }
  ],
  "metadata": {
    "colab": {
      "provenance": [],
      "toc_visible": true
    },
    "kernelspec": {
      "display_name": "Python 3",
      "name": "python3"
    },
    "language_info": {
      "name": "python"
    }
  },
  "nbformat": 4,
  "nbformat_minor": 5
}