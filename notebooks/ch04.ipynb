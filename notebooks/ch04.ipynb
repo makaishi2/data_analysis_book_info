{
  "cells": [
    {
      "cell_type": "markdown",
      "id": "42b2be7e",
      "metadata": {
        "id": "42b2be7e"
      },
      "source": [
        "#  4章　データ分析実践編\n",
        "タイタニック・データセットを用いた分析\n"
      ]
    },
    {
      "cell_type": "markdown",
      "id": "1c3c8de1",
      "metadata": {
        "id": "1c3c8de1"
      },
      "source": [
        "## 共通処理"
      ]
    },
    {
      "cell_type": "code",
      "execution_count": null,
      "id": "998f4627",
      "metadata": {
        "id": "998f4627"
      },
      "outputs": [],
      "source": [
        "# 日本語化ライブラリ導入\n",
        "!pip install japanize-matplotlib | tail -n 1"
      ]
    },
    {
      "cell_type": "code",
      "source": [
        "# ライブラリのimport\n",
        "\n",
        "# NumPy用ライブラリ\n",
        "import numpy as np\n",
        "\n",
        "# Matplotlib中のpyplotライブラリのインポート\n",
        "import matplotlib.pyplot as plt\n",
        "\n",
        "# matplotlib日本語化対応ライブラリのインポート\n",
        "import japanize_matplotlib\n",
        "\n",
        "# pandas用ライブラリ\n",
        "import pandas as pd\n",
        "\n",
        "# データフレーム表示用関数\n",
        "from IPython.display import display\n",
        "\n",
        "# seaborn\n",
        "import seaborn as sns"
      ],
      "metadata": {
        "id": "G6qeAopk18lY"
      },
      "id": "G6qeAopk18lY",
      "execution_count": null,
      "outputs": []
    },
    {
      "cell_type": "code",
      "source": [
        "# 表示オプション調整\n",
        "\n",
        "# NumPy表示形式の設定\n",
        "np.set_printoptions(\n",
        "    suppress=True, precision=4, floatmode='fixed'\n",
        ")\n",
        "\n",
        "# グラフのデフォルトフォント指定\n",
        "plt.rcParams[\"font.size\"] = 14\n",
        "\n",
        "# サイズ設定\n",
        "plt.rcParams['figure.figsize'] = (6, 6)\n",
        "\n",
        "# 方眼表示ON\n",
        "plt.rcParams['axes.grid'] = True\n",
        "\n",
        "# データフレームでの表示精度\n",
        "pd.options.display.float_format = '{:.4f}'.format\n",
        "\n",
        "# データフレームですべての項目を表示\n",
        "pd.set_option(\"display.max_columns\",None)"
      ],
      "metadata": {
        "id": "nzSVECmK18ZK"
      },
      "id": "nzSVECmK18ZK",
      "execution_count": null,
      "outputs": []
    },
    {
      "cell_type": "markdown",
      "id": "a53dd2c8",
      "metadata": {
        "id": "a53dd2c8"
      },
      "source": [
        "##  4.2 データ読み込み"
      ]
    },
    {
      "cell_type": "markdown",
      "source": [
        "### ファイルダウンロード"
      ],
      "metadata": {
        "id": "j_wSmtHLj-fc"
      },
      "id": "j_wSmtHLj-fc"
    },
    {
      "cell_type": "code",
      "execution_count": null,
      "id": "a82a3493",
      "metadata": {
        "id": "a82a3493"
      },
      "outputs": [],
      "source": [
        "url = 'https://raw.githubusercontent.com/makaishi2/samples/main/data/titanic-v2.csv'\n",
        "!wget $url"
      ]
    },
    {
      "cell_type": "markdown",
      "source": [
        "### ファイル内容確認"
      ],
      "metadata": {
        "id": "Xwdy8iX4kFmo"
      },
      "id": "Xwdy8iX4kFmo"
    },
    {
      "cell_type": "code",
      "execution_count": null,
      "id": "a590ca80",
      "metadata": {
        "id": "a590ca80"
      },
      "outputs": [],
      "source": [
        "# ファイル名の定義\n",
        "csv_fn = 'titanic-v2.csv'\n",
        "\n",
        "# 先頭を確認\n",
        "!head -3 $csv_fn"
      ]
    },
    {
      "cell_type": "markdown",
      "source": [
        "### データ読み込み　その1"
      ],
      "metadata": {
        "id": "Uf8yb8lDkYW4"
      },
      "id": "Uf8yb8lDkYW4"
    },
    {
      "cell_type": "code",
      "execution_count": null,
      "id": "06f06df2",
      "metadata": {
        "scrolled": false,
        "id": "06f06df2"
      },
      "outputs": [],
      "source": [
        "# データ読み込み　その1\n",
        "df = pd.read_csv(\n",
        "    csv_fn,\n",
        "    na_values='?',\n",
        "    quotechar=\"'\")"
      ]
    },
    {
      "cell_type": "markdown",
      "source": [
        "### 問題判別"
      ],
      "metadata": {
        "id": "HgAfQXd5kkuz"
      },
      "id": "HgAfQXd5kkuz"
    },
    {
      "cell_type": "code",
      "execution_count": null,
      "id": "c7b6eda9",
      "metadata": {
        "id": "c7b6eda9"
      },
      "outputs": [],
      "source": [
        "# 問題の起きた行を確認\n",
        "!head -130 $csv_fn | tail -1"
      ]
    },
    {
      "cell_type": "markdown",
      "source": [
        "### データ読み込み　その２"
      ],
      "metadata": {
        "id": "WEvfa_SZkwiA"
      },
      "id": "WEvfa_SZkwiA"
    },
    {
      "cell_type": "code",
      "execution_count": null,
      "id": "b1449275",
      "metadata": {
        "id": "b1449275"
      },
      "outputs": [],
      "source": [
        "# データ読み込み　その2\n",
        "df = pd.read_csv(\n",
        "    csv_fn, \n",
        "    na_values = '?',\n",
        "    quotechar = \"'\", \n",
        "    escapechar = '\\\\')\n",
        "\n",
        "# 結果確認\n",
        "display(df.head(1))"
      ]
    },
    {
      "cell_type": "markdown",
      "source": [
        "## 4.3 データ確認・加工"
      ],
      "metadata": {
        "id": "W7WpExZalatC"
      },
      "id": "W7WpExZalatC"
    },
    {
      "cell_type": "markdown",
      "id": "82aed062",
      "metadata": {
        "id": "82aed062"
      },
      "source": [
        "### データ型確認\n"
      ]
    },
    {
      "cell_type": "code",
      "execution_count": null,
      "id": "b0598752",
      "metadata": {
        "id": "b0598752"
      },
      "outputs": [],
      "source": [
        "# データ型確認(3.3.4項)\n",
        "df.dtypes"
      ]
    },
    {
      "cell_type": "code",
      "source": [
        "# 項目bodyの一部を表示\n",
        "df[['body']].head()"
      ],
      "metadata": {
        "id": "B-vyMyI6SGKL"
      },
      "id": "B-vyMyI6SGKL",
      "execution_count": null,
      "outputs": []
    },
    {
      "cell_type": "markdown",
      "source": [
        "### 3度目のデータ読み込み"
      ],
      "metadata": {
        "id": "p4BRGWL4VWeY"
      },
      "id": "p4BRGWL4VWeY"
    },
    {
      "cell_type": "code",
      "source": [
        "# 3度目のデータ読み込み\n",
        "df = pd.read_csv(\n",
        "    csv_fn, \n",
        "    na_values = '?',\n",
        "    quotechar = \"'\", \n",
        "    escapechar = '\\\\',\n",
        "    # 項目bodyを文字列型として読み込むよう指定\n",
        "    dtype = {'body': object})\n",
        "\n",
        "# 結果確認(データ型)\n",
        "print(df.dtypes)"
      ],
      "metadata": {
        "id": "Ona5V-V2Hrvp"
      },
      "id": "Ona5V-V2Hrvp",
      "execution_count": null,
      "outputs": []
    },
    {
      "cell_type": "code",
      "source": [
        "# 項目bodyの先頭表示\n",
        "display(df[['body']].head())"
      ],
      "metadata": {
        "id": "9-ZdJtqHq0bN"
      },
      "id": "9-ZdJtqHq0bN",
      "execution_count": null,
      "outputs": []
    },
    {
      "cell_type": "markdown",
      "source": [
        "### 項目名変更"
      ],
      "metadata": {
        "id": "pc43SfN8nMW4"
      },
      "id": "pc43SfN8nMW4"
    },
    {
      "cell_type": "code",
      "execution_count": null,
      "id": "e20d90e9",
      "metadata": {
        "id": "e20d90e9"
      },
      "outputs": [],
      "source": [
        " # 項目名変更　(3.3.2項)\n",
        "\n",
        "columns = [\n",
        "    '客室クラス', '生存状況', '氏名', '性別',\n",
        "    '年齢', '兄弟_配偶者数', '親_子供数',\n",
        "    '乗船券番号', '運賃', '客室番号', '乗船港',\n",
        "    '救命ボート番号', '遺体識別番号', '自宅または目的地'\n",
        "]\n",
        "df.columns = columns\n",
        "\n",
        "# 結果確認\n",
        "display(df.head(2))"
      ]
    },
    {
      "cell_type": "markdown",
      "source": [
        "### 欠損値確認"
      ],
      "metadata": {
        "id": "11ilJa9XmLDg"
      },
      "id": "11ilJa9XmLDg"
    },
    {
      "cell_type": "code",
      "execution_count": null,
      "id": "a732544f",
      "metadata": {
        "id": "a732544f"
      },
      "outputs": [],
      "source": [
        "# 欠損値の確認　(3.3.3項)\n",
        "print(df.isnull().sum())"
      ]
    },
    {
      "cell_type": "markdown",
      "source": [
        "### 統計量計算"
      ],
      "metadata": {
        "id": "PVT0GQqAryzH"
      },
      "id": "PVT0GQqAryzH"
    },
    {
      "cell_type": "code",
      "execution_count": null,
      "id": "1160d92b",
      "metadata": {
        "scrolled": true,
        "id": "1160d92b"
      },
      "outputs": [],
      "source": [
        "# 数値データの統計量計算　(3.3.5項)\n",
        "df.describe()"
      ]
    },
    {
      "cell_type": "code",
      "execution_count": null,
      "id": "3e232fca",
      "metadata": {
        "id": "3e232fca"
      },
      "outputs": [],
      "source": [
        "# 文字列型データの統計量確認　(3.3.5項)\n",
        "df.describe(include=['O'])"
      ]
    },
    {
      "cell_type": "markdown",
      "source": [
        "### 値の出現回数確認"
      ],
      "metadata": {
        "id": "DUKB8UEor_vv"
      },
      "id": "DUKB8UEor_vv"
    },
    {
      "cell_type": "code",
      "source": [
        "# 出現回数をカウントしたい項目を抽出\n",
        "df2 = df[['客室クラス', '生存状況', '性別', '乗船港']]\n",
        "\n",
        "# 値の出現回数(3.3.6項)\n",
        "for c in list(df2.columns):\n",
        "    print(c)\n",
        "    print(df[c].value_counts())\n",
        "    print()"
      ],
      "metadata": {
        "id": "i6sMgR5d75RW"
      },
      "id": "i6sMgR5d75RW",
      "execution_count": null,
      "outputs": []
    },
    {
      "cell_type": "markdown",
      "id": "1ec15cf2",
      "metadata": {
        "id": "1ec15cf2"
      },
      "source": [
        "## 4.4 データ集計"
      ]
    },
    {
      "cell_type": "markdown",
      "source": [
        "### グループ毎の集計"
      ],
      "metadata": {
        "id": "7Ao-TxjOBWSP"
      },
      "id": "7Ao-TxjOBWSP"
    },
    {
      "cell_type": "code",
      "source": [
        "# 客室クラス毎の集計(3.4.5項)\n",
        "df.groupby('客室クラス').mean()"
      ],
      "metadata": {
        "id": "Pr4iiQBhBGPZ"
      },
      "id": "Pr4iiQBhBGPZ",
      "execution_count": null,
      "outputs": []
    },
    {
      "cell_type": "markdown",
      "source": [
        "### 出現頻度のクロス集計"
      ],
      "metadata": {
        "id": "xFyWbYCeDMng"
      },
      "id": "xFyWbYCeDMng"
    },
    {
      "cell_type": "code",
      "source": [
        "# 「客室クラス」「乗船港」を軸とした出現頻度分析\n",
        "df_crosstab = pd.crosstab(\n",
        "    index=df['客室クラス'], \n",
        "    columns=df['乗船港'],\n",
        "    margins=True)\n",
        "\n",
        "# 結果確認\n",
        "display(df_crosstab)"
      ],
      "metadata": {
        "id": "54lbwDraBo6P"
      },
      "id": "54lbwDraBo6P",
      "execution_count": null,
      "outputs": []
    },
    {
      "cell_type": "markdown",
      "source": [
        "### 項目値のクロス集計"
      ],
      "metadata": {
        "id": "F425fIzdD3Qt"
      },
      "id": "F425fIzdD3Qt"
    },
    {
      "cell_type": "code",
      "source": [
        "# 「客室クラス」と「性別」を軸とした、「生存状況」のクロス集計\n",
        "df_pivot = df.pivot_table(\n",
        "    # 「性別」「客室クラス」の２軸で分析\n",
        "    index='性別', columns='客室クラス',\n",
        "    # 分析対象項目は「生存状況」　集約関数は「平均」\n",
        "    values='生存状況', aggfunc='mean')\n",
        "\n",
        "# 結果確認\n",
        "display(df_pivot)"
      ],
      "metadata": {
        "id": "ujuwzzk2CprC"
      },
      "id": "ujuwzzk2CprC",
      "execution_count": null,
      "outputs": []
    },
    {
      "cell_type": "markdown",
      "id": "b29d50cf",
      "metadata": {
        "id": "b29d50cf"
      },
      "source": [
        "## 4.5  データ可視化"
      ]
    },
    {
      "cell_type": "markdown",
      "source": [
        "#### 数値項目のヒストグラム表示"
      ],
      "metadata": {
        "id": "n80RTmpZs6yV"
      },
      "id": "n80RTmpZs6yV"
    },
    {
      "cell_type": "code",
      "execution_count": null,
      "id": "692a91bc",
      "metadata": {
        "id": "692a91bc"
      },
      "outputs": [],
      "source": [
        "plt.rcParams['figure.figsize'] = (10, 6)\n",
        "\n",
        "# データフレームの数値項目でヒストグラム表示　(3.5.2項)\n",
        "df.hist(bins=20, layout=(2, 3))\n",
        "plt.tight_layout()\n",
        "plt.show()"
      ]
    },
    {
      "cell_type": "code",
      "source": [
        "plt.rcParams['figure.figsize'] = (4, 4)\n",
        "\n",
        "# 運賃の詳細分布\n",
        "df['運賃'].hist(bins=60)\n",
        "plt.xlim(0, 150)\n",
        "plt.title('運賃詳細分布')\n",
        "plt.show()"
      ],
      "metadata": {
        "id": "4-3kVrnGGsNi"
      },
      "id": "4-3kVrnGGsNi",
      "execution_count": null,
      "outputs": []
    },
    {
      "cell_type": "markdown",
      "source": [
        "#### 非数値項目の度数分布"
      ],
      "metadata": {
        "id": "hYDFpDR2tFvo"
      },
      "id": "hYDFpDR2tFvo"
    },
    {
      "cell_type": "code",
      "execution_count": null,
      "id": "c4b8794d",
      "metadata": {
        "scrolled": false,
        "id": "c4b8794d"
      },
      "outputs": [],
      "source": [
        "plt.rcParams['figure.figsize'] = (8, 4)\n",
        "\n",
        "# 非数値項目の度数分布 (3.5.3項)\n",
        "df2 = df[['性別', '乗船港']]\n",
        "\n",
        "for i, c in enumerate(df2.columns):\n",
        "    ax = plt.subplot(1, 2, i+1)\n",
        "    df2[c].value_counts().plot(\n",
        "        kind='bar', title=c, ax=ax)    \n",
        "\n",
        "# レイアウトの調整    \n",
        "plt.tight_layout()\n",
        "plt.show()"
      ]
    },
    {
      "cell_type": "markdown",
      "source": [
        "### 箱ひげ図"
      ],
      "metadata": {
        "id": "t75N4dVlJswk"
      },
      "id": "t75N4dVlJswk"
    },
    {
      "cell_type": "code",
      "source": [
        "plt.rcParams['figure.figsize'] = (6, 6)\n",
        "\n",
        "# 箱ひげ図の描画 (3.5.4項)\n",
        "sns.boxplot(\n",
        "    x='客室クラス', y='運賃', data=df, \n",
        "    palette=['blue', 'cyan', 'grey'])\n",
        "plt.title('客室クラスと運賃の関係')\n",
        "plt.show()"
      ],
      "metadata": {
        "id": "uXShhjY0F-1w"
      },
      "id": "uXShhjY0F-1w",
      "execution_count": null,
      "outputs": []
    },
    {
      "cell_type": "code",
      "source": [
        "plt.rcParams['figure.figsize'] = (6, 6)\n",
        "\n",
        "# 箱ひげ図の描画 (3.5.4項)\n",
        "sns.boxplot(\n",
        "    x='客室クラス', y='運賃', data=df,\n",
        "        palette=['blue', 'cyan', 'grey'])\n",
        "plt.title('客室クラスと運賃の関係')\n",
        "\n",
        "# y軸の上限を120に変更する\n",
        "plt.ylim(0, 120)\n",
        "plt.show()"
      ],
      "metadata": {
        "id": "CO7OOZZsKfCl"
      },
      "id": "CO7OOZZsKfCl",
      "execution_count": null,
      "outputs": []
    },
    {
      "cell_type": "markdown",
      "source": [
        "### ヒートマップ"
      ],
      "metadata": {
        "id": "tbO-2uEDJ3YB"
      },
      "id": "tbO-2uEDJ3YB"
    },
    {
      "cell_type": "code",
      "source": [
        "# 「客室クラス」「性別」を軸とした「生存状況」クロス集計の可視化\n",
        "df_pivot = df.pivot_table(\n",
        "    # 「性別」「客室クラス」の２軸で分析\n",
        "    index='性別', columns='客室クラス',\n",
        "    # 分析対象項目は「生存状況」　集約関数は「平均」\n",
        "    values='生存状況', aggfunc='mean')\n",
        "\n",
        "# ヒートマップ表示\n",
        "plt.rcParams['figure.figsize'] = (4, 4)\n",
        "sns.heatmap(\n",
        "    df_pivot, square=True, annot=True,\n",
        "    fmt='.03f', cmap='Blues', cbar=False)\n",
        "xlabel = df_pivot.columns.name\n",
        "ylabel = df_pivot.index.name\n",
        "plt.title(xlabel + ' vs '+ylabel)\n",
        "plt.xlabel(xlabel)\n",
        "plt.ylabel(ylabel)\n",
        "plt.show()"
      ],
      "metadata": {
        "id": "hZPL4VGrF_ET"
      },
      "id": "hZPL4VGrF_ET",
      "execution_count": null,
      "outputs": []
    },
    {
      "cell_type": "markdown",
      "id": "7da55f87",
      "metadata": {
        "id": "7da55f87"
      },
      "source": [
        "## 4.6 仮説と検証\n"
      ]
    },
    {
      "cell_type": "markdown",
      "source": [
        "### 生存状況と性別の関係"
      ],
      "metadata": {
        "id": "POZ_7PocZUiw"
      },
      "id": "POZ_7PocZUiw"
    },
    {
      "cell_type": "code",
      "source": [
        "plt.rcParams['figure.figsize'] = (4, 4)\n",
        "\n",
        "# 生存状況と性別の関係\n",
        "df.groupby('性別')['生存状況'].mean().plot(kind='bar')\n",
        "plt.show()"
      ],
      "metadata": {
        "id": "lNEg-oXlLW_l"
      },
      "id": "lNEg-oXlLW_l",
      "execution_count": null,
      "outputs": []
    },
    {
      "cell_type": "markdown",
      "source": [
        "### 生存状況と年齢の関係"
      ],
      "metadata": {
        "id": "YgDEnQpMZbFg"
      },
      "id": "YgDEnQpMZbFg"
    },
    {
      "cell_type": "code",
      "source": [
        "plt.rcParams['figure.figsize'] = (8, 4)\n",
        "\n",
        "# 生存状況と年齢の関係\n",
        "sns.histplot(\n",
        "    data=df,  x='年齢', hue='生存状況', \n",
        "    palette=['blue', 'cyan'], multiple='dodge', \n",
        "    shrink=0.7)\n",
        "plt.show()"
      ],
      "metadata": {
        "id": "H7gevLOILXba"
      },
      "id": "H7gevLOILXba",
      "execution_count": null,
      "outputs": []
    },
    {
      "cell_type": "markdown",
      "source": [
        "### 生存状況と客室クラスの関係"
      ],
      "metadata": {
        "id": "Tw2qcWjNZgYT"
      },
      "id": "Tw2qcWjNZgYT"
    },
    {
      "cell_type": "code",
      "source": [
        "plt.rcParams['figure.figsize'] = (4, 4)\n",
        "\n",
        "# 生存状況と客室クラスの関係\n",
        "df.groupby('客室クラス')['生存状況'].mean().plot(kind='bar')\n",
        "plt.show()"
      ],
      "metadata": {
        "id": "HdDw8rxXLXLy"
      },
      "id": "HdDw8rxXLXLy",
      "execution_count": null,
      "outputs": []
    },
    {
      "cell_type": "markdown",
      "source": [
        "### 生存状況と乗船港の関係"
      ],
      "metadata": {
        "id": "yvdJpvpIZnXt"
      },
      "id": "yvdJpvpIZnXt"
    },
    {
      "cell_type": "code",
      "execution_count": null,
      "id": "13eb1a5d",
      "metadata": {
        "id": "13eb1a5d"
      },
      "outputs": [],
      "source": [
        "plt.rcParams['figure.figsize'] = (4, 4)\n",
        "\n",
        "# 生存状況と乗船港の関係\n",
        "df.groupby('乗船港')['生存状況'].mean().plot(kind='bar')\n",
        "plt.show()"
      ]
    },
    {
      "cell_type": "markdown",
      "source": [
        "\n",
        "### 乗船港で生存状況が異なる理由\n",
        "\n"
      ],
      "metadata": {
        "id": "8ewjst22UcpD"
      },
      "id": "8ewjst22UcpD"
    },
    {
      "cell_type": "code",
      "source": [
        "# 「客室クラス」「乗船港」を軸とした出現頻度分析\n",
        "# 列を軸に正規化する\n",
        "df_crosstab = pd.crosstab(\n",
        "    index=df['客室クラス'],\n",
        "    columns=df['乗船港'],\n",
        "    normalize='columns')\n",
        "\n",
        "# ヒートマップ表示\n",
        "plt.rcParams['figure.figsize'] = (4, 4)\n",
        "sns.heatmap(\n",
        "    df_crosstab, square=True, annot=True,\n",
        "    fmt='.03f', cmap='Blues', cbar=False)\n",
        "plt.show()"
      ],
      "metadata": {
        "id": "4qu7QIaOTFRZ"
      },
      "id": "4qu7QIaOTFRZ",
      "execution_count": null,
      "outputs": []
    },
    {
      "cell_type": "markdown",
      "id": "c0859129",
      "metadata": {
        "id": "c0859129"
      },
      "source": [
        "## 4.7 深掘り調査"
      ]
    },
    {
      "cell_type": "markdown",
      "source": [
        "### 項目「救命ボート」の追加"
      ],
      "metadata": {
        "id": "4Vszo1I8txn_"
      },
      "id": "4Vszo1I8txn_"
    },
    {
      "cell_type": "code",
      "execution_count": null,
      "id": "1224d0c5",
      "metadata": {
        "id": "1224d0c5"
      },
      "outputs": [],
      "source": [
        "# 項目「救命ボード」を追加\n",
        "df['救命ボート'] = df['救命ボート番号'].notnull()\n",
        "\n",
        "# 結果確認\n",
        "display(df[['救命ボート番号', '救命ボート']].head(3))"
      ]
    },
    {
      "cell_type": "markdown",
      "source": [
        "### 「救命ボード」「生存状況」を軸とした出現頻度分析"
      ],
      "metadata": {
        "id": "fTb-CtozHxDx"
      },
      "id": "fTb-CtozHxDx"
    },
    {
      "cell_type": "code",
      "execution_count": null,
      "id": "7406d655",
      "metadata": {
        "id": "7406d655"
      },
      "outputs": [],
      "source": [
        "# 「救命ボード」「生存状況」を軸とした出現頻度分析\n",
        "df_crosstab = pd.crosstab(\n",
        "    index=df['生存状況'], \n",
        "    columns=df['救命ボート'])\n",
        "\n",
        "# 結果確認\n",
        "display(df_crosstab)"
      ]
    },
    {
      "cell_type": "markdown",
      "source": [
        "### 救命ボードなしで助かった人"
      ],
      "metadata": {
        "id": "3-ow8t92H7XY"
      },
      "id": "3-ow8t92H7XY"
    },
    {
      "cell_type": "code",
      "execution_count": null,
      "id": "2fbd709b",
      "metadata": {
        "id": "2fbd709b"
      },
      "outputs": [],
      "source": [
        "# 救命ボードなしで助かった人　(23名)\n",
        "# queryメソッドを用いた深掘り調査(3.6.5項)\n",
        "x1 = df.query(\n",
        "    ' 生存状況 == 1 and 救命ボート == False ')\n",
        "\n",
        "# 結果の一部確認\n",
        "display(x1[[\n",
        "    '客室クラス', '生存状況', '氏名', '性別', '年齢', \n",
        "    '救命ボート番号']].head(3))"
      ]
    },
    {
      "cell_type": "code",
      "execution_count": null,
      "id": "7ef0f68f",
      "metadata": {
        "id": "7ef0f68f"
      },
      "outputs": [],
      "source": [
        "# 救命ボートなしで助かった人の性別分布\n",
        "print(x1['性別'].value_counts())\n",
        "print()\n",
        "\n",
        "# 救命ボートなしで助かった人の割合を性別に集計\n",
        "x11 = df.query('救命ボート == False')\n",
        "print(x11.groupby('性別')['生存状況'].mean())"
      ]
    },
    {
      "cell_type": "markdown",
      "source": [
        "### 救命ボードに乗ったのに助からなかった人"
      ],
      "metadata": {
        "id": "jMPb1q8iIJlj"
      },
      "id": "jMPb1q8iIJlj"
    },
    {
      "cell_type": "code",
      "execution_count": null,
      "id": "310b4767",
      "metadata": {
        "id": "310b4767"
      },
      "outputs": [],
      "source": [
        "# 救命ボードに乗ったのに助からなかった人　(9名)\n",
        "# queryメソッドを用いた深掘り調査(3.6.5項)\n",
        "x2 = df.query(\n",
        "    ' 生存状況 == 0 and 救命ボート == True ')\n",
        "\n",
        "# 結果の一部確認\n",
        "display(x2[[\n",
        "    '客室クラス', '生存状況', '氏名', '性別', '年齢', \n",
        "    '救命ボート番号']].head(3))"
      ]
    },
    {
      "cell_type": "code",
      "execution_count": null,
      "id": "acea300f",
      "metadata": {
        "id": "acea300f"
      },
      "outputs": [],
      "source": [
        "# 救命ボードに乗ったのに助からなかった人の性別分布\n",
        "print(x2['性別'].value_counts())\n",
        "print()\n",
        "\n",
        "# 救命ボートに乗ったのに助からなかった人の割合を性別に集計\n",
        "x22 = df.query('救命ボート == True')\n",
        "print(1 - x22.groupby('性別')['生存状況'].mean())"
      ]
    },
    {
      "cell_type": "code",
      "execution_count": null,
      "id": "025eb9d8",
      "metadata": {
        "id": "025eb9d8"
      },
      "outputs": [],
      "source": []
    }
  ],
  "metadata": {
    "kernelspec": {
      "display_name": "Python 3",
      "name": "python3"
    },
    "language_info": {
      "name": "python"
    },
    "colab": {
      "provenance": [],
      "collapsed_sections": [],
      "toc_visible": true
    }
  },
  "nbformat": 4,
  "nbformat_minor": 5
}