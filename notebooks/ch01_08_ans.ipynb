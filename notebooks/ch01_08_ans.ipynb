{
  "cells": [
    {
      "cell_type": "markdown",
      "metadata": {
        "id": "Z-mNNFGbgA4Q"
      },
      "source": [
        "## 1.8 タプル・集合と辞書"
      ]
    },
    {
      "cell_type": "markdown",
      "metadata": {
        "id": "9fSIG8_ggBIn"
      },
      "source": [
        "### 問題\n",
        "\n",
        "あるECサイトでは、ある期間内の商品の売り上げが次の表1-8-2のようでした。\n",
        "\n",
        "表1-8-2 ある期間内の商品の売り上げ数\n",
        " \n",
        "|商品コード  |販売数  |\n",
        "|---|---|\n",
        "|T254  |12  |\n",
        "|A727  |6  |\n",
        "|T256 | 4|\n",
        "|T254 | 10 |\n",
        "|A726 | 7 |\n",
        "|A727 | 4 |\n",
        "\n",
        "\n",
        "表1-8-2の情報は、Pythonの変数dataで表現されていることを前提として、商品ごとの売上数集計結果を出して下さい。  \n",
        "結果は、次のような辞書形式で欲しいです。\n",
        "\n",
        "{'T254': 22, 'A727': 10, 'T256': 4, 'A726': 7}\n",
        "\n"
      ]
    },
    {
      "cell_type": "code",
      "execution_count": 1,
      "metadata": {
        "colab": {
          "base_uri": "https://localhost:8080/"
        },
        "id": "-o4E-wowYyiY",
        "outputId": "de259db1-7643-4188-c6f8-4bcd34035592"
      },
      "outputs": [
        {
          "name": "stdout",
          "output_type": "stream",
          "text": [
            "{'T254': 22, 'A727': 10, 'T256': 4, 'A726': 7}\n"
          ]
        }
      ],
      "source": [
        "# 読み込み対象データの初期設定\n",
        "data = [\n",
        "    ('T254', 12),\n",
        "    ('A727', 6),\n",
        "    ('T256', 4),\n",
        "    ('T254', 10),\n",
        "    ('A726', 7),\n",
        "    ('A727', 4)\n",
        "]\n",
        "\n",
        "# 辞書　初期状態は空\n",
        "d2 = {}\n",
        "\n",
        "# この部分を実装します\n",
        "# 外側はループ処理\n",
        "# 内側はif文で２階層の組み合わせになります。\n",
        "\n",
        "# 1.8.1項　コード1-8-7参照\n",
        "for key, value in data:\n",
        "    # キーが辞書に存在するかどうかをチェック\n",
        "    # 1.8.3項　コード1-8-13参照\n",
        "    if key in d2.keys():\n",
        "        # 該当キー項目が存在する場合\n",
        "        # 1.8.3項　コード1-8-12参照\n",
        "        d2[key] += value\n",
        "    else:\n",
        "        # 該当キー項目が存在しない場合\n",
        "        # 1.8.3項　コード1-8-12参照\n",
        "        d2[key] = value\n",
        "\n",
        "# 結果の確認\n",
        "print(d2)\n"
      ]
    },
    {
      "cell_type": "code",
      "execution_count": null,
      "metadata": {
        "id": "xstKY8TEhknx"
      },
      "outputs": [],
      "source": []
    }
  ],
  "metadata": {
    "colab": {
      "collapsed_sections": [],
      "name": "ch01_08_ans.ipynb",
      "provenance": [],
      "toc_visible": true
    },
    "kernelspec": {
      "display_name": "Python 3",
      "name": "python3"
    },
    "language_info": {
      "name": "python"
    }
  },
  "nbformat": 4,
  "nbformat_minor": 0
}
