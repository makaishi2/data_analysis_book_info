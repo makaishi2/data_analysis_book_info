{
  "nbformat": 4,
  "nbformat_minor": 0,
  "metadata": {
    "colab": {
      "name": "ch02_02.ipynb",
      "provenance": [],
      "collapsed_sections": [],
      "toc_visible": true
    },
    "kernelspec": {
      "name": "python3",
      "display_name": "Python 3"
    },
    "language_info": {
      "name": "python"
    }
  },
  "cells": [
    {
      "cell_type": "markdown",
      "source": [
        "## 2.2 numpy入門"
      ],
      "metadata": {
        "id": "i_fegTOAEJ8Q"
      }
    },
    {
      "cell_type": "markdown",
      "source": [
        "### 2.2.2 ライブラリ利用 "
      ],
      "metadata": {
        "id": "Dp6v5fgnE8O_"
      }
    },
    {
      "cell_type": "code",
      "source": [
        "# NumPyのインポート\n",
        "\n",
        "import numpy as np"
      ],
      "metadata": {
        "id": "aHLlklFaSZtc"
      },
      "execution_count": null,
      "outputs": []
    },
    {
      "cell_type": "code",
      "source": [
        "# デフォルト設定でのprint関数出力結果\n",
        "\n",
        "x = np.array([2/7, 1000/7, 0.00304567])\n",
        "print(x)"
      ],
      "metadata": {
        "id": "TMKHwt4ASZx4"
      },
      "execution_count": null,
      "outputs": []
    },
    {
      "cell_type": "code",
      "source": [
        "# NumPy表示形式の設定\n",
        "#\n",
        "# suppress=True　: 固定小数点表示\n",
        "# precision=4　: 小数点以下4桁\n",
        "#　floatmode='fixed' : 最終桁が0でも明示的に表示\n",
        "\n",
        "np.set_printoptions(\n",
        "    suppress=True, precision=4, floatmode='fixed'\n",
        ")\n",
        "\n",
        "print(x)"
      ],
      "metadata": {
        "id": "Vc3-6Q5-TFEA"
      },
      "execution_count": null,
      "outputs": []
    },
    {
      "cell_type": "markdown",
      "source": [
        "### 2.2.3 データ定義"
      ],
      "metadata": {
        "id": "hfljcsF7FXS_"
      }
    },
    {
      "cell_type": "markdown",
      "source": [
        "#### array関数"
      ],
      "metadata": {
        "id": "9m66YDDSFcWb"
      }
    },
    {
      "cell_type": "code",
      "source": [
        "# array関数によるベクトル変数の定義\n",
        "n1 = np.array([1, 7, 5, 2])\n",
        "\n",
        "# 結果確認\n",
        "print(n1)"
      ],
      "metadata": {
        "id": "jzEg1x_RFKCd"
      },
      "execution_count": null,
      "outputs": []
    },
    {
      "cell_type": "code",
      "source": [
        "# NumPy変数の性質確認\n",
        "\n",
        "# 型確認\n",
        "print(type(n1))\n",
        "\n",
        "# 要素数確認\n",
        "print(n1.shape)\n",
        "\n",
        "# もう1つの方法\n",
        "print(len(n1))"
      ],
      "metadata": {
        "id": "5epdLi4GXmDH"
      },
      "execution_count": null,
      "outputs": []
    },
    {
      "cell_type": "code",
      "source": [
        "# array関数による表形式の変数の定義\n",
        "n2 = np.array([\n",
        "    [1, 2, 3, 4],\n",
        "    [5, 6, 7, 8],\n",
        "    [9, 10, 11, 12]\n",
        "])\n",
        "\n",
        "# 結果確認\n",
        "print(n2)"
      ],
      "metadata": {
        "id": "Xt2p9n06FUlE"
      },
      "execution_count": null,
      "outputs": []
    },
    {
      "cell_type": "code",
      "source": [
        "# 表形式のNumPy型データの性質確認\n",
        "\n",
        "# 要素数確認\n",
        "print(n2.shape)\n",
        "\n",
        "# もう1つの方法\n",
        "print(len(n2))"
      ],
      "metadata": {
        "id": "BO6w6nP6Z_Kg"
      },
      "execution_count": null,
      "outputs": []
    },
    {
      "cell_type": "markdown",
      "source": [
        "#### 数値配列の生成"
      ],
      "metadata": {
        "id": "yMyA99T5G0tS"
      }
    },
    {
      "cell_type": "code",
      "source": [
        "# linspace関数による数値配列\n",
        "\n",
        "# 等間隔に点を取る\n",
        "# 点の数が第3の引数\n",
        "# (植木算になる点に注意)\n",
        "n3 = np.linspace(0, 2, 11)\n",
        "\n",
        "# 結果確認\n",
        "print(n３)"
      ],
      "metadata": {
        "id": "WwqS-op8GmYC"
      },
      "execution_count": null,
      "outputs": []
    },
    {
      "cell_type": "code",
      "source": [
        "# arange関数による数値配列\n",
        "\n",
        "# 等間隔に点を取る\n",
        "# 間隔値が第3の引数\n",
        "# (第2引数はmaxでなく「未満」であることに注意)\n",
        "n4 = np.arange(0, 2.2, 0.2)\n",
        "\n",
        "# 結果確認\n",
        "print(n4)"
      ],
      "metadata": {
        "id": "-zjjenkXG9Ab"
      },
      "execution_count": null,
      "outputs": []
    },
    {
      "cell_type": "markdown",
      "source": [
        "### 2.2.4 参照"
      ],
      "metadata": {
        "id": "Jo2BIgCRHTm4"
      }
    },
    {
      "cell_type": "markdown",
      "source": [
        "#### 行列定義"
      ],
      "metadata": {
        "id": "szZFmJuaHnzD"
      }
    },
    {
      "cell_type": "code",
      "source": [
        "# array関数による表形式の変数の定義\n",
        "\n",
        "n2 = np.array([\n",
        "    [1, 2, 3, 4],\n",
        "    [5, 6, 7, 8],\n",
        "    [9, 10, 11, 12]\n",
        "])\n",
        "\n",
        "# 結果確認\n",
        "print(n2)"
      ],
      "metadata": {
        "id": "AkBV0jVSHBlV"
      },
      "execution_count": null,
      "outputs": []
    },
    {
      "cell_type": "markdown",
      "source": [
        "#### 特定の要素の抽出"
      ],
      "metadata": {
        "id": "XSGHsSMkceDk"
      }
    },
    {
      "cell_type": "code",
      "source": [
        "# 1行目2列目の要素指定\n",
        "n5 = n2[1, 2]\n",
        "print(n5)"
      ],
      "metadata": {
        "id": "i-2nRsKBZtv8"
      },
      "execution_count": null,
      "outputs": []
    },
    {
      "cell_type": "markdown",
      "source": [
        "#### 元行列の部分集合を抽出"
      ],
      "metadata": {
        "id": "8V1lVC0W6bH-"
      }
    },
    {
      "cell_type": "code",
      "source": [
        "# 1行目のすべての列\n",
        "# n6 = n2[1] と書いても同じ\n",
        "n6 = n2[1, :]\n",
        "print(n6)\n",
        "print(n6.shape)"
      ],
      "metadata": {
        "id": "ecFyIjkIJUnT"
      },
      "execution_count": null,
      "outputs": []
    },
    {
      "cell_type": "code",
      "source": [
        "# すべての行の0列目\n",
        "n7 = n2[:, 0]\n",
        "print(n7)\n",
        "print(n7.shape)"
      ],
      "metadata": {
        "id": "JLYNvI7aa_Tg"
      },
      "execution_count": null,
      "outputs": []
    },
    {
      "cell_type": "code",
      "source": [
        "#0-1行目、2-3列目\n",
        "n8 = n2[:2, 2:]\n",
        "print(n8)\n",
        "print(n8.shape)"
      ],
      "metadata": {
        "id": "Hp7ZVrYqj6GJ"
      },
      "execution_count": null,
      "outputs": []
    },
    {
      "cell_type": "markdown",
      "source": [
        "#### True/False配列で抽出"
      ],
      "metadata": {
        "id": "KNezVFYoiiTo"
      }
    },
    {
      "cell_type": "code",
      "source": [
        "# 0行目と2行目、すべての列\n",
        "# True / False要素の配列で指定する\n",
        "n2_index = np.array([True, True, False])\n",
        "n9 = n2[n2_index]\n",
        "print(n9)\n",
        "print(n9.shape)"
      ],
      "metadata": {
        "id": "bWBkpCSyHwe7"
      },
      "execution_count": null,
      "outputs": []
    },
    {
      "cell_type": "markdown",
      "source": [
        "### 2.2.5 演算"
      ],
      "metadata": {
        "id": "dnmoQ1OlTmJ3"
      }
    },
    {
      "cell_type": "markdown",
      "source": [
        "#### NumPy変数間の演算"
      ],
      "metadata": {
        "id": "eDdt_DoUT08d"
      }
    },
    {
      "cell_type": "code",
      "source": [
        "# 演算対象のNumPy変数定義\n",
        "n2 = np.array([\n",
        "    [1, 2, 3, 4],\n",
        "    [5, 6, 7, 8],\n",
        "    [9, 10, 11, 12]\n",
        "])\n",
        "n10 = np.array([\n",
        "    [1, 4, 7, 10],\n",
        "    [2, 5, 8, 11],\n",
        "    [3, 6, 9, 12]\n",
        "])\n",
        "# 結果確認\n",
        "print(n2)\n",
        "print(n10)"
      ],
      "metadata": {
        "id": "qlOPNzOek4ui"
      },
      "execution_count": null,
      "outputs": []
    },
    {
      "cell_type": "code",
      "source": [
        "# NumPyの行列変数同士の足し算\n",
        "n11 = n2 + n10\n",
        "\n",
        "# 結果の確認\n",
        "print(n11)"
      ],
      "metadata": {
        "id": "uuQBrJjBdqIY"
      },
      "execution_count": null,
      "outputs": []
    },
    {
      "cell_type": "markdown",
      "source": [
        "#### ブロードキャスト機能"
      ],
      "metadata": {
        "id": "Y_jkZiQdT_Au"
      }
    },
    {
      "cell_type": "code",
      "source": [
        "# 演算元変数\n",
        "n1 = np.array([1, 7, 5, 2])\n",
        "\n",
        "print(n1)"
      ],
      "metadata": {
        "id": "R0ue7CLad2TS"
      },
      "execution_count": null,
      "outputs": []
    },
    {
      "cell_type": "code",
      "source": [
        "# すべての要素から同じ値を引く\n",
        "n12 = n1 - 4\n",
        "\n",
        "# 結果確認\n",
        "print(n12)"
      ],
      "metadata": {
        "id": "tEGCJdtgT5b5"
      },
      "execution_count": null,
      "outputs": []
    },
    {
      "cell_type": "code",
      "source": [
        "# array関数による表形式の変数の定義\n",
        "n2 = np.array([\n",
        "    [1, 2, 3, 4],\n",
        "    [5, 6, 7, 8],\n",
        "    [9, 10, 11, 12]\n",
        "])\n",
        "\n",
        "# 結果確認\n",
        "print(n2)"
      ],
      "metadata": {
        "id": "sx9RFKUDd9oR"
      },
      "execution_count": null,
      "outputs": []
    },
    {
      "cell_type": "code",
      "source": [
        "# 行列変数と数値間の演算\n",
        "n13 = n2 - 2\n",
        "print(n13)"
      ],
      "metadata": {
        "id": "RKI8vxOSeq93"
      },
      "execution_count": null,
      "outputs": []
    },
    {
      "cell_type": "code",
      "source": [
        "# 行列変数とベクトル変数間の演算\n",
        "n14 = n2 - n1\n",
        "print(n14)"
      ],
      "metadata": {
        "id": "rpcW6_JVe3Q1"
      },
      "execution_count": null,
      "outputs": []
    },
    {
      "cell_type": "markdown",
      "source": [
        "#### ユニバーサル関数"
      ],
      "metadata": {
        "id": "bYFFiXWDUVaV"
      }
    },
    {
      "cell_type": "code",
      "source": [
        "# xの配列の準備\n",
        "x = np.linspace(0, 2, 11)\n",
        "print(x)\n",
        "\n",
        "# y=sqrt(x)の計算\n",
        "y = np.sqrt(x)\n",
        "print(y)"
      ],
      "metadata": {
        "id": "M3yUmRJCUE8d"
      },
      "execution_count": null,
      "outputs": []
    },
    {
      "cell_type": "markdown",
      "source": [
        "#### 集約関数"
      ],
      "metadata": {
        "id": "GeydZ3nxUzhu"
      }
    },
    {
      "cell_type": "code",
      "source": [
        "# array関数による表形式の変数の定義\n",
        "n2 = np.array([\n",
        "    [1, 2, 3, 4],\n",
        "    [5, 6, 7, 8],\n",
        "    [9, 10, 11, 12]\n",
        "])\n",
        "\n",
        "# 結果確認\n",
        "print(n2)"
      ],
      "metadata": {
        "id": "ZRPEvUDLiytq"
      },
      "execution_count": null,
      "outputs": []
    },
    {
      "cell_type": "code",
      "source": [
        "# 集約関数(sum関数)\n",
        "\n",
        "s0 = n2.sum(axis=0)\n",
        "s1 = n2.sum(axis=1)\n",
        "s2 = n2.sum()\n",
        "\n",
        "print(s0)\n",
        "print(s1)\n",
        "print(s2)"
      ],
      "metadata": {
        "id": "CISKpN2SUgL9"
      },
      "execution_count": null,
      "outputs": []
    },
    {
      "cell_type": "markdown",
      "source": [
        "### 2.2.6 応用例"
      ],
      "metadata": {
        "id": "ODo0C4iYVGmS"
      }
    },
    {
      "cell_type": "markdown",
      "source": [
        "#### 2つの変数の一致数から精度計算"
      ],
      "metadata": {
        "id": "y9zNOdvTVOqL"
      }
    },
    {
      "cell_type": "code",
      "source": [
        "# 2つのベクトル変数の準備\n",
        "# ベクトル変数1\n",
        "yt = np.array([1, 1, 0, 1, 0, 1, 1, 0, 1, 1])\n",
        "# ベクトル変数2\n",
        "yp = np.array([1, 1, 0, 1, 0, 1, 1, 1, 1, 1])\n",
        "\n",
        "# 内容表示\n",
        "print(yt)\n",
        "print(yp)"
      ],
      "metadata": {
        "id": "27dnkSNHU7k9"
      },
      "execution_count": null,
      "outputs": []
    },
    {
      "cell_type": "code",
      "source": [
        "# 配列の各要素を同時に比較する\n",
        "matched = (yt == yp)\n",
        "print(matched)"
      ],
      "metadata": {
        "id": "okr-jzlHVT6p"
      },
      "execution_count": null,
      "outputs": []
    },
    {
      "cell_type": "code",
      "source": [
        "# 更にこの結果にsum関数をかける\n",
        "# 対象変数がブーリアン型の場合 True→1 False→0に変換される\n",
        "# 一致数のカウント方法\n",
        "correct = matched.sum()\n",
        "\n",
        "# 全体数はlen(correct)で計算可能\n",
        "total = len(matched)\n",
        "\n",
        "# 精度の計算\n",
        "accuracy = correct/total\n",
        "\n",
        "print('一致数: ', correct, '全体数: ', total,  '一致率: ', accuracy)"
      ],
      "metadata": {
        "id": "VGx1Qr-DVX_x"
      },
      "execution_count": null,
      "outputs": []
    },
    {
      "cell_type": "markdown",
      "source": [
        "#### ベクトルの数値を一次関数で変換して[0, 1]の範囲に収める"
      ],
      "metadata": {
        "id": "TqedATdDWZGy"
      }
    },
    {
      "cell_type": "code",
      "source": [
        "# 元変数\n",
        "n1 = np.array([1, 7, 5, 2])\n",
        "print(n1)\n",
        "\n",
        "# 最大値と最小値を集約関数で取得\n",
        "n1_max = n1.max()\n",
        "n1_min = n1.min()\n",
        "print(n1_max, n1_min)"
      ],
      "metadata": {
        "id": "egSR_NwrVcfX"
      },
      "execution_count": null,
      "outputs": []
    },
    {
      "cell_type": "code",
      "source": [
        "# 変換(ブロードキャスト機能の利用)\n",
        "n15 = (n1 - n1_min) / (n1_max - n1_min)\n",
        "print(n15)"
      ],
      "metadata": {
        "id": "42jeJWY7Wl7M"
      },
      "execution_count": null,
      "outputs": []
    },
    {
      "cell_type": "markdown",
      "source": [
        "### 演習問題\n",
        "行列 n2の最初の列の値が3で割り切れない行を残し、割り切れた行を消す処理をします。  \n",
        "その処理の結果、残された行をまとめて新しい行列を作ってください。"
      ],
      "metadata": {
        "id": "eudjDCjBWxCV"
      }
    },
    {
      "cell_type": "code",
      "source": [
        "# array関数による表形式の変数の定義\n",
        "n2 = np.array([\n",
        "    [1, 2, 3, 4],\n",
        "    [5, 6, 7, 8],\n",
        "    [9, 10, 11, 12]\n",
        "])\n",
        "\n",
        "# n2の最初の列を抽出し、ベクトル変数a1とします。\n",
        "a1 = \n",
        "print(a1)\n",
        "\n",
        "# ブロードキャスト機能を用いて、a1の各要素が\n",
        "# 3で割った余りを示す配列a2を計算します\n",
        "a2 =\n",
        "print(a2)\n",
        "\n",
        "# 再度ブロードキャスト機能を用いて、a1の各要素が\n",
        "# 3で割り切れるかどうかを示す配列a3を作ります\n",
        "a3 = \n",
        "print(a3)\n",
        "\n",
        "# 変数a3を用いて、　n2から必要な行だけを残す計算をし\n",
        "# 結果をa4に代入します。\n",
        "a4 =\n",
        "print(a4)"
      ],
      "metadata": {
        "id": "rIU5ePe8Wpdu"
      },
      "execution_count": null,
      "outputs": []
    },
    {
      "cell_type": "code",
      "source": [],
      "metadata": {
        "id": "sPHCuXLuW5RU"
      },
      "execution_count": null,
      "outputs": []
    }
  ]
}