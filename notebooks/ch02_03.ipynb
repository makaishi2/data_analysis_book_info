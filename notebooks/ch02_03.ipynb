{
  "nbformat": 4,
  "nbformat_minor": 0,
  "metadata": {
    "colab": {
      "provenance": [],
      "collapsed_sections": [],
      "toc_visible": true
    },
    "kernelspec": {
      "name": "python3",
      "display_name": "Python 3"
    },
    "language_info": {
      "name": "python"
    }
  },
  "cells": [
    {
      "cell_type": "markdown",
      "source": [
        "## 2.3 Matplotlib入門"
      ],
      "metadata": {
        "id": "VO5CrofsmY4D"
      }
    },
    {
      "cell_type": "markdown",
      "source": [
        "### 2.3.2 ライブラリの利用と日本語化"
      ],
      "metadata": {
        "id": "VIVQupQWrchT"
      }
    },
    {
      "cell_type": "code",
      "source": [
        "# 事前処理\n",
        "\n",
        "# 必要ライブラリのimport\n",
        "import numpy as np\n",
        "\n",
        "# NumPy表示形式の設定\n",
        "np.set_printoptions(\n",
        "    suppress=True, precision=4, floatmode='fixed'\n",
        ")"
      ],
      "metadata": {
        "id": "uuUeYQ6kozBb"
      },
      "execution_count": null,
      "outputs": []
    },
    {
      "cell_type": "code",
      "source": [
        "# 日本語化ライブラリ導入\n",
        "!pip install japanize-matplotlib | tail -n 1"
      ],
      "metadata": {
        "id": "vu7oNbwYrooS"
      },
      "execution_count": null,
      "outputs": []
    },
    {
      "cell_type": "code",
      "source": [
        "# Matplotlib中のpyplotライブラリのインポート\n",
        "import matplotlib.pyplot as plt\n",
        "\n",
        "# matplotlib日本語化対応ライブラリのインポート\n",
        "import japanize_matplotlib"
      ],
      "metadata": {
        "id": "3cgSK-Gx-O4a"
      },
      "execution_count": null,
      "outputs": []
    },
    {
      "cell_type": "code",
      "source": [
        "# グラフのデフォルトフォント指定\n",
        "plt.rcParams[\"font.size\"] = 14\n",
        "\n",
        "# サイズ設定\n",
        "plt.rcParams['figure.figsize'] = (6, 6)"
      ],
      "metadata": {
        "id": "MxpPCirB-dMB"
      },
      "execution_count": null,
      "outputs": []
    },
    {
      "cell_type": "markdown",
      "source": [
        "### 2.3.3 scatter(散布図)"
      ],
      "metadata": {
        "id": "n7RGkqJUr1oD"
      }
    },
    {
      "cell_type": "markdown",
      "source": [
        "#### データ準備"
      ],
      "metadata": {
        "id": "FqEitLyD5Fr8"
      }
    },
    {
      "cell_type": "code",
      "source": [
        "# グラフ描画用のデータをライブラリを用いて取得する\n",
        "from sklearn.datasets import load_iris\n",
        "iris = load_iris()\n",
        "x, y = iris.data, iris.target\n",
        "columns = iris.feature_names\n",
        "\n",
        "# x, y, columnsの型を確認\n",
        "print(type(x), type(y), type(columns))"
      ],
      "metadata": {
        "id": "ouJJbmvuo7Kd"
      },
      "execution_count": null,
      "outputs": []
    },
    {
      "cell_type": "code",
      "source": [
        "# 読み込んだデータの確認\n",
        "\n",
        "# xとyのshape確認\n",
        "print(x.shape, y.shape)\n",
        "\n",
        "# xの先頭5行\n",
        "print(x[:5])\n",
        "\n",
        "# yの先頭5行\n",
        "print(y[:5])\n",
        "\n",
        "# columnsの内容\n",
        "print(columns)"
      ],
      "metadata": {
        "id": "dP29zLePpa6H"
      },
      "execution_count": null,
      "outputs": []
    },
    {
      "cell_type": "markdown",
      "source": [
        "#### 簡単な散布図"
      ],
      "metadata": {
        "id": "LiVWUyXZ5Lt2"
      }
    },
    {
      "cell_type": "code",
      "source": [
        "# 簡単な散布図\n",
        "\n",
        "# scatter関数呼び出し\n",
        "plt.scatter(x[:,0], x[:,2])\n",
        "\n",
        "# 描画\n",
        "plt.show()"
      ],
      "metadata": {
        "id": "qOQGLWwEpcks"
      },
      "execution_count": null,
      "outputs": []
    },
    {
      "cell_type": "markdown",
      "source": [
        "#### やや複雑な散布図"
      ],
      "metadata": {
        "id": "6cWNQtfh5RHs"
      }
    },
    {
      "cell_type": "code",
      "source": [
        "#　やや複雑な散布図\n",
        "\n",
        "# scatter関数呼び出し　（yの値で色を変える）\n",
        "plt.scatter(x[:,0], x[:,2], c=y, cmap='rainbow')\n",
        "\n",
        "# 方眼表示\n",
        "plt.grid()\n",
        "\n",
        "# 軸名称表示\n",
        "plt.xlabel(columns[0])\n",
        "plt.ylabel(columns[2])\n",
        "\n",
        "# タイトル表示\n",
        "plt.title('アイリスデータセットによる散布図')\n",
        "\n",
        "# 描画\n",
        "plt.show()"
      ],
      "metadata": {
        "id": "OtWSmVYFpxz4"
      },
      "execution_count": null,
      "outputs": []
    },
    {
      "cell_type": "markdown",
      "source": [
        "### 2.3.4 plot(関数グラフ)"
      ],
      "metadata": {
        "id": "9y9tmqOus3wp"
      }
    },
    {
      "cell_type": "markdown",
      "source": [
        "#### データ準備"
      ],
      "metadata": {
        "id": "3RdtP6K05X1q"
      }
    },
    {
      "cell_type": "code",
      "source": [
        "# xの配列の準備\n",
        "x = np.linspace(0, 2, 11)\n",
        "print(x)\n",
        "\n",
        "# y=sqrt(x)の計算\n",
        "y = np.sqrt(x)\n",
        "print(y)"
      ],
      "metadata": {
        "id": "HiTYzYhCaDCY"
      },
      "execution_count": null,
      "outputs": []
    },
    {
      "cell_type": "markdown",
      "source": [
        "#### 簡単な関数グラフ"
      ],
      "metadata": {
        "id": "uJ7FJcOX5fNx"
      }
    },
    {
      "cell_type": "code",
      "source": [
        "# 簡単な関数グラフ描画\n",
        "\n",
        "# plot関数呼び出し\n",
        "plt.plot(x, y)\n",
        "\n",
        "# 描画\n",
        "plt.show()"
      ],
      "metadata": {
        "id": "Ia83F8nPwGcP"
      },
      "execution_count": null,
      "outputs": []
    },
    {
      "cell_type": "markdown",
      "source": [
        "#### やや複雑な関数グラフ"
      ],
      "metadata": {
        "id": "7nybu0Uu5lCb"
      }
    },
    {
      "cell_type": "code",
      "source": [
        "# データ準備\n",
        "\n",
        "# xの配列の準備\n",
        "x = np.linspace(0, 2, 101)\n",
        "\n",
        "# yの配列の準備\n",
        "y1 = np.sqrt(x) # ルート関数\n",
        "y2 = x ** 2    # ２次関数"
      ],
      "metadata": {
        "id": "_CGsqV8yyuhf"
      },
      "execution_count": null,
      "outputs": []
    },
    {
      "cell_type": "code",
      "source": [
        "# やや複雑な関数グラフの描画\n",
        "\n",
        "# plot関数を2回続けて呼び出すと重ね描きになる\n",
        "# label引数は、凡例表示をする場合に必要\n",
        "plt.plot(x, y1, label='ルート関数')\n",
        "plt.plot(x, y2, label='2次関数')\n",
        "\n",
        "# 凡例表示\n",
        "plt.legend()\n",
        "\n",
        "plt.grid()\n",
        "plt.xlabel('x')\n",
        "plt.ylabel('y')\n",
        "plt.title('2つの関数グラフの重ね描き')\n",
        "plt.show()"
      ],
      "metadata": {
        "id": "TyXb8TWKwZUE"
      },
      "execution_count": null,
      "outputs": []
    },
    {
      "cell_type": "markdown",
      "source": [
        "### 2.3.5 複数グラフ表示"
      ],
      "metadata": {
        "id": "uhfBkvxFz2Aw"
      }
    },
    {
      "cell_type": "markdown",
      "source": [
        "#### データ準備"
      ],
      "metadata": {
        "id": "r-VfxODl5unZ"
      }
    },
    {
      "cell_type": "code",
      "source": [
        "from sklearn.datasets import load_iris\n",
        "iris = load_iris()\n",
        "x, y = iris.data, iris.target\n",
        "columns = iris.feature_names\n",
        "print(x[:5])"
      ],
      "metadata": {
        "id": "XoS6kScDwnrE"
      },
      "execution_count": null,
      "outputs": []
    },
    {
      "cell_type": "markdown",
      "source": [
        "#### 複数グラフ描画"
      ],
      "metadata": {
        "id": "Q_oOpjXK5yHn"
      }
    },
    {
      "cell_type": "code",
      "source": [
        "# サイズ指定\n",
        "plt.figure(figsize=(15, 5))\n",
        "\n",
        "# 3回ループを回す\n",
        "for i in range(1, 4): \n",
        "    \n",
        "    # i 番目のax変数取得\n",
        "    ax = plt.subplot(1, 3, i)\n",
        "    \n",
        "    # 散布図表示\n",
        "    ax.scatter(x[:,0], x[:,i], c=y, cmap='rainbow')\n",
        "    \n",
        "    # タイトル表示\n",
        "    ax.set_title(columns[0] + ' vs ' + columns[i])\n",
        "    \n",
        "    ax.grid()    \n",
        "# 隣接オブジェクトとぶつからないようにする\n",
        "plt.tight_layout()\n",
        "\n",
        "# 表示\n",
        "plt.show() "
      ],
      "metadata": {
        "id": "olp-TZCx0FvA"
      },
      "execution_count": null,
      "outputs": []
    },
    {
      "cell_type": "markdown",
      "source": [
        "### 演習問題\n",
        " アイリスデータセットの変数x, y, columnsを前提に、4つの項目すべての組み合わせで、 4x4の散布図を表示するプログラムをコーディングしなさい。  \n",
        "(ヒント) Matplotlibのsubplot関数を利用します。  \n",
        "同じ項目同士の散布図は統計的には意味がないのですが、実装を簡単にするため、そのまま表示して構わないものとします。\n"
      ],
      "metadata": {
        "id": "Np1LhBOpP9wm"
      }
    },
    {
      "cell_type": "code",
      "source": [
        "# 項目数の計算\n",
        "N = x.shape[1]\n",
        "\n",
        "# figsize計算用パラメータ(1要素あたりの大きさ)\n",
        "u = 5\n",
        "\n",
        "#  描画領域全体の設定\n",
        "plt.figure(figsize=(u*N, u*N))\n",
        "\n",
        "for i in range(N):\n",
        "    for j in range(N):\n",
        "         # この部分をコーディングします\n",
        "\n",
        "\n",
        "\n",
        "\n",
        "\n",
        "# 隣接オブジェクトとぶつからないようにする\n",
        "plt.tight_layout()\n",
        "\n",
        "# 表示\n",
        "plt.show() "
      ],
      "metadata": {
        "id": "AklwQU8tQCVB"
      },
      "execution_count": null,
      "outputs": []
    }
  ]
}