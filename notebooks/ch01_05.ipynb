{
  "cells": [
    {
      "cell_type": "markdown",
      "metadata": {
        "id": "-RaJ1j1ZrVlm"
      },
      "source": [
        "## 1.5 比較・論理演算と条件分岐"
      ]
    },
    {
      "cell_type": "markdown",
      "metadata": {
        "id": "_X3sBmm3sPb9"
      },
      "source": [
        "### 1.5.1 比較演算"
      ]
    },
    {
      "cell_type": "code",
      "execution_count": null,
      "metadata": {
        "id": "SceIt5NWsOhX"
      },
      "outputs": [],
      "source": [
        "# 変数xに1を代入\n",
        "x = 1\n",
        "\n",
        "# xの値は10より小さいか\n",
        "c = x < 10\n",
        "\n",
        "# 結果確認\n",
        "print(c)"
      ]
    },
    {
      "cell_type": "code",
      "execution_count": null,
      "metadata": {
        "id": "q6MHkw3tsOvr"
      },
      "outputs": [],
      "source": [
        "# 今度はxに10を代入\n",
        "x = 10\n",
        "\n",
        "# xの値は10より小さいか\n",
        "c = x < 10\n",
        "\n",
        "# 結果確認\n",
        "print(c)"
      ]
    },
    {
      "cell_type": "markdown",
      "metadata": {
        "id": "K3Xw8mMCsVkZ"
      },
      "source": [
        "### 1.5.2 論理演算"
      ]
    },
    {
      "cell_type": "code",
      "execution_count": null,
      "metadata": {
        "id": "AVGC3BFnsfAT"
      },
      "outputs": [],
      "source": [
        "# xの値を10に設定\n",
        "x = 10\n",
        "\n",
        "# xは10以上でかつ奇数\n",
        "c = (x >= 10) and (x % 2 == 1)\n",
        "\n",
        "print(c)"
      ]
    },
    {
      "cell_type": "markdown",
      "metadata": {
        "id": "baPHUIE2IHB2"
      },
      "source": [
        "### 1.5.3 条件分岐"
      ]
    },
    {
      "cell_type": "code",
      "execution_count": null,
      "metadata": {
        "id": "ia1gwzeCXW71"
      },
      "outputs": [],
      "source": [
        "# 条件分岐　ifパターン\n",
        "\n",
        "# 変数xに整数値を代入\n",
        "x = 123\n",
        "\n",
        "# xは奇数か\n",
        "if x % 2 == 1:\n",
        "    # xが奇数の場合の処理\n",
        "    print('xは奇数')\n",
        "\n",
        "# 次のprint関数は条件分岐の結果に関係なく実行される\n",
        "print('x = ', x)"
      ]
    },
    {
      "cell_type": "code",
      "execution_count": null,
      "metadata": {
        "id": "A2ItRU8OILMA"
      },
      "outputs": [],
      "source": [
        "# 条件分岐　if-elseパターン\n",
        "\n",
        "# 変数xに整数値を代入\n",
        "x = 122\n",
        "\n",
        "# xは奇数か\n",
        "if x % 2 == 1:\n",
        "    # xが奇数の場合の処理\n",
        "    print('xは奇数')\n",
        "    print('x = ', x)\n",
        "else:\n",
        "    # xが偶数の場合の処理\n",
        "    print('xは偶数')"
      ]
    },
    {
      "cell_type": "code",
      "execution_count": null,
      "metadata": {
        "id": "VAPAJuT8ILV4"
      },
      "outputs": [],
      "source": [
        "# 条件分岐　if-elif-elseパターン\n",
        "\n",
        "# 変数xに整数値を代入\n",
        "x = 123\n",
        "\n",
        "# xを3で割った余りを変数ｍに代入\n",
        "m = x % 3\n",
        "\n",
        "# xは3の倍数か\n",
        "if m == 0:\n",
        "    # xが3の倍数の場合の処理\n",
        "    print('xは3の倍数')\n",
        "    print('x = ', x)\n",
        "elif m == 1:\n",
        "    # xを3で割った余りが1の場合の処理\n",
        "    print('x+2は3の倍数')\n",
        "    print('x + 2 =', x + 2)\n",
        "else:\n",
        "    # xを3で割った余りが2の場合の処理\n",
        "    print('x+1は3の倍数')\n",
        "    print('x + 1 = ', x + 1)"
      ]
    },
    {
      "cell_type": "markdown",
      "metadata": {
        "id": "5GZcIrMQssQf"
      },
      "source": [
        "### 演習問題"
      ]
    },
    {
      "cell_type": "markdown",
      "metadata": {
        "id": "Ky74_Qj-yzi6"
      },
      "source": [
        "#### 問題 \n",
        "　　1. 変数xに12を代入します。  \n",
        "　次にコード1-5-3を参考に、「xが10以上でかつxは3で割り切れる」を判断する論理演算の計算をして、その結果を条件分岐の条件とするようなif文を作ります。  \n",
        "上の条件を満たしている場合は、'Success!'を、満たしていない場合は'Fail!'をprint関数で出力するようにして下さい。  \n",
        "　正しくコーディングできている場合、結果は'Success!' になるはずなので、それを確認します。  \n",
        "\n",
        "　2. 変数 xの値を9, 13, 15に変更した場合、結果がそれぞれどうなるか確認します。  \n"
      ]
    },
    {
      "cell_type": "code",
      "execution_count": null,
      "metadata": {
        "id": "nV6mWzBcsweS"
      },
      "outputs": [],
      "source": [
        "# 変数xに12を代入します\n",
        "\n",
        "\n",
        "# 「xが10以上でかつxは3で割り切れる」を条件にしたif文を作ります\n",
        "\n",
        "#　上の条件を満たした場合の処理\n",
        "\n",
        "\n",
        "# 「それ以外の場合」の条件\n",
        "\n",
        "# 上の条件を満たさない場合の処理\n"
      ]
    },
    {
      "cell_type": "code",
      "execution_count": null,
      "metadata": {
        "id": "xtS-eT8xsxwl"
      },
      "outputs": [],
      "source": []
    }
  ],
  "metadata": {
    "colab": {
      "collapsed_sections": [],
      "provenance": [],
      "toc_visible": true
    },
    "kernelspec": {
      "display_name": "Python 3.8.2 64-bit",
      "language": "python",
      "name": "python3"
    },
    "language_info": {
      "codemirror_mode": {
        "name": "ipython",
        "version": 3
      },
      "file_extension": ".py",
      "mimetype": "text/x-python",
      "name": "python",
      "nbconvert_exporter": "python",
      "pygments_lexer": "ipython3",
      "version": "3.8.2"
    },
    "vscode": {
      "interpreter": {
        "hash": "31f2aee4e71d21fbe5cf8b01ff0e069b9275f58929596ceb00d14d90e3e16cd6"
      }
    }
  },
  "nbformat": 4,
  "nbformat_minor": 0
}